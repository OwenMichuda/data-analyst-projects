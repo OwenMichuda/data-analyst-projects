{
 "cells": [
  {
   "cell_type": "code",
   "execution_count": 25,
   "id": "fb2ea6d5-1020-4346-bafa-9ad66d643caf",
   "metadata": {},
   "outputs": [],
   "source": [
    "import numpy as np\n",
    "import pandas as pd\n",
    "import plotly.express as px"
   ]
  },
  {
   "cell_type": "code",
   "execution_count": 26,
   "id": "23445b14-3452-43d9-a186-dda92c75a2e5",
   "metadata": {},
   "outputs": [],
   "source": [
    "file_path = 'Data/SupplyChainGHGEmissionFactors_v1.2_NAICS_CO2e_USD2021.csv'\n",
    "df = pd.read_csv(file_path)"
   ]
  },
  {
   "cell_type": "markdown",
   "id": "3ed77292-39a3-4bd2-8545-817b2a49d845",
   "metadata": {},
   "source": [
    "# Supply Chain Factors Format specifications\n",
    "\n",
    "This was pulled from: https://github.com/USEPA/supply-chain-factors/blob/4b813e5a776fc14c7faffff98311e81ea7b69e6d/format-specs/README.md\n",
    "\n",
    "Field Name | Definition\n",
    "--- | ---\n",
    "2017 NAICS Code | The [2017 North American Industry Classification Code](https://www.census.gov/naics/?58967?yearbck=2017) for the Factor\n",
    "2017 NAICS Title | The [2017 North American Industry Classification Desciption](https://www.census.gov/naics/?58967?yearbck=2017) for the Factor\n",
    "GHG | Greenhouse Gas name\n",
    "Unit | A Metric System Unit\n",
    "Supply Chain Emission Factors without Margins | Direct and indirect GHG emission intensity associated with production of commodity from cradle to the point of production\n",
    "Margins of Supply Chain Emission Factors | Direct and indirect GHG emissions associated with production of   commodity from the point of production to the point of sale\n",
    "Supply Chain Emission Factors with Margins | Direct and indirect GHG emissions associated with production of commodity from cradle to the point of sale\n",
    "Reference USEEIO Code | Unique Code for [USEEIO v2.0](https://edg.epa.gov/metadata/catalog/search/resource/details.page?uuid=%7B487BC831-778F-461B-B74C-1A2CAE14CDD9%7D) commodity\n"
   ]
  },
  {
   "cell_type": "code",
   "execution_count": 27,
   "id": "7504fe00-df87-4db1-89cf-456b97f70e31",
   "metadata": {},
   "outputs": [
    {
     "data": {
      "text/html": [
       "<div>\n",
       "<style scoped>\n",
       "    .dataframe tbody tr th:only-of-type {\n",
       "        vertical-align: middle;\n",
       "    }\n",
       "\n",
       "    .dataframe tbody tr th {\n",
       "        vertical-align: top;\n",
       "    }\n",
       "\n",
       "    .dataframe thead th {\n",
       "        text-align: right;\n",
       "    }\n",
       "</style>\n",
       "<table border=\"1\" class=\"dataframe\">\n",
       "  <thead>\n",
       "    <tr style=\"text-align: right;\">\n",
       "      <th></th>\n",
       "      <th>2017 NAICS Code</th>\n",
       "      <th>2017 NAICS Title</th>\n",
       "      <th>GHG</th>\n",
       "      <th>Unit</th>\n",
       "      <th>Supply Chain Emission Factors without Margins</th>\n",
       "      <th>Margins of Supply Chain Emission Factors</th>\n",
       "      <th>Supply Chain Emission Factors with Margins</th>\n",
       "      <th>Reference USEEIO Code</th>\n",
       "    </tr>\n",
       "  </thead>\n",
       "  <tbody>\n",
       "    <tr>\n",
       "      <th>865</th>\n",
       "      <td>562212</td>\n",
       "      <td>Solid Waste Landfill</td>\n",
       "      <td>All GHGs</td>\n",
       "      <td>kg CO2e/2021 USD, purchaser price</td>\n",
       "      <td>10.989</td>\n",
       "      <td>0.000</td>\n",
       "      <td>10.989</td>\n",
       "      <td>562212</td>\n",
       "    </tr>\n",
       "    <tr>\n",
       "      <th>285</th>\n",
       "      <td>327310</td>\n",
       "      <td>Cement Manufacturing</td>\n",
       "      <td>All GHGs</td>\n",
       "      <td>kg CO2e/2021 USD, purchaser price</td>\n",
       "      <td>3.768</td>\n",
       "      <td>0.090</td>\n",
       "      <td>3.858</td>\n",
       "      <td>327310</td>\n",
       "    </tr>\n",
       "    <tr>\n",
       "      <th>31</th>\n",
       "      <td>112112</td>\n",
       "      <td>Cattle Feedlots</td>\n",
       "      <td>All GHGs</td>\n",
       "      <td>kg CO2e/2021 USD, purchaser price</td>\n",
       "      <td>3.227</td>\n",
       "      <td>0.071</td>\n",
       "      <td>3.298</td>\n",
       "      <td>1121A0</td>\n",
       "    </tr>\n",
       "    <tr>\n",
       "      <th>30</th>\n",
       "      <td>112111</td>\n",
       "      <td>Beef Cattle Ranching and Farming</td>\n",
       "      <td>All GHGs</td>\n",
       "      <td>kg CO2e/2021 USD, purchaser price</td>\n",
       "      <td>3.227</td>\n",
       "      <td>0.071</td>\n",
       "      <td>3.298</td>\n",
       "      <td>1121A0</td>\n",
       "    </tr>\n",
       "    <tr>\n",
       "      <th>33</th>\n",
       "      <td>112130</td>\n",
       "      <td>Dual-Purpose Cattle Ranching and Farming</td>\n",
       "      <td>All GHGs</td>\n",
       "      <td>kg CO2e/2021 USD, purchaser price</td>\n",
       "      <td>3.227</td>\n",
       "      <td>0.071</td>\n",
       "      <td>3.298</td>\n",
       "      <td>1121A0</td>\n",
       "    </tr>\n",
       "    <tr>\n",
       "      <th>2</th>\n",
       "      <td>111130</td>\n",
       "      <td>Dry Pea and Bean Farming</td>\n",
       "      <td>All GHGs</td>\n",
       "      <td>kg CO2e/2021 USD, purchaser price</td>\n",
       "      <td>2.874</td>\n",
       "      <td>0.134</td>\n",
       "      <td>3.007</td>\n",
       "      <td>1111B0</td>\n",
       "    </tr>\n",
       "    <tr>\n",
       "      <th>3</th>\n",
       "      <td>111140</td>\n",
       "      <td>Wheat Farming</td>\n",
       "      <td>All GHGs</td>\n",
       "      <td>kg CO2e/2021 USD, purchaser price</td>\n",
       "      <td>2.874</td>\n",
       "      <td>0.134</td>\n",
       "      <td>3.007</td>\n",
       "      <td>1111B0</td>\n",
       "    </tr>\n",
       "    <tr>\n",
       "      <th>4</th>\n",
       "      <td>111150</td>\n",
       "      <td>Corn Farming</td>\n",
       "      <td>All GHGs</td>\n",
       "      <td>kg CO2e/2021 USD, purchaser price</td>\n",
       "      <td>2.874</td>\n",
       "      <td>0.134</td>\n",
       "      <td>3.007</td>\n",
       "      <td>1111B0</td>\n",
       "    </tr>\n",
       "    <tr>\n",
       "      <th>5</th>\n",
       "      <td>111160</td>\n",
       "      <td>Rice Farming</td>\n",
       "      <td>All GHGs</td>\n",
       "      <td>kg CO2e/2021 USD, purchaser price</td>\n",
       "      <td>2.874</td>\n",
       "      <td>0.134</td>\n",
       "      <td>3.007</td>\n",
       "      <td>1111B0</td>\n",
       "    </tr>\n",
       "    <tr>\n",
       "      <th>6</th>\n",
       "      <td>111191</td>\n",
       "      <td>Oilseed and Grain Combination Farming</td>\n",
       "      <td>All GHGs</td>\n",
       "      <td>kg CO2e/2021 USD, purchaser price</td>\n",
       "      <td>2.874</td>\n",
       "      <td>0.134</td>\n",
       "      <td>3.007</td>\n",
       "      <td>1111B0</td>\n",
       "    </tr>\n",
       "  </tbody>\n",
       "</table>\n",
       "</div>"
      ],
      "text/plain": [
       "     2017 NAICS Code                          2017 NAICS Title       GHG  \\\n",
       "865           562212                      Solid Waste Landfill  All GHGs   \n",
       "285           327310                      Cement Manufacturing  All GHGs   \n",
       "31            112112                           Cattle Feedlots  All GHGs   \n",
       "30            112111          Beef Cattle Ranching and Farming  All GHGs   \n",
       "33            112130  Dual-Purpose Cattle Ranching and Farming  All GHGs   \n",
       "2             111130                  Dry Pea and Bean Farming  All GHGs   \n",
       "3             111140                             Wheat Farming  All GHGs   \n",
       "4             111150                              Corn Farming  All GHGs   \n",
       "5             111160                              Rice Farming  All GHGs   \n",
       "6             111191     Oilseed and Grain Combination Farming  All GHGs   \n",
       "\n",
       "                                  Unit  \\\n",
       "865  kg CO2e/2021 USD, purchaser price   \n",
       "285  kg CO2e/2021 USD, purchaser price   \n",
       "31   kg CO2e/2021 USD, purchaser price   \n",
       "30   kg CO2e/2021 USD, purchaser price   \n",
       "33   kg CO2e/2021 USD, purchaser price   \n",
       "2    kg CO2e/2021 USD, purchaser price   \n",
       "3    kg CO2e/2021 USD, purchaser price   \n",
       "4    kg CO2e/2021 USD, purchaser price   \n",
       "5    kg CO2e/2021 USD, purchaser price   \n",
       "6    kg CO2e/2021 USD, purchaser price   \n",
       "\n",
       "     Supply Chain Emission Factors without Margins  \\\n",
       "865                                         10.989   \n",
       "285                                          3.768   \n",
       "31                                           3.227   \n",
       "30                                           3.227   \n",
       "33                                           3.227   \n",
       "2                                            2.874   \n",
       "3                                            2.874   \n",
       "4                                            2.874   \n",
       "5                                            2.874   \n",
       "6                                            2.874   \n",
       "\n",
       "     Margins of Supply Chain Emission Factors  \\\n",
       "865                                     0.000   \n",
       "285                                     0.090   \n",
       "31                                      0.071   \n",
       "30                                      0.071   \n",
       "33                                      0.071   \n",
       "2                                       0.134   \n",
       "3                                       0.134   \n",
       "4                                       0.134   \n",
       "5                                       0.134   \n",
       "6                                       0.134   \n",
       "\n",
       "     Supply Chain Emission Factors with Margins Reference USEEIO Code  \n",
       "865                                      10.989                562212  \n",
       "285                                       3.858                327310  \n",
       "31                                        3.298                1121A0  \n",
       "30                                        3.298                1121A0  \n",
       "33                                        3.298                1121A0  \n",
       "2                                         3.007                1111B0  \n",
       "3                                         3.007                1111B0  \n",
       "4                                         3.007                1111B0  \n",
       "5                                         3.007                1111B0  \n",
       "6                                         3.007                1111B0  "
      ]
     },
     "execution_count": 27,
     "metadata": {},
     "output_type": "execute_result"
    }
   ],
   "source": [
    "sorted_df = df.sort_values(by='Supply Chain Emission Factors with Margins', ascending=False)\n",
    "sorted_df.head(10)"
   ]
  },
  {
   "cell_type": "code",
   "execution_count": 28,
   "id": "1563e995-27fe-4f5c-9d5b-68831c1ca7c5",
   "metadata": {},
   "outputs": [],
   "source": [
    "# Let's add a column that denotes which sector according to https://www.census.gov/naics/?58967?yearbck=2017\n",
    "sectors_dict = {\n",
    "    11: 'Agriculture, Forestry, Fishing and Hunting',\n",
    "    21: 'Mining, Quarrying, and Oil and Gas Extraction',\n",
    "    22: 'Utilities',\n",
    "    23: 'Construction',\n",
    "    31: 'Manufacturing',\n",
    "    32: 'Manufacturing',\n",
    "    33: 'Manufacturing',\n",
    "    42: 'Wholesale Trade',\n",
    "    44: 'Retail Trade',\n",
    "    45: 'Retail Trade',\n",
    "    48: 'Transportation and Warehousing',\n",
    "    49: 'Transportation and Warehousing',\n",
    "    51: 'Information',\n",
    "    52: 'Finance and Insurance',\n",
    "    53: 'Real Estate and Rental and Leasing',\n",
    "    54: 'Professional, Scientific, and Technical Services',\n",
    "    55: 'Management of Companies and Enterprises',\n",
    "    56: 'Administrative and Support and Waste Management and Remediation Services',\n",
    "    61: 'Educational Services',\n",
    "    62: 'Health Care and Social Assistance',\n",
    "    71: 'Arts, Entertainment, and Recreation',\n",
    "    72: 'Accommodation and Food Services',\n",
    "    81: 'Other Services (except Public Administration)',\n",
    "    92: 'Public Administration'\n",
    "}\n",
    "\n",
    "def map_sector(code):\n",
    "    first_two_digits = int(str(code)[:2])\n",
    "    return sectors_dict.get(first_two_digits, 'Unknown')\n",
    "\n",
    "# Add a new column based on the first two digits of '2017 NAICS Code'\n",
    "df['Sector'] = df['2017 NAICS Code'].apply(lambda x: map_sector(x))"
   ]
  },
  {
   "cell_type": "code",
   "execution_count": 39,
   "id": "7b00596f-7eb4-47eb-b180-482cf99c0ddb",
   "metadata": {},
   "outputs": [
    {
     "data": {
      "application/vnd.plotly.v1+json": {
       "config": {
        "plotlyServerURL": "https://plot.ly"
       },
       "data": [
        {
         "alignmentgroup": "True",
         "hovertemplate": "Sector=%{x}<br>Supply Chain Emission Factors with Margins=%{y}<extra></extra>",
         "legendgroup": "",
         "marker": {
          "color": "#636efa",
          "pattern": {
           "shape": ""
          }
         },
         "name": "",
         "offsetgroup": "",
         "orientation": "v",
         "showlegend": false,
         "textposition": "auto",
         "type": "bar",
         "x": [
          "Accommodation and Food Services",
          "Administrative and Support and Waste Management and Remediation Services",
          "Agriculture, Forestry, Fishing and Hunting",
          "Arts, Entertainment, and Recreation",
          "Construction",
          "Educational Services",
          "Finance and Insurance",
          "Health Care and Social Assistance",
          "Information",
          "Management of Companies and Enterprises",
          "Manufacturing",
          "Mining, Quarrying, and Oil and Gas Extraction",
          "Other Services (except Public Administration)",
          "Professional, Scientific, and Technical Services",
          "Real Estate and Rental and Leasing",
          "Retail Trade",
          "Transportation and Warehousing",
          "Utilities",
          "Wholesale Trade"
         ],
         "xaxis": "x",
         "y": [
          2.7159999999999997,
          23.395,
          79.33500000000001,
          3.912,
          7.843,
          2.223,
          2.822,
          5.859,
          3.365,
          0.39,
          162.038,
          24.425,
          5.232,
          5.03,
          4.812,
          10.828,
          34.419,
          2.583,
          10.963
         ],
         "yaxis": "y"
        }
       ],
       "layout": {
        "barmode": "relative",
        "height": 1000,
        "legend": {
         "tracegroupgap": 0
        },
        "template": {
         "data": {
          "bar": [
           {
            "error_x": {
             "color": "#2a3f5f"
            },
            "error_y": {
             "color": "#2a3f5f"
            },
            "marker": {
             "line": {
              "color": "#E5ECF6",
              "width": 0.5
             },
             "pattern": {
              "fillmode": "overlay",
              "size": 10,
              "solidity": 0.2
             }
            },
            "type": "bar"
           }
          ],
          "barpolar": [
           {
            "marker": {
             "line": {
              "color": "#E5ECF6",
              "width": 0.5
             },
             "pattern": {
              "fillmode": "overlay",
              "size": 10,
              "solidity": 0.2
             }
            },
            "type": "barpolar"
           }
          ],
          "carpet": [
           {
            "aaxis": {
             "endlinecolor": "#2a3f5f",
             "gridcolor": "white",
             "linecolor": "white",
             "minorgridcolor": "white",
             "startlinecolor": "#2a3f5f"
            },
            "baxis": {
             "endlinecolor": "#2a3f5f",
             "gridcolor": "white",
             "linecolor": "white",
             "minorgridcolor": "white",
             "startlinecolor": "#2a3f5f"
            },
            "type": "carpet"
           }
          ],
          "choropleth": [
           {
            "colorbar": {
             "outlinewidth": 0,
             "ticks": ""
            },
            "type": "choropleth"
           }
          ],
          "contour": [
           {
            "colorbar": {
             "outlinewidth": 0,
             "ticks": ""
            },
            "colorscale": [
             [
              0,
              "#0d0887"
             ],
             [
              0.1111111111111111,
              "#46039f"
             ],
             [
              0.2222222222222222,
              "#7201a8"
             ],
             [
              0.3333333333333333,
              "#9c179e"
             ],
             [
              0.4444444444444444,
              "#bd3786"
             ],
             [
              0.5555555555555556,
              "#d8576b"
             ],
             [
              0.6666666666666666,
              "#ed7953"
             ],
             [
              0.7777777777777778,
              "#fb9f3a"
             ],
             [
              0.8888888888888888,
              "#fdca26"
             ],
             [
              1,
              "#f0f921"
             ]
            ],
            "type": "contour"
           }
          ],
          "contourcarpet": [
           {
            "colorbar": {
             "outlinewidth": 0,
             "ticks": ""
            },
            "type": "contourcarpet"
           }
          ],
          "heatmap": [
           {
            "colorbar": {
             "outlinewidth": 0,
             "ticks": ""
            },
            "colorscale": [
             [
              0,
              "#0d0887"
             ],
             [
              0.1111111111111111,
              "#46039f"
             ],
             [
              0.2222222222222222,
              "#7201a8"
             ],
             [
              0.3333333333333333,
              "#9c179e"
             ],
             [
              0.4444444444444444,
              "#bd3786"
             ],
             [
              0.5555555555555556,
              "#d8576b"
             ],
             [
              0.6666666666666666,
              "#ed7953"
             ],
             [
              0.7777777777777778,
              "#fb9f3a"
             ],
             [
              0.8888888888888888,
              "#fdca26"
             ],
             [
              1,
              "#f0f921"
             ]
            ],
            "type": "heatmap"
           }
          ],
          "heatmapgl": [
           {
            "colorbar": {
             "outlinewidth": 0,
             "ticks": ""
            },
            "colorscale": [
             [
              0,
              "#0d0887"
             ],
             [
              0.1111111111111111,
              "#46039f"
             ],
             [
              0.2222222222222222,
              "#7201a8"
             ],
             [
              0.3333333333333333,
              "#9c179e"
             ],
             [
              0.4444444444444444,
              "#bd3786"
             ],
             [
              0.5555555555555556,
              "#d8576b"
             ],
             [
              0.6666666666666666,
              "#ed7953"
             ],
             [
              0.7777777777777778,
              "#fb9f3a"
             ],
             [
              0.8888888888888888,
              "#fdca26"
             ],
             [
              1,
              "#f0f921"
             ]
            ],
            "type": "heatmapgl"
           }
          ],
          "histogram": [
           {
            "marker": {
             "pattern": {
              "fillmode": "overlay",
              "size": 10,
              "solidity": 0.2
             }
            },
            "type": "histogram"
           }
          ],
          "histogram2d": [
           {
            "colorbar": {
             "outlinewidth": 0,
             "ticks": ""
            },
            "colorscale": [
             [
              0,
              "#0d0887"
             ],
             [
              0.1111111111111111,
              "#46039f"
             ],
             [
              0.2222222222222222,
              "#7201a8"
             ],
             [
              0.3333333333333333,
              "#9c179e"
             ],
             [
              0.4444444444444444,
              "#bd3786"
             ],
             [
              0.5555555555555556,
              "#d8576b"
             ],
             [
              0.6666666666666666,
              "#ed7953"
             ],
             [
              0.7777777777777778,
              "#fb9f3a"
             ],
             [
              0.8888888888888888,
              "#fdca26"
             ],
             [
              1,
              "#f0f921"
             ]
            ],
            "type": "histogram2d"
           }
          ],
          "histogram2dcontour": [
           {
            "colorbar": {
             "outlinewidth": 0,
             "ticks": ""
            },
            "colorscale": [
             [
              0,
              "#0d0887"
             ],
             [
              0.1111111111111111,
              "#46039f"
             ],
             [
              0.2222222222222222,
              "#7201a8"
             ],
             [
              0.3333333333333333,
              "#9c179e"
             ],
             [
              0.4444444444444444,
              "#bd3786"
             ],
             [
              0.5555555555555556,
              "#d8576b"
             ],
             [
              0.6666666666666666,
              "#ed7953"
             ],
             [
              0.7777777777777778,
              "#fb9f3a"
             ],
             [
              0.8888888888888888,
              "#fdca26"
             ],
             [
              1,
              "#f0f921"
             ]
            ],
            "type": "histogram2dcontour"
           }
          ],
          "mesh3d": [
           {
            "colorbar": {
             "outlinewidth": 0,
             "ticks": ""
            },
            "type": "mesh3d"
           }
          ],
          "parcoords": [
           {
            "line": {
             "colorbar": {
              "outlinewidth": 0,
              "ticks": ""
             }
            },
            "type": "parcoords"
           }
          ],
          "pie": [
           {
            "automargin": true,
            "type": "pie"
           }
          ],
          "scatter": [
           {
            "fillpattern": {
             "fillmode": "overlay",
             "size": 10,
             "solidity": 0.2
            },
            "type": "scatter"
           }
          ],
          "scatter3d": [
           {
            "line": {
             "colorbar": {
              "outlinewidth": 0,
              "ticks": ""
             }
            },
            "marker": {
             "colorbar": {
              "outlinewidth": 0,
              "ticks": ""
             }
            },
            "type": "scatter3d"
           }
          ],
          "scattercarpet": [
           {
            "marker": {
             "colorbar": {
              "outlinewidth": 0,
              "ticks": ""
             }
            },
            "type": "scattercarpet"
           }
          ],
          "scattergeo": [
           {
            "marker": {
             "colorbar": {
              "outlinewidth": 0,
              "ticks": ""
             }
            },
            "type": "scattergeo"
           }
          ],
          "scattergl": [
           {
            "marker": {
             "colorbar": {
              "outlinewidth": 0,
              "ticks": ""
             }
            },
            "type": "scattergl"
           }
          ],
          "scattermapbox": [
           {
            "marker": {
             "colorbar": {
              "outlinewidth": 0,
              "ticks": ""
             }
            },
            "type": "scattermapbox"
           }
          ],
          "scatterpolar": [
           {
            "marker": {
             "colorbar": {
              "outlinewidth": 0,
              "ticks": ""
             }
            },
            "type": "scatterpolar"
           }
          ],
          "scatterpolargl": [
           {
            "marker": {
             "colorbar": {
              "outlinewidth": 0,
              "ticks": ""
             }
            },
            "type": "scatterpolargl"
           }
          ],
          "scatterternary": [
           {
            "marker": {
             "colorbar": {
              "outlinewidth": 0,
              "ticks": ""
             }
            },
            "type": "scatterternary"
           }
          ],
          "surface": [
           {
            "colorbar": {
             "outlinewidth": 0,
             "ticks": ""
            },
            "colorscale": [
             [
              0,
              "#0d0887"
             ],
             [
              0.1111111111111111,
              "#46039f"
             ],
             [
              0.2222222222222222,
              "#7201a8"
             ],
             [
              0.3333333333333333,
              "#9c179e"
             ],
             [
              0.4444444444444444,
              "#bd3786"
             ],
             [
              0.5555555555555556,
              "#d8576b"
             ],
             [
              0.6666666666666666,
              "#ed7953"
             ],
             [
              0.7777777777777778,
              "#fb9f3a"
             ],
             [
              0.8888888888888888,
              "#fdca26"
             ],
             [
              1,
              "#f0f921"
             ]
            ],
            "type": "surface"
           }
          ],
          "table": [
           {
            "cells": {
             "fill": {
              "color": "#EBF0F8"
             },
             "line": {
              "color": "white"
             }
            },
            "header": {
             "fill": {
              "color": "#C8D4E3"
             },
             "line": {
              "color": "white"
             }
            },
            "type": "table"
           }
          ]
         },
         "layout": {
          "annotationdefaults": {
           "arrowcolor": "#2a3f5f",
           "arrowhead": 0,
           "arrowwidth": 1
          },
          "autotypenumbers": "strict",
          "coloraxis": {
           "colorbar": {
            "outlinewidth": 0,
            "ticks": ""
           }
          },
          "colorscale": {
           "diverging": [
            [
             0,
             "#8e0152"
            ],
            [
             0.1,
             "#c51b7d"
            ],
            [
             0.2,
             "#de77ae"
            ],
            [
             0.3,
             "#f1b6da"
            ],
            [
             0.4,
             "#fde0ef"
            ],
            [
             0.5,
             "#f7f7f7"
            ],
            [
             0.6,
             "#e6f5d0"
            ],
            [
             0.7,
             "#b8e186"
            ],
            [
             0.8,
             "#7fbc41"
            ],
            [
             0.9,
             "#4d9221"
            ],
            [
             1,
             "#276419"
            ]
           ],
           "sequential": [
            [
             0,
             "#0d0887"
            ],
            [
             0.1111111111111111,
             "#46039f"
            ],
            [
             0.2222222222222222,
             "#7201a8"
            ],
            [
             0.3333333333333333,
             "#9c179e"
            ],
            [
             0.4444444444444444,
             "#bd3786"
            ],
            [
             0.5555555555555556,
             "#d8576b"
            ],
            [
             0.6666666666666666,
             "#ed7953"
            ],
            [
             0.7777777777777778,
             "#fb9f3a"
            ],
            [
             0.8888888888888888,
             "#fdca26"
            ],
            [
             1,
             "#f0f921"
            ]
           ],
           "sequentialminus": [
            [
             0,
             "#0d0887"
            ],
            [
             0.1111111111111111,
             "#46039f"
            ],
            [
             0.2222222222222222,
             "#7201a8"
            ],
            [
             0.3333333333333333,
             "#9c179e"
            ],
            [
             0.4444444444444444,
             "#bd3786"
            ],
            [
             0.5555555555555556,
             "#d8576b"
            ],
            [
             0.6666666666666666,
             "#ed7953"
            ],
            [
             0.7777777777777778,
             "#fb9f3a"
            ],
            [
             0.8888888888888888,
             "#fdca26"
            ],
            [
             1,
             "#f0f921"
            ]
           ]
          },
          "colorway": [
           "#636efa",
           "#EF553B",
           "#00cc96",
           "#ab63fa",
           "#FFA15A",
           "#19d3f3",
           "#FF6692",
           "#B6E880",
           "#FF97FF",
           "#FECB52"
          ],
          "font": {
           "color": "#2a3f5f"
          },
          "geo": {
           "bgcolor": "white",
           "lakecolor": "white",
           "landcolor": "#E5ECF6",
           "showlakes": true,
           "showland": true,
           "subunitcolor": "white"
          },
          "hoverlabel": {
           "align": "left"
          },
          "hovermode": "closest",
          "mapbox": {
           "style": "light"
          },
          "paper_bgcolor": "white",
          "plot_bgcolor": "#E5ECF6",
          "polar": {
           "angularaxis": {
            "gridcolor": "white",
            "linecolor": "white",
            "ticks": ""
           },
           "bgcolor": "#E5ECF6",
           "radialaxis": {
            "gridcolor": "white",
            "linecolor": "white",
            "ticks": ""
           }
          },
          "scene": {
           "xaxis": {
            "backgroundcolor": "#E5ECF6",
            "gridcolor": "white",
            "gridwidth": 2,
            "linecolor": "white",
            "showbackground": true,
            "ticks": "",
            "zerolinecolor": "white"
           },
           "yaxis": {
            "backgroundcolor": "#E5ECF6",
            "gridcolor": "white",
            "gridwidth": 2,
            "linecolor": "white",
            "showbackground": true,
            "ticks": "",
            "zerolinecolor": "white"
           },
           "zaxis": {
            "backgroundcolor": "#E5ECF6",
            "gridcolor": "white",
            "gridwidth": 2,
            "linecolor": "white",
            "showbackground": true,
            "ticks": "",
            "zerolinecolor": "white"
           }
          },
          "shapedefaults": {
           "line": {
            "color": "#2a3f5f"
           }
          },
          "ternary": {
           "aaxis": {
            "gridcolor": "white",
            "linecolor": "white",
            "ticks": ""
           },
           "baxis": {
            "gridcolor": "white",
            "linecolor": "white",
            "ticks": ""
           },
           "bgcolor": "#E5ECF6",
           "caxis": {
            "gridcolor": "white",
            "linecolor": "white",
            "ticks": ""
           }
          },
          "title": {
           "x": 0.05
          },
          "xaxis": {
           "automargin": true,
           "gridcolor": "white",
           "linecolor": "white",
           "ticks": "",
           "title": {
            "standoff": 15
           },
           "zerolinecolor": "white",
           "zerolinewidth": 2
          },
          "yaxis": {
           "automargin": true,
           "gridcolor": "white",
           "linecolor": "white",
           "ticks": "",
           "title": {
            "standoff": 15
           },
           "zerolinecolor": "white",
           "zerolinewidth": 2
          }
         }
        },
        "title": {
         "text": "Aggregated Supply Chain Emission by Sector"
        },
        "width": 1100,
        "xaxis": {
         "anchor": "y",
         "autorange": true,
         "domain": [
          0,
          1
         ],
         "range": [
          -0.5,
          18.5
         ],
         "title": {
          "text": "Sector"
         },
         "type": "category"
        },
        "yaxis": {
         "anchor": "x",
         "autorange": true,
         "domain": [
          0,
          1
         ],
         "range": [
          0,
          170.5663157894737
         ],
         "title": {
          "text": "Supply Chain Emission Factors with Margins"
         },
         "type": "linear"
        }
       }
      },
      "image/png": "[encoded data removed]",
      "text/html": [
       "<div>                            <div id=\"0b00e335-92c4-426b-a7a4-46e8f359b76f\" class=\"plotly-graph-div\" style=\"height:1000px; width:1100px;\"></div>            <script type=\"text/javascript\">                require([\"plotly\"], function(Plotly) {                    window.PLOTLYENV=window.PLOTLYENV || {};                                    if (document.getElementById(\"0b00e335-92c4-426b-a7a4-46e8f359b76f\")) {                    Plotly.newPlot(                        \"0b00e335-92c4-426b-a7a4-46e8f359b76f\",                        [{\"alignmentgroup\":\"True\",\"hovertemplate\":\"Sector=%{x}\\u003cbr\\u003eSupply Chain Emission Factors with Margins=%{y}\\u003cextra\\u003e\\u003c\\u002fextra\\u003e\",\"legendgroup\":\"\",\"marker\":{\"color\":\"#636efa\",\"pattern\":{\"shape\":\"\"}},\"name\":\"\",\"offsetgroup\":\"\",\"orientation\":\"v\",\"showlegend\":false,\"textposition\":\"auto\",\"x\":[\"Accommodation and Food Services\",\"Administrative and Support and Waste Management and Remediation Services\",\"Agriculture, Forestry, Fishing and Hunting\",\"Arts, Entertainment, and Recreation\",\"Construction\",\"Educational Services\",\"Finance and Insurance\",\"Health Care and Social Assistance\",\"Information\",\"Management of Companies and Enterprises\",\"Manufacturing\",\"Mining, Quarrying, and Oil and Gas Extraction\",\"Other Services (except Public Administration)\",\"Professional, Scientific, and Technical Services\",\"Real Estate and Rental and Leasing\",\"Retail Trade\",\"Transportation and Warehousing\",\"Utilities\",\"Wholesale Trade\"],\"xaxis\":\"x\",\"y\":[2.7159999999999997,23.395,79.33500000000001,3.912,7.843,2.223,2.822,5.859,3.365,0.39,162.038,24.425,5.232,5.03,4.812,10.828,34.419,2.583,10.963],\"yaxis\":\"y\",\"type\":\"bar\"}],                        {\"template\":{\"data\":{\"histogram2dcontour\":[{\"type\":\"histogram2dcontour\",\"colorbar\":{\"outlinewidth\":0,\"ticks\":\"\"},\"colorscale\":[[0.0,\"#0d0887\"],[0.1111111111111111,\"#46039f\"],[0.2222222222222222,\"#7201a8\"],[0.3333333333333333,\"#9c179e\"],[0.4444444444444444,\"#bd3786\"],[0.5555555555555556,\"#d8576b\"],[0.6666666666666666,\"#ed7953\"],[0.7777777777777778,\"#fb9f3a\"],[0.8888888888888888,\"#fdca26\"],[1.0,\"#f0f921\"]]}],\"choropleth\":[{\"type\":\"choropleth\",\"colorbar\":{\"outlinewidth\":0,\"ticks\":\"\"}}],\"histogram2d\":[{\"type\":\"histogram2d\",\"colorbar\":{\"outlinewidth\":0,\"ticks\":\"\"},\"colorscale\":[[0.0,\"#0d0887\"],[0.1111111111111111,\"#46039f\"],[0.2222222222222222,\"#7201a8\"],[0.3333333333333333,\"#9c179e\"],[0.4444444444444444,\"#bd3786\"],[0.5555555555555556,\"#d8576b\"],[0.6666666666666666,\"#ed7953\"],[0.7777777777777778,\"#fb9f3a\"],[0.8888888888888888,\"#fdca26\"],[1.0,\"#f0f921\"]]}],\"heatmap\":[{\"type\":\"heatmap\",\"colorbar\":{\"outlinewidth\":0,\"ticks\":\"\"},\"colorscale\":[[0.0,\"#0d0887\"],[0.1111111111111111,\"#46039f\"],[0.2222222222222222,\"#7201a8\"],[0.3333333333333333,\"#9c179e\"],[0.4444444444444444,\"#bd3786\"],[0.5555555555555556,\"#d8576b\"],[0.6666666666666666,\"#ed7953\"],[0.7777777777777778,\"#fb9f3a\"],[0.8888888888888888,\"#fdca26\"],[1.0,\"#f0f921\"]]}],\"heatmapgl\":[{\"type\":\"heatmapgl\",\"colorbar\":{\"outlinewidth\":0,\"ticks\":\"\"},\"colorscale\":[[0.0,\"#0d0887\"],[0.1111111111111111,\"#46039f\"],[0.2222222222222222,\"#7201a8\"],[0.3333333333333333,\"#9c179e\"],[0.4444444444444444,\"#bd3786\"],[0.5555555555555556,\"#d8576b\"],[0.6666666666666666,\"#ed7953\"],[0.7777777777777778,\"#fb9f3a\"],[0.8888888888888888,\"#fdca26\"],[1.0,\"#f0f921\"]]}],\"contourcarpet\":[{\"type\":\"contourcarpet\",\"colorbar\":{\"outlinewidth\":0,\"ticks\":\"\"}}],\"contour\":[{\"type\":\"contour\",\"colorbar\":{\"outlinewidth\":0,\"ticks\":\"\"},\"colorscale\":[[0.0,\"#0d0887\"],[0.1111111111111111,\"#46039f\"],[0.2222222222222222,\"#7201a8\"],[0.3333333333333333,\"#9c179e\"],[0.4444444444444444,\"#bd3786\"],[0.5555555555555556,\"#d8576b\"],[0.6666666666666666,\"#ed7953\"],[0.7777777777777778,\"#fb9f3a\"],[0.8888888888888888,\"#fdca26\"],[1.0,\"#f0f921\"]]}],\"surface\":[{\"type\":\"surface\",\"colorbar\":{\"outlinewidth\":0,\"ticks\":\"\"},\"colorscale\":[[0.0,\"#0d0887\"],[0.1111111111111111,\"#46039f\"],[0.2222222222222222,\"#7201a8\"],[0.3333333333333333,\"#9c179e\"],[0.4444444444444444,\"#bd3786\"],[0.5555555555555556,\"#d8576b\"],[0.6666666666666666,\"#ed7953\"],[0.7777777777777778,\"#fb9f3a\"],[0.8888888888888888,\"#fdca26\"],[1.0,\"#f0f921\"]]}],\"mesh3d\":[{\"type\":\"mesh3d\",\"colorbar\":{\"outlinewidth\":0,\"ticks\":\"\"}}],\"scatter\":[{\"fillpattern\":{\"fillmode\":\"overlay\",\"size\":10,\"solidity\":0.2},\"type\":\"scatter\"}],\"parcoords\":[{\"type\":\"parcoords\",\"line\":{\"colorbar\":{\"outlinewidth\":0,\"ticks\":\"\"}}}],\"scatterpolargl\":[{\"type\":\"scatterpolargl\",\"marker\":{\"colorbar\":{\"outlinewidth\":0,\"ticks\":\"\"}}}],\"bar\":[{\"error_x\":{\"color\":\"#2a3f5f\"},\"error_y\":{\"color\":\"#2a3f5f\"},\"marker\":{\"line\":{\"color\":\"#E5ECF6\",\"width\":0.5},\"pattern\":{\"fillmode\":\"overlay\",\"size\":10,\"solidity\":0.2}},\"type\":\"bar\"}],\"scattergeo\":[{\"type\":\"scattergeo\",\"marker\":{\"colorbar\":{\"outlinewidth\":0,\"ticks\":\"\"}}}],\"scatterpolar\":[{\"type\":\"scatterpolar\",\"marker\":{\"colorbar\":{\"outlinewidth\":0,\"ticks\":\"\"}}}],\"histogram\":[{\"marker\":{\"pattern\":{\"fillmode\":\"overlay\",\"size\":10,\"solidity\":0.2}},\"type\":\"histogram\"}],\"scattergl\":[{\"type\":\"scattergl\",\"marker\":{\"colorbar\":{\"outlinewidth\":0,\"ticks\":\"\"}}}],\"scatter3d\":[{\"type\":\"scatter3d\",\"line\":{\"colorbar\":{\"outlinewidth\":0,\"ticks\":\"\"}},\"marker\":{\"colorbar\":{\"outlinewidth\":0,\"ticks\":\"\"}}}],\"scattermapbox\":[{\"type\":\"scattermapbox\",\"marker\":{\"colorbar\":{\"outlinewidth\":0,\"ticks\":\"\"}}}],\"scatterternary\":[{\"type\":\"scatterternary\",\"marker\":{\"colorbar\":{\"outlinewidth\":0,\"ticks\":\"\"}}}],\"scattercarpet\":[{\"type\":\"scattercarpet\",\"marker\":{\"colorbar\":{\"outlinewidth\":0,\"ticks\":\"\"}}}],\"carpet\":[{\"aaxis\":{\"endlinecolor\":\"#2a3f5f\",\"gridcolor\":\"white\",\"linecolor\":\"white\",\"minorgridcolor\":\"white\",\"startlinecolor\":\"#2a3f5f\"},\"baxis\":{\"endlinecolor\":\"#2a3f5f\",\"gridcolor\":\"white\",\"linecolor\":\"white\",\"minorgridcolor\":\"white\",\"startlinecolor\":\"#2a3f5f\"},\"type\":\"carpet\"}],\"table\":[{\"cells\":{\"fill\":{\"color\":\"#EBF0F8\"},\"line\":{\"color\":\"white\"}},\"header\":{\"fill\":{\"color\":\"#C8D4E3\"},\"line\":{\"color\":\"white\"}},\"type\":\"table\"}],\"barpolar\":[{\"marker\":{\"line\":{\"color\":\"#E5ECF6\",\"width\":0.5},\"pattern\":{\"fillmode\":\"overlay\",\"size\":10,\"solidity\":0.2}},\"type\":\"barpolar\"}],\"pie\":[{\"automargin\":true,\"type\":\"pie\"}]},\"layout\":{\"autotypenumbers\":\"strict\",\"colorway\":[\"#636efa\",\"#EF553B\",\"#00cc96\",\"#ab63fa\",\"#FFA15A\",\"#19d3f3\",\"#FF6692\",\"#B6E880\",\"#FF97FF\",\"#FECB52\"],\"font\":{\"color\":\"#2a3f5f\"},\"hovermode\":\"closest\",\"hoverlabel\":{\"align\":\"left\"},\"paper_bgcolor\":\"white\",\"plot_bgcolor\":\"#E5ECF6\",\"polar\":{\"bgcolor\":\"#E5ECF6\",\"angularaxis\":{\"gridcolor\":\"white\",\"linecolor\":\"white\",\"ticks\":\"\"},\"radialaxis\":{\"gridcolor\":\"white\",\"linecolor\":\"white\",\"ticks\":\"\"}},\"ternary\":{\"bgcolor\":\"#E5ECF6\",\"aaxis\":{\"gridcolor\":\"white\",\"linecolor\":\"white\",\"ticks\":\"\"},\"baxis\":{\"gridcolor\":\"white\",\"linecolor\":\"white\",\"ticks\":\"\"},\"caxis\":{\"gridcolor\":\"white\",\"linecolor\":\"white\",\"ticks\":\"\"}},\"coloraxis\":{\"colorbar\":{\"outlinewidth\":0,\"ticks\":\"\"}},\"colorscale\":{\"sequential\":[[0.0,\"#0d0887\"],[0.1111111111111111,\"#46039f\"],[0.2222222222222222,\"#7201a8\"],[0.3333333333333333,\"#9c179e\"],[0.4444444444444444,\"#bd3786\"],[0.5555555555555556,\"#d8576b\"],[0.6666666666666666,\"#ed7953\"],[0.7777777777777778,\"#fb9f3a\"],[0.8888888888888888,\"#fdca26\"],[1.0,\"#f0f921\"]],\"sequentialminus\":[[0.0,\"#0d0887\"],[0.1111111111111111,\"#46039f\"],[0.2222222222222222,\"#7201a8\"],[0.3333333333333333,\"#9c179e\"],[0.4444444444444444,\"#bd3786\"],[0.5555555555555556,\"#d8576b\"],[0.6666666666666666,\"#ed7953\"],[0.7777777777777778,\"#fb9f3a\"],[0.8888888888888888,\"#fdca26\"],[1.0,\"#f0f921\"]],\"diverging\":[[0,\"#8e0152\"],[0.1,\"#c51b7d\"],[0.2,\"#de77ae\"],[0.3,\"#f1b6da\"],[0.4,\"#fde0ef\"],[0.5,\"#f7f7f7\"],[0.6,\"#e6f5d0\"],[0.7,\"#b8e186\"],[0.8,\"#7fbc41\"],[0.9,\"#4d9221\"],[1,\"#276419\"]]},\"xaxis\":{\"gridcolor\":\"white\",\"linecolor\":\"white\",\"ticks\":\"\",\"title\":{\"standoff\":15},\"zerolinecolor\":\"white\",\"automargin\":true,\"zerolinewidth\":2},\"yaxis\":{\"gridcolor\":\"white\",\"linecolor\":\"white\",\"ticks\":\"\",\"title\":{\"standoff\":15},\"zerolinecolor\":\"white\",\"automargin\":true,\"zerolinewidth\":2},\"scene\":{\"xaxis\":{\"backgroundcolor\":\"#E5ECF6\",\"gridcolor\":\"white\",\"linecolor\":\"white\",\"showbackground\":true,\"ticks\":\"\",\"zerolinecolor\":\"white\",\"gridwidth\":2},\"yaxis\":{\"backgroundcolor\":\"#E5ECF6\",\"gridcolor\":\"white\",\"linecolor\":\"white\",\"showbackground\":true,\"ticks\":\"\",\"zerolinecolor\":\"white\",\"gridwidth\":2},\"zaxis\":{\"backgroundcolor\":\"#E5ECF6\",\"gridcolor\":\"white\",\"linecolor\":\"white\",\"showbackground\":true,\"ticks\":\"\",\"zerolinecolor\":\"white\",\"gridwidth\":2}},\"shapedefaults\":{\"line\":{\"color\":\"#2a3f5f\"}},\"annotationdefaults\":{\"arrowcolor\":\"#2a3f5f\",\"arrowhead\":0,\"arrowwidth\":1},\"geo\":{\"bgcolor\":\"white\",\"landcolor\":\"#E5ECF6\",\"subunitcolor\":\"white\",\"showland\":true,\"showlakes\":true,\"lakecolor\":\"white\"},\"title\":{\"x\":0.05},\"mapbox\":{\"style\":\"light\"}}},\"xaxis\":{\"anchor\":\"y\",\"domain\":[0.0,1.0],\"title\":{\"text\":\"Sector\"}},\"yaxis\":{\"anchor\":\"x\",\"domain\":[0.0,1.0],\"title\":{\"text\":\"Supply Chain Emission Factors with Margins\"}},\"legend\":{\"tracegroupgap\":0},\"title\":{\"text\":\"Aggregated Supply Chain Emission by Sector\"},\"barmode\":\"relative\",\"height\":1000,\"width\":1100},                        {\"responsive\": true}                    ).then(function(){\n",
       "                            \n",
       "var gd = document.getElementById('0b00e335-92c4-426b-a7a4-46e8f359b76f');\n",
       "var x = new MutationObserver(function (mutations, observer) {{\n",
       "        var display = window.getComputedStyle(gd).display;\n",
       "        if (!display || display === 'none') {{\n",
       "            console.log([gd, 'removed!']);\n",
       "            Plotly.purge(gd);\n",
       "            observer.disconnect();\n",
       "        }}\n",
       "}});\n",
       "\n",
       "// Listen for the removal of the full notebook cells\n",
       "var notebookContainer = gd.closest('#notebook-container');\n",
       "if (notebookContainer) {{\n",
       "    x.observe(notebookContainer, {childList: true});\n",
       "}}\n",
       "\n",
       "// Listen for the clearing of the current output cell\n",
       "var outputEl = gd.closest('.output');\n",
       "if (outputEl) {{\n",
       "    x.observe(outputEl, {childList: true});\n",
       "}}\n",
       "\n",
       "                        })                };                });            </script>        </div>"
      ]
     },
     "metadata": {},
     "output_type": "display_data"
    }
   ],
   "source": [
    "# Aggregate the values by sector (sum in this case)\n",
    "aggregated_data = df.groupby('Sector')['Supply Chain Emission Factors with Margins'].sum().reset_index()\n",
    "\n",
    "# Create Plotly plot\n",
    "fig = px.bar(aggregated_data, x='Sector', y='Supply Chain Emission Factors with Margins', title='Aggregated Supply Chain Emission by Sector', height=1000, width=1100)\n",
    "fig.show()"
   ]
  },
  {
   "cell_type": "code",
   "execution_count": 52,
   "id": "1a540747-3397-4c2e-82f7-8a5efad675b8",
   "metadata": {},
   "outputs": [
    {
     "data": {
      "application/vnd.plotly.v1+json": {
       "config": {
        "plotlyServerURL": "https://plot.ly"
       },
       "data": [
        {
         "alignmentgroup": "True",
         "customdata": [
          [
           "Soybean Farming"
          ],
          [
           "Oilseed (except Soybean) Farming"
          ],
          [
           "Dry Pea and Bean Farming"
          ],
          [
           "Wheat Farming"
          ],
          [
           "Corn Farming"
          ],
          [
           "Rice Farming"
          ],
          [
           "Oilseed and Grain Combination Farming"
          ],
          [
           "All Other Grain Farming"
          ],
          [
           "Potato Farming"
          ],
          [
           "Other Vegetable (except Potato) and Melon Farming"
          ],
          [
           "Orange Groves"
          ],
          [
           "Citrus (except Orange) Groves"
          ],
          [
           "Apple Orchards"
          ],
          [
           "Grape Vineyards"
          ],
          [
           "Strawberry Farming"
          ],
          [
           "Berry (except Strawberry) Farming"
          ],
          [
           "Tree Nut Farming"
          ],
          [
           "Fruit and Tree Nut Combination Farming"
          ],
          [
           "Other Noncitrus Fruit Farming"
          ],
          [
           "Mushroom Production"
          ],
          [
           "Other Food Crops Grown Under Cover"
          ],
          [
           "Nursery and Tree Production"
          ],
          [
           "Floriculture Production"
          ],
          [
           "Tobacco Farming"
          ],
          [
           "Cotton Farming"
          ],
          [
           "Sugarcane Farming"
          ],
          [
           "Hay Farming"
          ],
          [
           "Sugar Beet Farming"
          ],
          [
           "Peanut Farming"
          ],
          [
           "All Other Miscellaneous Crop Farming"
          ],
          [
           "Beef Cattle Ranching and Farming"
          ],
          [
           "Cattle Feedlots"
          ],
          [
           "Dairy Cattle and Milk Production"
          ],
          [
           "Dual-Purpose Cattle Ranching and Farming"
          ],
          [
           "Hog and Pig Farming"
          ],
          [
           "Chicken Egg Production"
          ],
          [
           "Broilers and Other Meat Type Chicken Production"
          ],
          [
           "Turkey Production"
          ],
          [
           "Poultry Hatcheries"
          ],
          [
           "Other Poultry Production"
          ],
          [
           "Sheep Farming"
          ],
          [
           "Goat Farming"
          ],
          [
           "Finfish Farming and Fish Hatcheries"
          ],
          [
           "Shellfish Farming"
          ],
          [
           "Other Aquaculture"
          ],
          [
           "Apiculture"
          ],
          [
           "Horses and Other Equine Production"
          ],
          [
           "Fur-Bearing Animal and Rabbit Production"
          ],
          [
           "All Other Animal Production"
          ],
          [
           "Timber Tract Operations"
          ],
          [
           "Forest Nurseries and Gathering of Forest Products"
          ],
          [
           "Logging"
          ],
          [
           "Finfish Fishing"
          ],
          [
           "Shellfish Fishing"
          ],
          [
           "Other Marine Fishing"
          ],
          [
           "Hunting and Trapping"
          ],
          [
           "Cotton Ginning"
          ],
          [
           "Soil Preparation, Planting, and Cultivating"
          ],
          [
           "Crop Harvesting, Primarily by Machine"
          ],
          [
           "Postharvest Crop Activities (except Cotton Ginning)"
          ],
          [
           "Farm Labor Contractors and Crew Leaders"
          ],
          [
           "Farm Management Services"
          ],
          [
           "Support Activities for Animal Production"
          ],
          [
           "Support Activities for Forestry"
          ],
          [
           "Crude Petroleum Extraction"
          ],
          [
           "Natural Gas Extraction"
          ],
          [
           "Bituminous Coal and Lignite Surface Mining"
          ],
          [
           "Bituminous Coal Underground Mining"
          ],
          [
           "Anthracite Mining"
          ],
          [
           "Iron Ore Mining"
          ],
          [
           "Gold Ore Mining"
          ],
          [
           "Silver Ore Mining"
          ],
          [
           "Copper, Nickel, Lead, and Zinc Mining"
          ],
          [
           "Uranium-Radium-Vanadium Ore Mining"
          ],
          [
           "All Other Metal Ore Mining"
          ],
          [
           "Dimension Stone Mining and Quarrying"
          ],
          [
           "Crushed and Broken Limestone Mining and Quarrying"
          ],
          [
           "Crushed and Broken Granite Mining and Quarrying"
          ],
          [
           "Other Crushed and Broken Stone Mining and Quarrying"
          ],
          [
           "Construction Sand and Gravel Mining"
          ],
          [
           "Industrial Sand Mining"
          ],
          [
           "Kaolin and Ball Clay Mining"
          ],
          [
           "Clay and Ceramic and Refractory Minerals Mining"
          ],
          [
           "Potash, Soda, and Borate Mineral Mining"
          ],
          [
           "Phosphate Rock Mining"
          ],
          [
           "Other Chemical and Fertilizer Mineral Mining"
          ],
          [
           "All Other Nonmetallic Mineral Mining"
          ],
          [
           "Drilling Oil and Gas Wells"
          ],
          [
           "Support Activities for Oil and Gas Operations"
          ],
          [
           "Support Activities for Coal Mining"
          ],
          [
           "Support Activities for Metal Mining"
          ],
          [
           "Support Activities for Nonmetallic Minerals (except Fuels) Mining"
          ],
          [
           "Natural Gas Distribution"
          ],
          [
           "Water Supply and Irrigation Systems"
          ],
          [
           "Sewage Treatment Facilities"
          ],
          [
           "Steam and Air-Conditioning Supply"
          ],
          [
           "New Single-Family Housing Construction (except For-Sale Builders)"
          ],
          [
           "New Multifamily Housing Construction (except For-Sale Builders)"
          ],
          [
           "New Housing For-Sale Builders"
          ],
          [
           "Residential Remodelers"
          ],
          [
           "Industrial Building Construction"
          ],
          [
           "Commercial and Institutional Building Construction"
          ],
          [
           "Water and Sewer Line and Related Structures Construction"
          ],
          [
           "Oil and Gas Pipeline and Related Structures Construction"
          ],
          [
           "Power and Communication Line and Related Structures Construction"
          ],
          [
           "Land Subdivision"
          ],
          [
           "Highway, Street, and Bridge Construction"
          ],
          [
           "Other Heavy and Civil Engineering Construction"
          ],
          [
           "Poured Concrete Foundation and Structure Contractors"
          ],
          [
           "Structural Steel and Precast Concrete Contractors"
          ],
          [
           "Framing Contractors"
          ],
          [
           "Masonry Contractors"
          ],
          [
           "Glass and Glazing Contractors"
          ],
          [
           "Roofing Contractors"
          ],
          [
           "Siding Contractors"
          ],
          [
           "Other Foundation, Structure, and Building Exterior Contractors"
          ],
          [
           "Electrical Contractors and Other Wiring Installation Contractors"
          ],
          [
           "Plumbing, Heating, and Air-Conditioning Contractors"
          ],
          [
           "Other Building Equipment Contractors"
          ],
          [
           "Drywall and Insulation Contractors"
          ],
          [
           "Painting and Wall Covering Contractors"
          ],
          [
           "Flooring Contractors"
          ],
          [
           "Tile and Terrazzo Contractors"
          ],
          [
           "Finish Carpentry Contractors"
          ],
          [
           "Other Building Finishing Contractors"
          ],
          [
           "Site Preparation Contractors"
          ],
          [
           "All Other Specialty Trade Contractors"
          ],
          [
           "Dog and Cat Food Manufacturing"
          ],
          [
           "Other Animal Food Manufacturing"
          ],
          [
           "Flour Milling"
          ],
          [
           "Rice Milling"
          ],
          [
           "Malt Manufacturing"
          ],
          [
           "Wet Corn Milling"
          ],
          [
           "Soybean and Other Oilseed Processing"
          ],
          [
           "Fats and Oils Refining and Blending"
          ],
          [
           "Breakfast Cereal Manufacturing"
          ],
          [
           "Beet Sugar Manufacturing"
          ],
          [
           "Cane Sugar Manufacturing"
          ],
          [
           "Nonchocolate Confectionery Manufacturing"
          ],
          [
           "Chocolate and Confectionery Manufacturing from Cacao Beans"
          ],
          [
           "Confectionery Manufacturing from Purchased Chocolate"
          ],
          [
           "Frozen Fruit, Juice, and Vegetable Manufacturing"
          ],
          [
           "Frozen Specialty Food Manufacturing"
          ],
          [
           "Fruit and Vegetable Canning"
          ],
          [
           "Specialty Canning"
          ],
          [
           "Dried and Dehydrated Food Manufacturing"
          ],
          [
           "Fluid Milk Manufacturing"
          ],
          [
           "Creamery Butter Manufacturing"
          ],
          [
           "Cheese Manufacturing"
          ],
          [
           "Dry, Condensed, and Evaporated Dairy Product Manufacturing"
          ],
          [
           "Ice Cream and Frozen Dessert Manufacturing"
          ],
          [
           "Animal (except Poultry) Slaughtering"
          ],
          [
           "Meat Processed from Carcasses"
          ],
          [
           "Rendering and Meat Byproduct Processing"
          ],
          [
           "Poultry Processing"
          ],
          [
           "Seafood Product Preparation and Packaging"
          ],
          [
           "Retail Bakeries"
          ],
          [
           "Commercial Bakeries"
          ],
          [
           "Frozen Cakes, Pies, and Other Pastries Manufacturing"
          ],
          [
           "Cookie and Cracker Manufacturing"
          ],
          [
           "Dry Pasta, Dough, and Flour Mixes Manufacturing from Purchased Flour"
          ],
          [
           "Tortilla Manufacturing"
          ],
          [
           "Roasted Nuts and Peanut Butter Manufacturing"
          ],
          [
           "Other Snack Food Manufacturing"
          ],
          [
           "Coffee and Tea Manufacturing"
          ],
          [
           "Flavoring Syrup and Concentrate Manufacturing"
          ],
          [
           "Mayonnaise, Dressing, and Other Prepared Sauce Manufacturing"
          ],
          [
           "Spice and Extract Manufacturing"
          ],
          [
           "Perishable Prepared Food Manufacturing"
          ],
          [
           "All Other Miscellaneous Food Manufacturing"
          ],
          [
           "Soft Drink Manufacturing"
          ],
          [
           "Bottled Water Manufacturing"
          ],
          [
           "Ice Manufacturing"
          ],
          [
           "Breweries"
          ],
          [
           "Wineries"
          ],
          [
           "Distilleries"
          ],
          [
           "Tobacco Manufacturing"
          ],
          [
           "Fiber, Yarn, and Thread Mills"
          ],
          [
           "Broadwoven Fabric Mills"
          ],
          [
           "Narrow Fabric Mills and Schiffli Machine Embroidery"
          ],
          [
           "Nonwoven Fabric Mills"
          ],
          [
           "Knit Fabric Mills"
          ],
          [
           "Textile and Fabric Finishing Mills"
          ],
          [
           "Fabric Coating Mills"
          ],
          [
           "Carpet and Rug Mills"
          ],
          [
           "Curtain and Linen Mills"
          ],
          [
           "Textile Bag and Canvas Mills"
          ],
          [
           "Rope, Cordage, Twine, Tire Cord, and Tire Fabric Mills"
          ],
          [
           "All Other Miscellaneous Textile Product Mills"
          ],
          [
           "Hosiery and Sock Mills"
          ],
          [
           "Other Apparel Knitting Mills"
          ],
          [
           "Cut and Sew Apparel Contractors"
          ],
          [
           "Men's and Boys' Cut and Sew Apparel Manufacturing"
          ],
          [
           "Women's, Girls', and Infants' Cut and Sew Apparel Manufacturing"
          ],
          [
           "Other Cut and Sew Apparel Manufacturing"
          ],
          [
           "Apparel Accessories and Other Apparel Manufacturing"
          ],
          [
           "Leather and Hide Tanning and Finishing"
          ],
          [
           "Footwear Manufacturing"
          ],
          [
           "Women's Handbag and Purse Manufacturing"
          ],
          [
           "All Other Leather Good and Allied Product Manufacturing"
          ],
          [
           "Sawmills"
          ],
          [
           "Wood Preservation"
          ],
          [
           "Hardwood Veneer and Plywood Manufacturing"
          ],
          [
           "Softwood Veneer and Plywood Manufacturing"
          ],
          [
           "Engineered Wood Member (except Truss) Manufacturing"
          ],
          [
           "Truss Manufacturing"
          ],
          [
           "Reconstituted Wood Product Manufacturing"
          ],
          [
           "Wood Window and Door Manufacturing"
          ],
          [
           "Cut Stock, Resawing Lumber, and Planing"
          ],
          [
           "Other Millwork (including Flooring)"
          ],
          [
           "Wood Container and Pallet Manufacturing"
          ],
          [
           "Manufactured Home (Mobile Home) Manufacturing"
          ],
          [
           "Prefabricated Wood Building Manufacturing"
          ],
          [
           "All Other Miscellaneous Wood Product Manufacturing"
          ],
          [
           "Pulp Mills"
          ],
          [
           "Paper (except Newsprint) Mills"
          ],
          [
           "Newsprint Mills"
          ],
          [
           "Paperboard Mills"
          ],
          [
           "Corrugated and Solid Fiber Box Manufacturing"
          ],
          [
           "Folding Paperboard Box Manufacturing"
          ],
          [
           "Other Paperboard Container Manufacturing"
          ],
          [
           "Paper Bag and Coated and Treated Paper Manufacturing"
          ],
          [
           "Stationery Product Manufacturing"
          ],
          [
           "Sanitary Paper Product Manufacturing"
          ],
          [
           "All Other Converted Paper Product Manufacturing"
          ],
          [
           "Commercial Printing (except Screen and Books)"
          ],
          [
           "Commercial Screen Printing"
          ],
          [
           "Books Printing"
          ],
          [
           "Support Activites for Printing"
          ],
          [
           "Petroleum Refineries"
          ],
          [
           "Asphalt Paving Mixture and Block Manufacturing"
          ],
          [
           "Asphalt Shingle and Coating Materials Manufacturing"
          ],
          [
           "Petroleum Lubricating Oil and Grease Manufacturing"
          ],
          [
           "All Other Petroleum and Coal Products Manufacturing"
          ],
          [
           "Petrochemical Manufacturing"
          ],
          [
           "Industrial Gas Manufacturing"
          ],
          [
           "Synthetic Dye and Pigment Manufacturing"
          ],
          [
           "Other Basic Inorganic Chemical Manufacturing"
          ],
          [
           "Ethyl Alcohol Manufacturing"
          ],
          [
           "Cyclic Crude, Intermediate, and Gum and Wood Chemical Manufacturing"
          ],
          [
           "All Other Basic Organic Chemical Manufacturing"
          ],
          [
           "Plastics Material and Resin Manufacturing"
          ],
          [
           "Synthetic Rubber Manufacturing"
          ],
          [
           "Artificial and Synthetic Fibers and Filaments Manufacturing"
          ],
          [
           "Nitrogenous Fertilizer Manufacturing"
          ],
          [
           "Phosphatic Fertilizer Manufacturing"
          ],
          [
           "Fertilizer (Mixing Only) Manufacturing"
          ],
          [
           "Pesticide and Other Agricultural Chemical Manufacturing"
          ],
          [
           "Medicinal and Botanical Manufacturing"
          ],
          [
           "Pharmaceutical Preparation Manufacturing"
          ],
          [
           "In-Vitro Diagnostic Substance Manufacturing"
          ],
          [
           "Biological Product (except Diagnostic) Manufacturing"
          ],
          [
           "Paint and Coating Manufacturing"
          ],
          [
           "Adhesive Manufacturing"
          ],
          [
           "Soap and Other Detergent Manufacturing"
          ],
          [
           "Polish and Other Sanitation Good Manufacturing"
          ],
          [
           "Surface Active Agent Manufacturing"
          ],
          [
           "Toilet Preparation Manufacturing"
          ],
          [
           "Printing Ink Manufacturing"
          ],
          [
           "Explosives Manufacturing"
          ],
          [
           "Custom Compounding of Purchased Resins"
          ],
          [
           "Photographic Film, Paper, Plate, and Chemical Manufacturing"
          ],
          [
           "All Other Miscellaneous Chemical Product and Preparation Manufacturing"
          ],
          [
           "Plastics Bag and Pouch Manufacturing"
          ],
          [
           "Plastics Packaging Film and Sheet (including Laminated) Manufacturing"
          ],
          [
           "Unlaminated Plastics Film and Sheet (except Packaging) Manufacturing"
          ],
          [
           "Unlaminated Plastics Profile Shape Manufacturing"
          ],
          [
           "Plastics Pipe and Pipe Fitting Manufacturing"
          ],
          [
           "Laminated Plastics Plate, Sheet (except Packaging), and Shape Manufacturing"
          ],
          [
           "Polystyrene Foam Product Manufacturing"
          ],
          [
           "Urethane and Other Foam Product (except Polystyrene) Manufacturing"
          ],
          [
           "Plastics Bottle Manufacturing"
          ],
          [
           "Plastics Plumbing Fixture Manufacturing"
          ],
          [
           "All Other Plastics Product Manufacturing"
          ],
          [
           "Tire Manufacturing (except Retreading)"
          ],
          [
           "Tire Retreading"
          ],
          [
           "Rubber and Plastics Hoses and Belting Manufacturing"
          ],
          [
           "Rubber Product Manufacturing for Mechanical Use"
          ],
          [
           "All Other Rubber Product Manufacturing"
          ],
          [
           "Pottery, Ceramics, and Plumbing Fixture Manufacturing"
          ],
          [
           "Clay Building Material and Refractories Manufacturing"
          ],
          [
           "Flat Glass Manufacturing"
          ],
          [
           "Other Pressed and Blown Glass and Glassware Manufacturing"
          ],
          [
           "Glass Container Manufacturing"
          ],
          [
           "Glass Product Manufacturing Made of Purchased Glass"
          ],
          [
           "Cement Manufacturing"
          ],
          [
           "Ready-Mix Concrete Manufacturing"
          ],
          [
           "Concrete Block and Brick Manufacturing"
          ],
          [
           "Concrete Pipe Manufacturing"
          ],
          [
           "Other Concrete Product Manufacturing"
          ],
          [
           "Lime Manufacturing"
          ],
          [
           "Gypsum Product Manufacturing"
          ],
          [
           "Abrasive Product Manufacturing"
          ],
          [
           "Cut Stone and Stone Product Manufacturing"
          ],
          [
           "Ground or Treated Mineral and Earth Manufacturing"
          ],
          [
           "Mineral Wool Manufacturing"
          ],
          [
           "All Other Miscellaneous Nonmetallic Mineral Product Manufacturing"
          ],
          [
           "Iron and Steel Mills and Ferroalloy Manufacturing"
          ],
          [
           "Iron and Steel Pipe and Tube Manufacturing from Purchased Steel"
          ],
          [
           "Rolled Steel Shape Manufacturing"
          ],
          [
           "Steel Wire Drawing"
          ],
          [
           "Alumina Refining and Primary Aluminum Production"
          ],
          [
           "Aluminum Sheet, Plate, and Foil Manufacturing"
          ],
          [
           "Other Aluminum Rolling, Drawing, and Extruding"
          ],
          [
           "Nonferrous Metal (except Aluminum) Smelting and Refining"
          ],
          [
           "Copper Rolling, Drawing, Extruding, and Alloying"
          ],
          [
           "Nonferrous Metal (except Copper and Aluminum) Rolling, Drawing, and Extruding"
          ],
          [
           "Secondary Smelting, Refining, and Alloying of Nonferrous Metal (except Copper and Aluminum)"
          ],
          [
           "Iron Foundries"
          ],
          [
           "Steel Investment Foundries"
          ],
          [
           "Steel Foundries (except Investment)"
          ],
          [
           "Nonferrous Metal Die-Casting Foundries"
          ],
          [
           "Aluminum Foundries (except Die-Casting)"
          ],
          [
           "Other Nonferrous Metal Foundries (except Die-Casting)"
          ],
          [
           "Iron and Steel Forging"
          ],
          [
           "Nonferrous Forging"
          ],
          [
           "Custom Roll Forming"
          ],
          [
           "Powder Metallurgy Part Manufacturing"
          ],
          [
           "Metal Crown, Closure, and Other Metal Stamping (except Automotive)"
          ],
          [
           "Metal Kitchen Cookware, Utensil, Cutlery, and Flatware (except Precious) Manufacturing"
          ],
          [
           "Saw Blade and Handtool Manufacturing"
          ],
          [
           "Prefabricated Metal Building and Component Manufacturing"
          ],
          [
           "Fabricated Structural Metal Manufacturing"
          ],
          [
           "Plate Work Manufacturing"
          ],
          [
           "Metal Window and Door Manufacturing"
          ],
          [
           "Sheet Metal Work Manufacturing"
          ],
          [
           "Ornamental and Architectural Metal Work Manufacturing"
          ],
          [
           "Power Boiler and Heat Exchanger Manufacturing"
          ],
          [
           "Metal Tank (Heavy Gauge) Manufacturing"
          ],
          [
           "Metal Can Manufacturing"
          ],
          [
           "Other Metal Container Manufacturing"
          ],
          [
           "Hardware Manufacturing"
          ],
          [
           "Spring Manufacturing"
          ],
          [
           "Other Fabricated Wire Product Manufacturing"
          ],
          [
           "Machine Shops"
          ],
          [
           "Precision Turned Product Manufacturing"
          ],
          [
           "Bolt, Nut, Screw, Rivet, and Washer Manufacturing"
          ],
          [
           "Metal Heat Treating"
          ],
          [
           "Metal Coating, Engraving (except Jewelry and Silverware), and Allied Services to Manufacturers"
          ],
          [
           "Electroplating, Plating, Polishing, Anodizing, and Coloring"
          ],
          [
           "Industrial Valve Manufacturing"
          ],
          [
           "Fluid Power Valve and Hose Fitting Manufacturing"
          ],
          [
           "Plumbing Fixture Fitting and Trim Manufacturing"
          ],
          [
           "Other Metal Valve and Pipe Fitting Manufacturing"
          ],
          [
           "Ball and Roller Bearing Manufacturing"
          ],
          [
           "Small Arms Ammunition Manufacturing"
          ],
          [
           "Ammunition (except Small Arms) Manufacturing"
          ],
          [
           "Small Arms, Ordnance, and Ordnance Accessories Manufacturing"
          ],
          [
           "Fabricated Pipe and Pipe Fitting Manufacturing"
          ],
          [
           "All Other Miscellaneous Fabricated Metal Product Manufacturing"
          ],
          [
           "Farm Machinery and Equipment Manufacturing"
          ],
          [
           "Lawn and Garden Tractor and Home Lawn and Garden Equipment Manufacturing"
          ],
          [
           "Construction Machinery Manufacturing"
          ],
          [
           "Mining Machinery and Equipment Manufacturing"
          ],
          [
           "Oil and Gas Field Machinery and Equipment Manufacturing"
          ],
          [
           "Food Product Machinery Manufacturing"
          ],
          [
           "Semiconductor Machinery Manufacturing"
          ],
          [
           "Sawmill, Woodworking, and Paper Machinery Manufacturing"
          ],
          [
           "Printing Machinery and Equipment Manufacturing"
          ],
          [
           "Other Industrial Machinery Manufacturing"
          ],
          [
           "Optical Instrument and Lens Manufacturing"
          ],
          [
           "Photographic and Photocopying Equipment Manufacturing"
          ],
          [
           "Other Commercial and Service Industry Machinery Manufacturing"
          ],
          [
           "Industrial and Commercial Fan and Blower and Air Purification Equipment Manufacturing"
          ],
          [
           "Heating Equipment (except Warm Air Furnaces) Manufacturing"
          ],
          [
           "Air-Conditioning and Warm Air Heating Equipment and Commercial and Industrial Refrigeration Equipment Manufacturing"
          ],
          [
           "Industrial Mold Manufacturing"
          ],
          [
           "Special Die and Tool, Die Set, Jig, and Fixture Manufacturing"
          ],
          [
           "Cutting Tool and Machine Tool Accessory Manufacturing"
          ],
          [
           "Machine Tool Manufacturing"
          ],
          [
           "Rolling Mill and Other Metalworking Machinery Manufacturing"
          ],
          [
           "Turbine and Turbine Generator Set Units Manufacturing"
          ],
          [
           "Speed Changer, Industrial High-Speed Drive, and Gear Manufacturing"
          ],
          [
           "Mechanical Power Transmission Equipment Manufacturing"
          ],
          [
           "Other Engine Equipment Manufacturing"
          ],
          [
           "Air and Gas Compressor Manufacturing"
          ],
          [
           "Measuring, Dispensing, and Other Pumping Equipment Manufacturing"
          ],
          [
           "Elevator and Moving Stairway Manufacturing"
          ],
          [
           "Conveyor and Conveying Equipment Manufacturing"
          ],
          [
           "Overhead Traveling Crane, Hoist, and Monorail System Manufacturing"
          ],
          [
           "Industrial Truck, Tractor, Trailer, and Stacker Machinery Manufacturing"
          ],
          [
           "Power-Driven Handtool Manufacturing"
          ],
          [
           "Welding and Soldering Equipment Manufacturing"
          ],
          [
           "Packaging Machinery Manufacturing"
          ],
          [
           "Industrial Process Furnace and Oven Manufacturing"
          ],
          [
           "Fluid Power Cylinder and Actuator Manufacturing"
          ],
          [
           "Fluid Power Pump and Motor Manufacturing"
          ],
          [
           "Scale and Balance Manufacturing"
          ],
          [
           "All Other Miscellaneous General Purpose Machinery Manufacturing"
          ],
          [
           "Electronic Computer Manufacturing"
          ],
          [
           "Computer Storage Device Manufacturing"
          ],
          [
           "Computer Terminal and Other Computer Peripheral Equipment Manufacturing"
          ],
          [
           "Telephone Apparatus Manufacturing"
          ],
          [
           "Radio and Television Broadcasting and Wireless Communications Equipment Manufacturing"
          ],
          [
           "Other Communications Equipment Manufacturing"
          ],
          [
           "Audio and Video Equipment Manufacturing"
          ],
          [
           "Bare Printed Circuit Board Manufacturing"
          ],
          [
           "Semiconductor and Related Device Manufacturing"
          ],
          [
           "Capacitor, Resistor, Coil, Transformer, and Other Inductor Manufacturing"
          ],
          [
           "Electronic Connector Manufacturing"
          ],
          [
           "Printed Circuit Assembly (Electronic Assembly) Manufacturing"
          ],
          [
           "Other Electronic Component Manufacturing"
          ],
          [
           "Electromedical and Electrotherapeutic Apparatus Manufacturing"
          ],
          [
           "Search, Detection, Navigation, Guidance, Aeronautical, and Nautical System and Instrument Manufacturing"
          ],
          [
           "Automatic Environmental Control Manufacturing for Residential, Commercial, and Appliance Use"
          ],
          [
           "Instruments and Related Products Manufacturing for Measuring, Displaying, and Controlling Industrial Process Variables"
          ],
          [
           "Totalizing Fluid Meter and Counting Device Manufacturing"
          ],
          [
           "Instrument Manufacturing for Measuring and Testing Electricity and Electrical Signals"
          ],
          [
           "Analytical Laboratory Instrument Manufacturing"
          ],
          [
           "Irradiation Apparatus Manufacturing"
          ],
          [
           "Other Measuring and Controlling Device Manufacturing"
          ],
          [
           "Blank Magnetic and Optical Recording Media Manufacturing"
          ],
          [
           "Software and Other Prerecorded Compact Disc, Tape, and Record Reproducing"
          ],
          [
           "Electric Lamp Bulb and Part Manufacturing"
          ],
          [
           "Residential Electric Lighting Fixture Manufacturing"
          ],
          [
           "Commercial, Industrial, and Institutional Electric Lighting Fixture Manufacturing"
          ],
          [
           "Other Lighting Equipment Manufacturing"
          ],
          [
           "Small Electrical Appliance Manufacturing"
          ],
          [
           "Major Household Appliance Manufacturing"
          ],
          [
           "Power, Distribution, and Specialty Transformer Manufacturing"
          ],
          [
           "Motor and Generator Manufacturing"
          ],
          [
           "Switchgear and Switchboard Apparatus Manufacturing"
          ],
          [
           "Relay and Industrial Control Manufacturing"
          ],
          [
           "Storage Battery Manufacturing"
          ],
          [
           "Primary Battery Manufacturing"
          ],
          [
           "Fiber Optic Cable Manufacturing"
          ],
          [
           "Other Communication and Energy Wire Manufacturing"
          ],
          [
           "Current-Carrying Wiring Device Manufacturing"
          ],
          [
           "Noncurrent-Carrying Wiring Device Manufacturing"
          ],
          [
           "Carbon and Graphite Product Manufacturing"
          ],
          [
           "All Other Miscellaneous Electrical Equipment and Component Manufacturing"
          ],
          [
           "Automobile Manufacturing"
          ],
          [
           "Light Truck and Utility Vehicle Manufacturing"
          ],
          [
           "Heavy Duty Truck Manufacturing"
          ],
          [
           "Motor Vehicle Body Manufacturing"
          ],
          [
           "Truck Trailer Manufacturing"
          ],
          [
           "Motor Home Manufacturing"
          ],
          [
           "Travel Trailer and Camper Manufacturing"
          ],
          [
           "Motor Vehicle Gasoline Engine and Engine Parts Manufacturing"
          ],
          [
           "Motor Vehicle Electrical and Electronic Equipment Manufacturing"
          ],
          [
           "Motor Vehicle Steering and Suspension Components (except Spring) Manufacturing"
          ],
          [
           "Motor Vehicle Brake System Manufacturing"
          ],
          [
           "Motor Vehicle Transmission and Power Train Parts Manufacturing"
          ],
          [
           "Motor Vehicle Seating and Interior Trim Manufacturing"
          ],
          [
           "Motor Vehicle Metal Stamping"
          ],
          [
           "Other Motor Vehicle Parts Manufacturing"
          ],
          [
           "Aircraft Manufacturing"
          ],
          [
           "Aircraft Engine and Engine Parts Manufacturing"
          ],
          [
           "Other Aircraft Parts and Auxiliary Equipment Manufacturing"
          ],
          [
           "Guided Missile and Space Vehicle Manufacturing"
          ],
          [
           "Guided Missile and Space Vehicle Propulsion Unit and Propulsion Unit Parts Manufacturing"
          ],
          [
           "Other Guided Missile and Space Vehicle Parts and Auxiliary Equipment Manufacturing"
          ],
          [
           "Railroad Rolling Stock Manufacturing"
          ],
          [
           "Ship Building and Repairing"
          ],
          [
           "Boat Building"
          ],
          [
           "Motorcycle, Bicycle, and Parts Manufacturing"
          ],
          [
           "Military Armored Vehicle, Tank, and Tank Component Manufacturing"
          ],
          [
           "All Other Transportation Equipment Manufacturing"
          ],
          [
           "Wood Kitchen Cabinet and Countertop Manufacturing"
          ],
          [
           "Upholstered Household Furniture Manufacturing"
          ],
          [
           "Nonupholstered Wood Household Furniture Manufacturing"
          ],
          [
           "Metal Household Furniture Manufacturing"
          ],
          [
           "Household Furniture (except Wood and Metal) Manufacturing"
          ],
          [
           "Institutional Furniture Manufacturing"
          ],
          [
           "Wood Office Furniture Manufacturing"
          ],
          [
           "Custom Architectural Woodwork and Millwork Manufacturing"
          ],
          [
           "Office Furniture (except Wood) Manufacturing"
          ],
          [
           "Showcase, Partition, Shelving, and Locker Manufacturing"
          ],
          [
           "Mattress Manufacturing"
          ],
          [
           "Blind and Shade Manufacturing"
          ],
          [
           "Surgical and Medical Instrument Manufacturing"
          ],
          [
           "Surgical Appliance and Supplies Manufacturing"
          ],
          [
           "Dental Equipment and Supplies Manufacturing"
          ],
          [
           "Ophthalmic Goods Manufacturing"
          ],
          [
           "Dental Laboratories"
          ],
          [
           "Jewelry and Silverware Manufacturing"
          ],
          [
           "Sporting and Athletic Goods Manufacturing"
          ],
          [
           "Doll, Toy, and Game Manufacturing"
          ],
          [
           "Office Supplies (except Paper) Manufacturing"
          ],
          [
           "Sign Manufacturing"
          ],
          [
           "Gasket, Packing, and Sealing Device Manufacturing"
          ],
          [
           "Musical Instrument Manufacturing"
          ],
          [
           "Fastener, Button, Needle, and Pin Manufacturing"
          ],
          [
           "Broom, Brush, and Mop Manufacturing"
          ],
          [
           "Burial Casket Manufacturing"
          ],
          [
           "All Other Miscellaneous Manufacturing"
          ],
          [
           "Automobile and Other Motor Vehicle Merchant Wholesalers"
          ],
          [
           "Motor Vehicle Supplies and New Parts Merchant Wholesalers"
          ],
          [
           "Tire and Tube Merchant Wholesalers"
          ],
          [
           "Motor Vehicle Parts (Used) Merchant Wholesalers"
          ],
          [
           "Furniture Merchant Wholesalers"
          ],
          [
           "Home Furnishing Merchant Wholesalers"
          ],
          [
           "Lumber, Plywood, Millwork, and Wood Panel Merchant Wholesalers"
          ],
          [
           "Brick, Stone, and Related Construction Material Merchant Wholesalers"
          ],
          [
           "Roofing, Siding, and Insulation Material Merchant Wholesalers"
          ],
          [
           "Other Construction Material Merchant Wholesalers"
          ],
          [
           "Photographic Equipment and Supplies Merchant Wholesalers"
          ],
          [
           "Office Equipment Merchant Wholesalers"
          ],
          [
           "Computer and Computer Peripheral Equipment and Software Merchant Wholesalers"
          ],
          [
           "Other Commercial Equipment Merchant Wholesalers"
          ],
          [
           "Medical, Dental, and Hospital Equipment and Supplies Merchant Wholesalers"
          ],
          [
           "Ophthalmic Goods Merchant Wholesalers"
          ],
          [
           "Other Professional Equipment and Supplies Merchant Wholesalers"
          ],
          [
           "Metal Service Centers and Other Metal Merchant Wholesalers"
          ],
          [
           "Coal and Other Mineral and Ore Merchant Wholesalers"
          ],
          [
           "Electrical Apparatus and Equipment, Wiring Supplies, and Related Equipment Merchant Wholesalers"
          ],
          [
           "Household Appliances, Electric Housewares, and Consumer Electronics Merchant Wholesalers"
          ],
          [
           "Other Electronic Parts and Equipment Merchant Wholesalers"
          ],
          [
           "Hardware Merchant Wholesalers"
          ],
          [
           "Plumbing and Heating Equipment and Supplies (Hydronics) Merchant Wholesalers"
          ],
          [
           "Warm Air Heating and Air-Conditioning Equipment and Supplies Merchant Wholesalers"
          ],
          [
           "Refrigeration Equipment and Supplies Merchant Wholesalers"
          ],
          [
           "Construction and Mining (except Oil Well) Machinery and Equipment Merchant Wholesalers"
          ],
          [
           "Farm and Garden Machinery and Equipment Merchant Wholesalers"
          ],
          [
           "Industrial Machinery and Equipment Merchant Wholesalers"
          ],
          [
           "Industrial Supplies Merchant Wholesalers"
          ],
          [
           "Service Establishment Equipment and Supplies Merchant Wholesalers"
          ],
          [
           "Transportation Equipment and Supplies (except Motor Vehicle) Merchant Wholesalers"
          ],
          [
           "Sporting and Recreational Goods and Supplies Merchant Wholesalers"
          ],
          [
           "Toy and Hobby Goods and Supplies Merchant Wholesalers"
          ],
          [
           "Recyclable Material Merchant Wholesalers"
          ],
          [
           "Jewelry, Watch, Precious Stone, and Precious Metal Merchant Wholesalers"
          ],
          [
           "Other Miscellaneous Durable Goods Merchant Wholesalers"
          ],
          [
           "Printing and Writing Paper Merchant Wholesalers"
          ],
          [
           "Stationery and Office Supplies Merchant Wholesalers"
          ],
          [
           "Industrial and Personal Service Paper Merchant Wholesalers"
          ],
          [
           "Drugs and Druggists' Sundries Merchant Wholesalers"
          ],
          [
           "Piece Goods, Notions, and Other Dry Goods Merchant Wholesalers"
          ],
          [
           "Men's and Boys' Clothing and Furnishings Merchant Wholesalers"
          ],
          [
           "Women's, Children's, and Infants' Clothing and Accessories Merchant Wholesalers"
          ],
          [
           "Footwear Merchant Wholesalers"
          ],
          [
           "General Line Grocery Merchant Wholesalers"
          ],
          [
           "Packaged Frozen Food Merchant Wholesalers"
          ],
          [
           "Dairy Product (except Dried or Canned) Merchant Wholesalers"
          ],
          [
           "Poultry and Poultry Product Merchant Wholesalers"
          ],
          [
           "Confectionery Merchant Wholesalers"
          ],
          [
           "Fish and Seafood Merchant Wholesalers"
          ],
          [
           "Meat and Meat Product Merchant Wholesalers"
          ],
          [
           "Fresh Fruit and Vegetable Merchant Wholesalers"
          ],
          [
           "Other Grocery and Related Products Merchant Wholesalers"
          ],
          [
           "Grain and Field Bean Merchant Wholesalers"
          ],
          [
           "Livestock Merchant Wholesalers"
          ],
          [
           "Other Farm Product Raw Material Merchant Wholesalers"
          ],
          [
           "Plastics Materials and Basic Forms and Shapes Merchant Wholesalers"
          ],
          [
           "Other Chemical and Allied Products Merchant Wholesalers"
          ],
          [
           "Petroleum Bulk Stations and Terminals"
          ],
          [
           "Petroleum and Petroleum Products Merchant Wholesalers (except Bulk Stations and Terminals)"
          ],
          [
           "Beer and Ale Merchant Wholesalers"
          ],
          [
           "Wine and Distilled Alcoholic Beverage Merchant Wholesalers"
          ],
          [
           "Farm Supplies Merchant Wholesalers"
          ],
          [
           "Book, Periodical, and Newspaper Merchant Wholesalers"
          ],
          [
           "Flower, Nursery Stock, and Florists' Supplies Merchant Wholesalers"
          ],
          [
           "Tobacco and Tobacco Product Merchant Wholesalers"
          ],
          [
           "Paint, Varnish, and Supplies Merchant Wholesalers"
          ],
          [
           "Other Miscellaneous Nondurable Goods Merchant Wholesalers"
          ],
          [
           "Business to Business Electronic Markets"
          ],
          [
           "Wholesale Trade Agents and Brokers"
          ],
          [
           "New Car Dealers"
          ],
          [
           "Used Car Dealers"
          ],
          [
           "Recreational Vehicle Dealers"
          ],
          [
           "Boat Dealers"
          ],
          [
           "Motorcycle, ATV, and All Other Motor Vehicle Dealers"
          ],
          [
           "Automotive Parts and Accessories Stores"
          ],
          [
           "Tire Dealers"
          ],
          [
           "Furniture Stores"
          ],
          [
           "Floor Covering Stores"
          ],
          [
           "Window Treatment Stores"
          ],
          [
           "All Other Home Furnishings Stores"
          ],
          [
           "Household Appliance Stores"
          ],
          [
           "Electronics Stores"
          ],
          [
           "Home Centers"
          ],
          [
           "Paint and Wallpaper Stores"
          ],
          [
           "Hardware Stores"
          ],
          [
           "Other Building Material Dealers"
          ],
          [
           "Outdoor Power Equipment Stores"
          ],
          [
           "Nursery, Garden Center, and Farm Supply Stores"
          ],
          [
           "Supermarkets and Other Grocery (except Convenience) Stores"
          ],
          [
           "Convenience Stores"
          ],
          [
           "Meat Markets"
          ],
          [
           "Fish and Seafood Markets"
          ],
          [
           "Fruit and Vegetable Markets"
          ],
          [
           "Baked Goods Stores"
          ],
          [
           "Confectionery and Nut Stores"
          ],
          [
           "All Other Specialty Food Stores"
          ],
          [
           "Beer, Wine, and Liquor Stores"
          ],
          [
           "Pharmacies and Drug Stores"
          ],
          [
           "Cosmetics, Beauty Supplies, and Perfume Stores"
          ],
          [
           "Optical Goods Stores"
          ],
          [
           "Food (Health) Supplement Stores"
          ],
          [
           "All Other Health and Personal Care Stores"
          ],
          [
           "Gasoline Stations with Convenience Stores"
          ],
          [
           "Other Gasoline Stations"
          ],
          [
           "Men's Clothing Stores"
          ],
          [
           "Women's Clothing Stores"
          ],
          [
           "Children's and Infants' Clothing Stores"
          ],
          [
           "Family Clothing Stores"
          ],
          [
           "Clothing Accessories Stores"
          ],
          [
           "Other Clothing Stores"
          ],
          [
           "Shoe Stores"
          ],
          [
           "Jewelry Stores"
          ],
          [
           "Luggage and Leather Goods Stores"
          ],
          [
           "Sporting Goods Stores"
          ],
          [
           "Hobby, Toy, and Game Stores"
          ],
          [
           "Sewing, Needlework, and Piece Goods Stores"
          ],
          [
           "Musical Instrument and Supplies Stores"
          ],
          [
           "Book Stores"
          ],
          [
           "News Dealers and Newsstands"
          ],
          [
           "Department Stores"
          ],
          [
           "Warehouse Clubs and Supercenters"
          ],
          [
           "All Other General Merchandise Stores"
          ],
          [
           "Florists"
          ],
          [
           "Office Supplies and Stationery Stores"
          ],
          [
           "Gift, Novelty, and Souvenir Stores"
          ],
          [
           "Used Merchandise Stores"
          ],
          [
           "Pet and Pet Supplies Stores"
          ],
          [
           "Art Dealers"
          ],
          [
           "Manufactured (Mobile) Home Dealers"
          ],
          [
           "Tobacco Stores"
          ],
          [
           "All Other Miscellaneous Store Retailers (except Tobacco Stores)"
          ],
          [
           "Electronic Shopping and Mail-Order Houses"
          ],
          [
           "Vending Machine Operators"
          ],
          [
           "Fuel Dealers"
          ],
          [
           "Other Direct Selling Establishments"
          ],
          [
           "Scheduled Passenger Air Transportation"
          ],
          [
           "Scheduled Freight Air Transportation"
          ],
          [
           "Nonscheduled Chartered Passenger Air Transportation"
          ],
          [
           "Nonscheduled Chartered Freight Air Transportation"
          ],
          [
           "Other Nonscheduled Air Transportation"
          ],
          [
           "Line-Haul Railroads"
          ],
          [
           "Short Line Railroads"
          ],
          [
           "Deep Sea Freight Transportation"
          ],
          [
           "Deep Sea Passenger Transportation"
          ],
          [
           "Coastal and Great Lakes Freight Transportation"
          ],
          [
           "Coastal and Great Lakes Passenger Transportation"
          ],
          [
           "Inland Water Freight Transportation"
          ],
          [
           "Inland Water Passenger Transportation"
          ],
          [
           "General Freight Trucking, Local"
          ],
          [
           "General Freight Trucking, Long-Distance, Truckload"
          ],
          [
           "General Freight Trucking, Long-Distance, Less Than Truckload"
          ],
          [
           "Used Household and Office Goods Moving"
          ],
          [
           "Specialized Freight (except Used Goods) Trucking, Local"
          ],
          [
           "Specialized Freight (except Used Goods) Trucking, Long-Distance"
          ],
          [
           "Mixed Mode Transit Systems"
          ],
          [
           "Commuter Rail Systems"
          ],
          [
           "Bus and Other Motor Vehicle Transit Systems"
          ],
          [
           "Other Urban Transit Systems"
          ],
          [
           "Interurban and Rural Bus Transportation"
          ],
          [
           "Taxi Service"
          ],
          [
           "Limousine Service"
          ],
          [
           "School and Employee Bus Transportation"
          ],
          [
           "Charter Bus Industry"
          ],
          [
           "Special Needs Transportation"
          ],
          [
           "All Other Transit and Ground Passenger Transportation"
          ],
          [
           "Pipeline Transportation of Crude Oil"
          ],
          [
           "Pipeline Transportation of Natural Gas"
          ],
          [
           "Pipeline Transportation of Refined Petroleum Products"
          ],
          [
           "All Other Pipeline Transportation"
          ],
          [
           "Scenic and Sightseeing Transportation, Land"
          ],
          [
           "Scenic and Sightseeing Transportation, Water"
          ],
          [
           "Scenic and Sightseeing Transportation, Other"
          ],
          [
           "Air Traffic Control"
          ],
          [
           "Other Airport Operations"
          ],
          [
           "Other Support Activities for Air Transportation"
          ],
          [
           "Support Activities for Rail Transportation"
          ],
          [
           "Port and Harbor Operations"
          ],
          [
           "Marine Cargo Handling"
          ],
          [
           "Navigational Services to Shipping"
          ],
          [
           "Other Support Activities for Water Transportation"
          ],
          [
           "Motor Vehicle Towing"
          ],
          [
           "Other Support Activities for Road Transportation"
          ],
          [
           "Freight Transportation Arrangement"
          ],
          [
           "Packing and Crating"
          ],
          [
           "All Other Support Activities for Transportation"
          ],
          [
           "Postal Service"
          ],
          [
           "Couriers and Express Delivery Services"
          ],
          [
           "Local Messengers and Local Delivery"
          ],
          [
           "General Warehousing and Storage"
          ],
          [
           "Refrigerated Warehousing and Storage"
          ],
          [
           "Farm Product Warehousing and Storage"
          ],
          [
           "Other Warehousing and Storage"
          ],
          [
           "Newspaper Publishers"
          ],
          [
           "Periodical Publishers"
          ],
          [
           "Book Publishers"
          ],
          [
           "Directory and Mailing List Publishers"
          ],
          [
           "Greeting Card Publishers"
          ],
          [
           "All Other Publishers"
          ],
          [
           "Software Publishers"
          ],
          [
           "Motion Picture and Video Production"
          ],
          [
           "Motion Picture and Video Distribution"
          ],
          [
           "Motion Picture Theaters (except Drive-Ins)"
          ],
          [
           "Drive-In Motion Picture Theaters"
          ],
          [
           "Teleproduction and Other Postproduction Services"
          ],
          [
           "Other Motion Picture and Video Industries"
          ],
          [
           "Music Publishers"
          ],
          [
           "Sound Recording Studios"
          ],
          [
           "Record Production and Distribution"
          ],
          [
           "Other Sound Recording Industries"
          ],
          [
           "Radio Networks"
          ],
          [
           "Radio Stations"
          ],
          [
           "Television Broadcasting"
          ],
          [
           "Cable and Other Subscription Programming"
          ],
          [
           "Wired Telecommunications Carriers"
          ],
          [
           "Wireless Telecommunications Carriers (except Satellite)"
          ],
          [
           "Satellite Telecommunications"
          ],
          [
           "Telecommunications Resellers"
          ],
          [
           "All Other Telecommunications"
          ],
          [
           "Data Processing, Hosting, and Related Services"
          ],
          [
           "News Syndicates"
          ],
          [
           "Libraries and Archives"
          ],
          [
           "Internet Publishing and Broadcasting and Web Search Portals"
          ],
          [
           "All Other Information Services"
          ],
          [
           "Monetary Authorities-Central Bank"
          ],
          [
           "Commercial Banking"
          ],
          [
           "Savings Institutions"
          ],
          [
           "Credit Unions"
          ],
          [
           "Other Depository Credit Intermediation"
          ],
          [
           "Credit Card Issuing"
          ],
          [
           "Sales Financing"
          ],
          [
           "Consumer Lending"
          ],
          [
           "Real Estate Credit"
          ],
          [
           "International Trade Financing"
          ],
          [
           "Secondary Market Financing"
          ],
          [
           "All Other Nondepository Credit Intermediation"
          ],
          [
           "Mortgage and Nonmortgage Loan Brokers"
          ],
          [
           "Financial Transactions Processing, Reserve, and Clearinghouse Activities"
          ],
          [
           "Other Activities Related to Credit Intermediation"
          ],
          [
           "Investment Banking and Securities Dealing"
          ],
          [
           "Securities Brokerage"
          ],
          [
           "Commodity Contracts Dealing"
          ],
          [
           "Commodity Contracts Brokerage"
          ],
          [
           "Securities and Commodity Exchanges"
          ],
          [
           "Miscellaneous Intermediation"
          ],
          [
           "Portfolio Management"
          ],
          [
           "Investment Advice"
          ],
          [
           "Trust, Fiduciary, and Custody Activities"
          ],
          [
           "Miscellaneous Financial Investment Activities"
          ],
          [
           "Direct Life Insurance Carriers"
          ],
          [
           "Direct Health and Medical Insurance Carriers"
          ],
          [
           "Direct Property and Casualty Insurance Carriers"
          ],
          [
           "Direct Title Insurance Carriers"
          ],
          [
           "Other Direct Insurance (except Life, Health, and Medical) Carriers"
          ],
          [
           "Reinsurance Carriers"
          ],
          [
           "Insurance Agencies and Brokerages"
          ],
          [
           "Claims Adjusting"
          ],
          [
           "Third Party Administration of Insurance and Pension Funds"
          ],
          [
           "All Other Insurance Related Activities"
          ],
          [
           "Pension Funds"
          ],
          [
           "Health and Welfare Funds"
          ],
          [
           "Other Insurance Funds"
          ],
          [
           "Open-End Investment Funds"
          ],
          [
           "Trusts, Estates, and Agency Accounts"
          ],
          [
           "Other Financial Vehicles"
          ],
          [
           "Lessors of Residential Buildings and Dwellings"
          ],
          [
           "Lessors of Nonresidential Buildings (excpet Miniwarehouses)"
          ],
          [
           "Lessors of Miniwarehouses and Self-Storage Units"
          ],
          [
           "Lessors of Other Real Estate Property"
          ],
          [
           "Offices of Real Estate Agents and Brokers"
          ],
          [
           "Residential Property Managers"
          ],
          [
           "Nonresidential Property Managers"
          ],
          [
           "Offices of Real Estate Appraisers"
          ],
          [
           "Other Activities Related to Real Estate"
          ],
          [
           "Passenger Car Rental"
          ],
          [
           "Passenger Car Leasing"
          ],
          [
           "Truck, Utility Trailer, and RV (Recreational Vehicle) Rental and Leasing"
          ],
          [
           "Consumer Electronics and Appliances Rental"
          ],
          [
           "Formal Wear and Costume Rental"
          ],
          [
           "Video Tape and Disc Rental"
          ],
          [
           "Home Health Equipment Rental"
          ],
          [
           "Recreational Goods Rental"
          ],
          [
           "All Other Consumer Goods Rental"
          ],
          [
           "General Rental Centers"
          ],
          [
           "Commercial Air, Rail, and Water Transportation Equipment Rental and Leasing"
          ],
          [
           "Construction, Mining, and Forestry Machinery and Equipment Rental and Leasing"
          ],
          [
           "Office Machinery and Equipment Rental and Leasing"
          ],
          [
           "Other Commercial and Industrial Machinery and Equipment Rental and Leasing"
          ],
          [
           "Lessors of Nonfinancial Intangible Assets (except Copyrighted Works)"
          ],
          [
           "Offices of Lawyers"
          ],
          [
           "Offices of Notaries"
          ],
          [
           "Title Abstract and Settlement Offices"
          ],
          [
           "All Other Legal Services"
          ],
          [
           "Offices of Certified Public Accountants"
          ],
          [
           "Tax Preparation Services"
          ],
          [
           "Payroll Services"
          ],
          [
           "Other Accounting Services"
          ],
          [
           "Architectural Services"
          ],
          [
           "Landscape Architectural Services"
          ],
          [
           "Engineering Services"
          ],
          [
           "Drafting Services"
          ],
          [
           "Building Inspection Services"
          ],
          [
           "Geophysical Surveying and Mapping Services"
          ],
          [
           "Surveying and Mapping (except Geophysical) Services"
          ],
          [
           "Testing Laboratories"
          ],
          [
           "Interior Design Services"
          ],
          [
           "Industrial Design Services"
          ],
          [
           "Graphic Design Services"
          ],
          [
           "Other Specialized Design Services"
          ],
          [
           "Custom Computer Programming Services"
          ],
          [
           "Computer Systems Design Services"
          ],
          [
           "Computer Facilities Management Services"
          ],
          [
           "Other Computer Related Services"
          ],
          [
           "Administrative Management and General Management Consulting Services"
          ],
          [
           "Human Resources Consulting Services"
          ],
          [
           "Marketing Consulting Services"
          ],
          [
           "Process, Physical Distribution, and Logistics Consulting Services"
          ],
          [
           "Other Management Consulting Services"
          ],
          [
           "Environmental Consulting Services"
          ],
          [
           "Other Scientific and Technical Consulting Services"
          ],
          [
           "Research and Development in Nanotechnology"
          ],
          [
           "Research and Development in Biotechnology (except Nanobiotechnology)"
          ],
          [
           "Research and Development in the Physical, Engineering, and Life Sciences (except Nanotechnology and Biotechnology)"
          ],
          [
           "Research and Development in the Social Sciences and Humanities"
          ],
          [
           "Advertising Agencies"
          ],
          [
           "Public Relations Agencies"
          ],
          [
           "Media Buying Agencies"
          ],
          [
           "Media Representatives"
          ],
          [
           "Outdoor Advertising"
          ],
          [
           "Direct Mail Advertising"
          ],
          [
           "Advertising Material Distribution Services"
          ],
          [
           "Other Services Related to Advertising"
          ],
          [
           "Marketing Research and Public Opinion Polling"
          ],
          [
           "Photography Studios, Portrait"
          ],
          [
           "Commercial Photography"
          ],
          [
           "Translation and Interpretation Services"
          ],
          [
           "Veterinary Services"
          ],
          [
           "All Other Professional, Scientific, and Technical Services"
          ],
          [
           "Offices of Bank Holding Companies"
          ],
          [
           "Offices of Other Holding Companies"
          ],
          [
           "Corporate, Subsidiary, and Regional Managing Offices"
          ],
          [
           "Office Administrative Services"
          ],
          [
           "Facilities Support Services"
          ],
          [
           "Employment Placement Agencies"
          ],
          [
           "Executive Search Services"
          ],
          [
           "Temporary Help Services"
          ],
          [
           "Professional Employer Organizations"
          ],
          [
           "Document Preparation Services"
          ],
          [
           "Telephone Answering Services"
          ],
          [
           "Telemarketing Bureaus and Other Contact Centers"
          ],
          [
           "Private Mail Centers"
          ],
          [
           "Other Business Service Centers (including Copy Shops)"
          ],
          [
           "Collection Agencies"
          ],
          [
           "Credit Bureaus"
          ],
          [
           "Repossession Services"
          ],
          [
           "Court Reporting and Stenotype Services"
          ],
          [
           "All Other Business Support Services"
          ],
          [
           "Travel Agencies"
          ],
          [
           "Tour Operators"
          ],
          [
           "Convention and Visitors Bureaus"
          ],
          [
           "All Other Travel Arrangement and Reservation Services"
          ],
          [
           "Investigation Services"
          ],
          [
           "Security Guards and Patrol Services"
          ],
          [
           "Armored Car Services"
          ],
          [
           "Security Systems Services (except Locksmiths)"
          ],
          [
           "Locksmiths"
          ],
          [
           "Exterminating and Pest Control Services"
          ],
          [
           "Janitorial Services"
          ],
          [
           "Landscaping Services"
          ],
          [
           "Carpet and Upholstery Cleaning Services"
          ],
          [
           "Other Services to Buildings and Dwellings"
          ],
          [
           "Packaging and Labeling Services"
          ],
          [
           "Convention and Trade Show Organizers"
          ],
          [
           "All Other Support Services"
          ],
          [
           "Solid Waste Collection"
          ],
          [
           "Hazardous Waste Collection"
          ],
          [
           "Other Waste Collection"
          ],
          [
           "Hazardous Waste Treatment and Disposal"
          ],
          [
           "Solid Waste Landfill"
          ],
          [
           "Solid Waste Combustors and Incinerators"
          ],
          [
           "Other Nonhazardous Waste Treatment and Disposal"
          ],
          [
           "Remediation Services"
          ],
          [
           "Materials Recovery Facilities"
          ],
          [
           "Septic Tank and Related Services"
          ],
          [
           "All Other Miscellaneous Waste Management Services"
          ],
          [
           "Elementary and Secondary Schools"
          ],
          [
           "Junior Colleges"
          ],
          [
           "Colleges, Universities, and Professional Schools"
          ],
          [
           "Business and Secretarial Schools"
          ],
          [
           "Computer Training"
          ],
          [
           "Professional and Management Development Training"
          ],
          [
           "Cosmetology and Barber Schools"
          ],
          [
           "Flight Training"
          ],
          [
           "Apprenticeship Training"
          ],
          [
           "Other Technical and Trade Schools"
          ],
          [
           "Fine Arts Schools"
          ],
          [
           "Sports and Recreation Instruction"
          ],
          [
           "Language Schools"
          ],
          [
           "Exam Preparation and Tutoring"
          ],
          [
           "Automobile Driving Schools"
          ],
          [
           "All Other Miscellaneous Schools and Instruction"
          ],
          [
           "Educational Support Services"
          ],
          [
           "Offices of Physicians (except Mental Health Specialists)"
          ],
          [
           "Offices of Physicians, Mental Health Specialists"
          ],
          [
           "Offices of Dentists"
          ],
          [
           "Offices of Chiropractors"
          ],
          [
           "Offices of Optometrists"
          ],
          [
           "Offices of Mental Health Practitioners (except Physicians)"
          ],
          [
           "Offices of Physical, Occupational and Speech Therapists, and Audiologists"
          ],
          [
           "Offices of Podiatrists"
          ],
          [
           "Offices of All Other Miscellaneous Health Practitioners"
          ],
          [
           "Family Planning Centers"
          ],
          [
           "Outpatient Mental Health and Substance Abuse Centers"
          ],
          [
           "HMO Medical Centers"
          ],
          [
           "Kidney Dialysis Centers"
          ],
          [
           "Freestanding Ambulatory Surgical and Emergency Centers"
          ],
          [
           "All Other Outpatient Care Centers"
          ],
          [
           "Medical Laboratories"
          ],
          [
           "Diagnostic Imaging Centers"
          ],
          [
           "Home Health Care Services"
          ],
          [
           "Ambulance Services"
          ],
          [
           "Blood and Organ Banks"
          ],
          [
           "All Other Miscellaneous Ambulatory Health Care Services"
          ],
          [
           "General Medical and Surgical Hospitals"
          ],
          [
           "Psychiatric and Substance Abuse Hospitals"
          ],
          [
           "Specialty (except Psychiatric and Substance Abuse) Hospitals"
          ],
          [
           "Nursing Care Facilities (Skilled Nursing Facilities)"
          ],
          [
           "Residential Intellectual and Developmental Disability Facilities"
          ],
          [
           "Residential Mental Health and Substance Abuse Facilities"
          ],
          [
           "Continuing Care Retirement Communities"
          ],
          [
           "Assisted Living Facilities for the Elderly"
          ],
          [
           "Other Residential Care Facilities"
          ],
          [
           "Child and Youth Services"
          ],
          [
           "Services for the Elderly and Persons with Disabilities"
          ],
          [
           "Other Individual and Family Services"
          ],
          [
           "Community Food Services"
          ],
          [
           "Temporary Shelters"
          ],
          [
           "Other Community Housing Services"
          ],
          [
           "Emergency and Other Relief Services"
          ],
          [
           "Vocational Rehabilitation Services"
          ],
          [
           "Child Day Care Services"
          ],
          [
           "Theater Companies and Dinner Theaters"
          ],
          [
           "Dance Companies"
          ],
          [
           "Musical Groups and Artists"
          ],
          [
           "Other Performing Arts Companies"
          ],
          [
           "Sports Teams and Clubs"
          ],
          [
           "Racetracks"
          ],
          [
           "Other Spectator Sports"
          ],
          [
           "Promoters of Performing Arts, Sports, and Similar Events with Facilities"
          ],
          [
           "Promoters of Performing Arts, Sports, and Similar Events without Facilities"
          ],
          [
           "Agents and Managers for Artists, Athletes, Entertainers, and Other Public Figures"
          ],
          [
           "Independent Artists, Writers, and Performers"
          ],
          [
           "Museums"
          ],
          [
           "Historical Sites"
          ],
          [
           "Zoos and Botanical Gardens"
          ],
          [
           "Nature Parks and Other Similar Institutions"
          ],
          [
           "Amusement and Theme Parks"
          ],
          [
           "Amusement Arcades"
          ],
          [
           "Casinos (except Casino Hotels)"
          ],
          [
           "Other Gambling Industries"
          ],
          [
           "Golf Courses and Country Clubs"
          ],
          [
           "Skiing Facilities"
          ],
          [
           "Marinas"
          ],
          [
           "Fitness and Recreational Sports Centers"
          ],
          [
           "Bowling Centers"
          ],
          [
           "All Other Amusement and Recreation Industries"
          ],
          [
           "Hotels (except Casino Hotels) and Motels"
          ],
          [
           "Casino Hotels"
          ],
          [
           "Bed-and-Breakfast Inns"
          ],
          [
           "All Other Traveler Accommodation"
          ],
          [
           "RV (Recreational Vehicle) Parks and Campgrounds"
          ],
          [
           "Recreational and Vacation Camps (except Campgrounds)"
          ],
          [
           "Rooming and Boarding Houses, Dormitories, and Workers' Camps"
          ],
          [
           "Food Service Contractors"
          ],
          [
           "Caterers"
          ],
          [
           "Mobile Food Services"
          ],
          [
           "Drinking Places (Alcoholic Beverages)"
          ],
          [
           "Full-Service Restaurants"
          ],
          [
           "Limited-Service Restaurants"
          ],
          [
           "Cafeterias, Grill Buffets, and Buffets"
          ],
          [
           "Snack and Nonalcoholic Beverage Bars"
          ],
          [
           "General Automotive Repair"
          ],
          [
           "Automotive Exhaust System Repair"
          ],
          [
           "Automotive Transmission Repair"
          ],
          [
           "Other Automotive Mechanical and Electrical Repair and Maintenance"
          ],
          [
           "Automotive Body, Paint, and Interior Repair and Maintenance"
          ],
          [
           "Automotive Glass Replacement Shops"
          ],
          [
           "Automotive Oil Change and Lubrication Shops"
          ],
          [
           "Car Washes"
          ],
          [
           "All Other Automotive Repair and Maintenance"
          ],
          [
           "Consumer Electronics Repair and Maintenance"
          ],
          [
           "Computer and Office Machine Repair and Maintenance"
          ],
          [
           "Communication Equipment Repair and Maintenance"
          ],
          [
           "Other Electronic and Precision Equipment Repair and Maintenance"
          ],
          [
           "Commercial and Industrial Machinery and Equipment (except Automotive and Electronic) Repair and Maintenance"
          ],
          [
           "Home and Garden Equipment Repair and Maintenance"
          ],
          [
           "Appliance Repair and Maintenance"
          ],
          [
           "Reupholstery and Furniture Repair"
          ],
          [
           "Footwear and Leather Goods Repair"
          ],
          [
           "Other Personal and Household Goods Repair and Maintenance"
          ],
          [
           "Barber Shops"
          ],
          [
           "Beauty Salons"
          ],
          [
           "Nail Salons"
          ],
          [
           "Diet and Weight Reducing Centers"
          ],
          [
           "Other Personal Care Services"
          ],
          [
           "Funeral Homes and Funeral Services"
          ],
          [
           "Cemeteries and Crematories"
          ],
          [
           "Coin-Operated Laundries and Drycleaners"
          ],
          [
           "Drycleaning and Laundry Services (except Coin-Operated)"
          ],
          [
           "Linen Supply"
          ],
          [
           "Industrial Launderers"
          ],
          [
           "Pet Care (except Veterinary) Services"
          ],
          [
           "Photofinishing Laboratories (except One-Hour)"
          ],
          [
           "One-Hour Photofinishing"
          ],
          [
           "Parking Lots and Garages"
          ],
          [
           "All Other Personal Services"
          ],
          [
           "Religious Organizations"
          ],
          [
           "Grantmaking Foundations"
          ],
          [
           "Voluntary Health Organizations"
          ],
          [
           "Other Grantmaking and Giving Services"
          ],
          [
           "Human Rights Organizations"
          ],
          [
           "Environment, Conservation and Wildlife Organizations"
          ],
          [
           "Other Social Advocacy Organizations"
          ],
          [
           "Civic and Social Organizations"
          ],
          [
           "Business Associations"
          ],
          [
           "Professional Organizations"
          ],
          [
           "Labor Unions and Similar Labor Organizations"
          ],
          [
           "Political Organizations"
          ],
          [
           "Other Similar Organizations (except Business, Professional, Labor, and Political Organizations)"
          ]
         ],
         "hovertemplate": "Sector=%{x}<br>Supply Chain Emission Factors with Margins=%{y}<br>2017 NAICS Title=%{customdata[0]}<extra></extra>",
         "legendgroup": "",
         "marker": {
          "color": "#636efa",
          "pattern": {
           "shape": ""
          }
         },
         "name": "",
         "offsetgroup": "",
         "orientation": "v",
         "showlegend": false,
         "textposition": "auto",
         "type": "bar",
         "x": [
          "Agriculture, Forestry, Fishing and Hunting",
          "Agriculture, Forestry, Fishing and Hunting",
          "Agriculture, Forestry, Fishing and Hunting",
          "Agriculture, Forestry, Fishing and Hunting",
          "Agriculture, Forestry, Fishing and Hunting",
          "Agriculture, Forestry, Fishing and Hunting",
          "Agriculture, Forestry, Fishing and Hunting",
          "Agriculture, Forestry, Fishing and Hunting",
          "Agriculture, Forestry, Fishing and Hunting",
          "Agriculture, Forestry, Fishing and Hunting",
          "Agriculture, Forestry, Fishing and Hunting",
          "Agriculture, Forestry, Fishing and Hunting",
          "Agriculture, Forestry, Fishing and Hunting",
          "Agriculture, Forestry, Fishing and Hunting",
          "Agriculture, Forestry, Fishing and Hunting",
          "Agriculture, Forestry, Fishing and Hunting",
          "Agriculture, Forestry, Fishing and Hunting",
          "Agriculture, Forestry, Fishing and Hunting",
          "Agriculture, Forestry, Fishing and Hunting",
          "Agriculture, Forestry, Fishing and Hunting",
          "Agriculture, Forestry, Fishing and Hunting",
          "Agriculture, Forestry, Fishing and Hunting",
          "Agriculture, Forestry, Fishing and Hunting",
          "Agriculture, Forestry, Fishing and Hunting",
          "Agriculture, Forestry, Fishing and Hunting",
          "Agriculture, Forestry, Fishing and Hunting",
          "Agriculture, Forestry, Fishing and Hunting",
          "Agriculture, Forestry, Fishing and Hunting",
          "Agriculture, Forestry, Fishing and Hunting",
          "Agriculture, Forestry, Fishing and Hunting",
          "Agriculture, Forestry, Fishing and Hunting",
          "Agriculture, Forestry, Fishing and Hunting",
          "Agriculture, Forestry, Fishing and Hunting",
          "Agriculture, Forestry, Fishing and Hunting",
          "Agriculture, Forestry, Fishing and Hunting",
          "Agriculture, Forestry, Fishing and Hunting",
          "Agriculture, Forestry, Fishing and Hunting",
          "Agriculture, Forestry, Fishing and Hunting",
          "Agriculture, Forestry, Fishing and Hunting",
          "Agriculture, Forestry, Fishing and Hunting",
          "Agriculture, Forestry, Fishing and Hunting",
          "Agriculture, Forestry, Fishing and Hunting",
          "Agriculture, Forestry, Fishing and Hunting",
          "Agriculture, Forestry, Fishing and Hunting",
          "Agriculture, Forestry, Fishing and Hunting",
          "Agriculture, Forestry, Fishing and Hunting",
          "Agriculture, Forestry, Fishing and Hunting",
          "Agriculture, Forestry, Fishing and Hunting",
          "Agriculture, Forestry, Fishing and Hunting",
          "Agriculture, Forestry, Fishing and Hunting",
          "Agriculture, Forestry, Fishing and Hunting",
          "Agriculture, Forestry, Fishing and Hunting",
          "Agriculture, Forestry, Fishing and Hunting",
          "Agriculture, Forestry, Fishing and Hunting",
          "Agriculture, Forestry, Fishing and Hunting",
          "Agriculture, Forestry, Fishing and Hunting",
          "Agriculture, Forestry, Fishing and Hunting",
          "Agriculture, Forestry, Fishing and Hunting",
          "Agriculture, Forestry, Fishing and Hunting",
          "Agriculture, Forestry, Fishing and Hunting",
          "Agriculture, Forestry, Fishing and Hunting",
          "Agriculture, Forestry, Fishing and Hunting",
          "Agriculture, Forestry, Fishing and Hunting",
          "Agriculture, Forestry, Fishing and Hunting",
          "Mining, Quarrying, and Oil and Gas Extraction",
          "Mining, Quarrying, and Oil and Gas Extraction",
          "Mining, Quarrying, and Oil and Gas Extraction",
          "Mining, Quarrying, and Oil and Gas Extraction",
          "Mining, Quarrying, and Oil and Gas Extraction",
          "Mining, Quarrying, and Oil and Gas Extraction",
          "Mining, Quarrying, and Oil and Gas Extraction",
          "Mining, Quarrying, and Oil and Gas Extraction",
          "Mining, Quarrying, and Oil and Gas Extraction",
          "Mining, Quarrying, and Oil and Gas Extraction",
          "Mining, Quarrying, and Oil and Gas Extraction",
          "Mining, Quarrying, and Oil and Gas Extraction",
          "Mining, Quarrying, and Oil and Gas Extraction",
          "Mining, Quarrying, and Oil and Gas Extraction",
          "Mining, Quarrying, and Oil and Gas Extraction",
          "Mining, Quarrying, and Oil and Gas Extraction",
          "Mining, Quarrying, and Oil and Gas Extraction",
          "Mining, Quarrying, and Oil and Gas Extraction",
          "Mining, Quarrying, and Oil and Gas Extraction",
          "Mining, Quarrying, and Oil and Gas Extraction",
          "Mining, Quarrying, and Oil and Gas Extraction",
          "Mining, Quarrying, and Oil and Gas Extraction",
          "Mining, Quarrying, and Oil and Gas Extraction",
          "Mining, Quarrying, and Oil and Gas Extraction",
          "Mining, Quarrying, and Oil and Gas Extraction",
          "Mining, Quarrying, and Oil and Gas Extraction",
          "Mining, Quarrying, and Oil and Gas Extraction",
          "Mining, Quarrying, and Oil and Gas Extraction",
          "Utilities",
          "Utilities",
          "Utilities",
          "Utilities",
          "Construction",
          "Construction",
          "Construction",
          "Construction",
          "Construction",
          "Construction",
          "Construction",
          "Construction",
          "Construction",
          "Construction",
          "Construction",
          "Construction",
          "Construction",
          "Construction",
          "Construction",
          "Construction",
          "Construction",
          "Construction",
          "Construction",
          "Construction",
          "Construction",
          "Construction",
          "Construction",
          "Construction",
          "Construction",
          "Construction",
          "Construction",
          "Construction",
          "Construction",
          "Construction",
          "Construction",
          "Manufacturing",
          "Manufacturing",
          "Manufacturing",
          "Manufacturing",
          "Manufacturing",
          "Manufacturing",
          "Manufacturing",
          "Manufacturing",
          "Manufacturing",
          "Manufacturing",
          "Manufacturing",
          "Manufacturing",
          "Manufacturing",
          "Manufacturing",
          "Manufacturing",
          "Manufacturing",
          "Manufacturing",
          "Manufacturing",
          "Manufacturing",
          "Manufacturing",
          "Manufacturing",
          "Manufacturing",
          "Manufacturing",
          "Manufacturing",
          "Manufacturing",
          "Manufacturing",
          "Manufacturing",
          "Manufacturing",
          "Manufacturing",
          "Manufacturing",
          "Manufacturing",
          "Manufacturing",
          "Manufacturing",
          "Manufacturing",
          "Manufacturing",
          "Manufacturing",
          "Manufacturing",
          "Manufacturing",
          "Manufacturing",
          "Manufacturing",
          "Manufacturing",
          "Manufacturing",
          "Manufacturing",
          "Manufacturing",
          "Manufacturing",
          "Manufacturing",
          "Manufacturing",
          "Manufacturing",
          "Manufacturing",
          "Manufacturing",
          "Manufacturing",
          "Manufacturing",
          "Manufacturing",
          "Manufacturing",
          "Manufacturing",
          "Manufacturing",
          "Manufacturing",
          "Manufacturing",
          "Manufacturing",
          "Manufacturing",
          "Manufacturing",
          "Manufacturing",
          "Manufacturing",
          "Manufacturing",
          "Manufacturing",
          "Manufacturing",
          "Manufacturing",
          "Manufacturing",
          "Manufacturing",
          "Manufacturing",
          "Manufacturing",
          "Manufacturing",
          "Manufacturing",
          "Manufacturing",
          "Manufacturing",
          "Manufacturing",
          "Manufacturing",
          "Manufacturing",
          "Manufacturing",
          "Manufacturing",
          "Manufacturing",
          "Manufacturing",
          "Manufacturing",
          "Manufacturing",
          "Manufacturing",
          "Manufacturing",
          "Manufacturing",
          "Manufacturing",
          "Manufacturing",
          "Manufacturing",
          "Manufacturing",
          "Manufacturing",
          "Manufacturing",
          "Manufacturing",
          "Manufacturing",
          "Manufacturing",
          "Manufacturing",
          "Manufacturing",
          "Manufacturing",
          "Manufacturing",
          "Manufacturing",
          "Manufacturing",
          "Manufacturing",
          "Manufacturing",
          "Manufacturing",
          "Manufacturing",
          "Manufacturing",
          "Manufacturing",
          "Manufacturing",
          "Manufacturing",
          "Manufacturing",
          "Manufacturing",
          "Manufacturing",
          "Manufacturing",
          "Manufacturing",
          "Manufacturing",
          "Manufacturing",
          "Manufacturing",
          "Manufacturing",
          "Manufacturing",
          "Manufacturing",
          "Manufacturing",
          "Manufacturing",
          "Manufacturing",
          "Manufacturing",
          "Manufacturing",
          "Manufacturing",
          "Manufacturing",
          "Manufacturing",
          "Manufacturing",
          "Manufacturing",
          "Manufacturing",
          "Manufacturing",
          "Manufacturing",
          "Manufacturing",
          "Manufacturing",
          "Manufacturing",
          "Manufacturing",
          "Manufacturing",
          "Manufacturing",
          "Manufacturing",
          "Manufacturing",
          "Manufacturing",
          "Manufacturing",
          "Manufacturing",
          "Manufacturing",
          "Manufacturing",
          "Manufacturing",
          "Manufacturing",
          "Manufacturing",
          "Manufacturing",
          "Manufacturing",
          "Manufacturing",
          "Manufacturing",
          "Manufacturing",
          "Manufacturing",
          "Manufacturing",
          "Manufacturing",
          "Manufacturing",
          "Manufacturing",
          "Manufacturing",
          "Manufacturing",
          "Manufacturing",
          "Manufacturing",
          "Manufacturing",
          "Manufacturing",
          "Manufacturing",
          "Manufacturing",
          "Manufacturing",
          "Manufacturing",
          "Manufacturing",
          "Manufacturing",
          "Manufacturing",
          "Manufacturing",
          "Manufacturing",
          "Manufacturing",
          "Manufacturing",
          "Manufacturing",
          "Manufacturing",
          "Manufacturing",
          "Manufacturing",
          "Manufacturing",
          "Manufacturing",
          "Manufacturing",
          "Manufacturing",
          "Manufacturing",
          "Manufacturing",
          "Manufacturing",
          "Manufacturing",
          "Manufacturing",
          "Manufacturing",
          "Manufacturing",
          "Manufacturing",
          "Manufacturing",
          "Manufacturing",
          "Manufacturing",
          "Manufacturing",
          "Manufacturing",
          "Manufacturing",
          "Manufacturing",
          "Manufacturing",
          "Manufacturing",
          "Manufacturing",
          "Manufacturing",
          "Manufacturing",
          "Manufacturing",
          "Manufacturing",
          "Manufacturing",
          "Manufacturing",
          "Manufacturing",
          "Manufacturing",
          "Manufacturing",
          "Manufacturing",
          "Manufacturing",
          "Manufacturing",
          "Manufacturing",
          "Manufacturing",
          "Manufacturing",
          "Manufacturing",
          "Manufacturing",
          "Manufacturing",
          "Manufacturing",
          "Manufacturing",
          "Manufacturing",
          "Manufacturing",
          "Manufacturing",
          "Manufacturing",
          "Manufacturing",
          "Manufacturing",
          "Manufacturing",
          "Manufacturing",
          "Manufacturing",
          "Manufacturing",
          "Manufacturing",
          "Manufacturing",
          "Manufacturing",
          "Manufacturing",
          "Manufacturing",
          "Manufacturing",
          "Manufacturing",
          "Manufacturing",
          "Manufacturing",
          "Manufacturing",
          "Manufacturing",
          "Manufacturing",
          "Manufacturing",
          "Manufacturing",
          "Manufacturing",
          "Manufacturing",
          "Manufacturing",
          "Manufacturing",
          "Manufacturing",
          "Manufacturing",
          "Manufacturing",
          "Manufacturing",
          "Manufacturing",
          "Manufacturing",
          "Manufacturing",
          "Manufacturing",
          "Manufacturing",
          "Manufacturing",
          "Manufacturing",
          "Manufacturing",
          "Manufacturing",
          "Manufacturing",
          "Manufacturing",
          "Manufacturing",
          "Manufacturing",
          "Manufacturing",
          "Manufacturing",
          "Manufacturing",
          "Manufacturing",
          "Manufacturing",
          "Manufacturing",
          "Manufacturing",
          "Manufacturing",
          "Manufacturing",
          "Manufacturing",
          "Manufacturing",
          "Manufacturing",
          "Manufacturing",
          "Manufacturing",
          "Manufacturing",
          "Manufacturing",
          "Manufacturing",
          "Manufacturing",
          "Manufacturing",
          "Manufacturing",
          "Manufacturing",
          "Manufacturing",
          "Manufacturing",
          "Manufacturing",
          "Manufacturing",
          "Manufacturing",
          "Manufacturing",
          "Manufacturing",
          "Manufacturing",
          "Manufacturing",
          "Manufacturing",
          "Manufacturing",
          "Manufacturing",
          "Manufacturing",
          "Manufacturing",
          "Manufacturing",
          "Manufacturing",
          "Manufacturing",
          "Manufacturing",
          "Manufacturing",
          "Manufacturing",
          "Manufacturing",
          "Manufacturing",
          "Manufacturing",
          "Manufacturing",
          "Manufacturing",
          "Manufacturing",
          "Manufacturing",
          "Manufacturing",
          "Manufacturing",
          "Manufacturing",
          "Manufacturing",
          "Manufacturing",
          "Manufacturing",
          "Manufacturing",
          "Manufacturing",
          "Manufacturing",
          "Manufacturing",
          "Manufacturing",
          "Manufacturing",
          "Manufacturing",
          "Manufacturing",
          "Manufacturing",
          "Manufacturing",
          "Manufacturing",
          "Manufacturing",
          "Manufacturing",
          "Manufacturing",
          "Manufacturing",
          "Manufacturing",
          "Manufacturing",
          "Manufacturing",
          "Manufacturing",
          "Manufacturing",
          "Manufacturing",
          "Manufacturing",
          "Manufacturing",
          "Manufacturing",
          "Manufacturing",
          "Manufacturing",
          "Manufacturing",
          "Manufacturing",
          "Manufacturing",
          "Manufacturing",
          "Manufacturing",
          "Manufacturing",
          "Manufacturing",
          "Manufacturing",
          "Manufacturing",
          "Manufacturing",
          "Manufacturing",
          "Wholesale Trade",
          "Wholesale Trade",
          "Wholesale Trade",
          "Wholesale Trade",
          "Wholesale Trade",
          "Wholesale Trade",
          "Wholesale Trade",
          "Wholesale Trade",
          "Wholesale Trade",
          "Wholesale Trade",
          "Wholesale Trade",
          "Wholesale Trade",
          "Wholesale Trade",
          "Wholesale Trade",
          "Wholesale Trade",
          "Wholesale Trade",
          "Wholesale Trade",
          "Wholesale Trade",
          "Wholesale Trade",
          "Wholesale Trade",
          "Wholesale Trade",
          "Wholesale Trade",
          "Wholesale Trade",
          "Wholesale Trade",
          "Wholesale Trade",
          "Wholesale Trade",
          "Wholesale Trade",
          "Wholesale Trade",
          "Wholesale Trade",
          "Wholesale Trade",
          "Wholesale Trade",
          "Wholesale Trade",
          "Wholesale Trade",
          "Wholesale Trade",
          "Wholesale Trade",
          "Wholesale Trade",
          "Wholesale Trade",
          "Wholesale Trade",
          "Wholesale Trade",
          "Wholesale Trade",
          "Wholesale Trade",
          "Wholesale Trade",
          "Wholesale Trade",
          "Wholesale Trade",
          "Wholesale Trade",
          "Wholesale Trade",
          "Wholesale Trade",
          "Wholesale Trade",
          "Wholesale Trade",
          "Wholesale Trade",
          "Wholesale Trade",
          "Wholesale Trade",
          "Wholesale Trade",
          "Wholesale Trade",
          "Wholesale Trade",
          "Wholesale Trade",
          "Wholesale Trade",
          "Wholesale Trade",
          "Wholesale Trade",
          "Wholesale Trade",
          "Wholesale Trade",
          "Wholesale Trade",
          "Wholesale Trade",
          "Wholesale Trade",
          "Wholesale Trade",
          "Wholesale Trade",
          "Wholesale Trade",
          "Wholesale Trade",
          "Wholesale Trade",
          "Wholesale Trade",
          "Wholesale Trade",
          "Retail Trade",
          "Retail Trade",
          "Retail Trade",
          "Retail Trade",
          "Retail Trade",
          "Retail Trade",
          "Retail Trade",
          "Retail Trade",
          "Retail Trade",
          "Retail Trade",
          "Retail Trade",
          "Retail Trade",
          "Retail Trade",
          "Retail Trade",
          "Retail Trade",
          "Retail Trade",
          "Retail Trade",
          "Retail Trade",
          "Retail Trade",
          "Retail Trade",
          "Retail Trade",
          "Retail Trade",
          "Retail Trade",
          "Retail Trade",
          "Retail Trade",
          "Retail Trade",
          "Retail Trade",
          "Retail Trade",
          "Retail Trade",
          "Retail Trade",
          "Retail Trade",
          "Retail Trade",
          "Retail Trade",
          "Retail Trade",
          "Retail Trade",
          "Retail Trade",
          "Retail Trade",
          "Retail Trade",
          "Retail Trade",
          "Retail Trade",
          "Retail Trade",
          "Retail Trade",
          "Retail Trade",
          "Retail Trade",
          "Retail Trade",
          "Retail Trade",
          "Retail Trade",
          "Retail Trade",
          "Retail Trade",
          "Retail Trade",
          "Retail Trade",
          "Retail Trade",
          "Retail Trade",
          "Retail Trade",
          "Retail Trade",
          "Retail Trade",
          "Retail Trade",
          "Retail Trade",
          "Retail Trade",
          "Retail Trade",
          "Retail Trade",
          "Retail Trade",
          "Retail Trade",
          "Retail Trade",
          "Retail Trade",
          "Retail Trade",
          "Transportation and Warehousing",
          "Transportation and Warehousing",
          "Transportation and Warehousing",
          "Transportation and Warehousing",
          "Transportation and Warehousing",
          "Transportation and Warehousing",
          "Transportation and Warehousing",
          "Transportation and Warehousing",
          "Transportation and Warehousing",
          "Transportation and Warehousing",
          "Transportation and Warehousing",
          "Transportation and Warehousing",
          "Transportation and Warehousing",
          "Transportation and Warehousing",
          "Transportation and Warehousing",
          "Transportation and Warehousing",
          "Transportation and Warehousing",
          "Transportation and Warehousing",
          "Transportation and Warehousing",
          "Transportation and Warehousing",
          "Transportation and Warehousing",
          "Transportation and Warehousing",
          "Transportation and Warehousing",
          "Transportation and Warehousing",
          "Transportation and Warehousing",
          "Transportation and Warehousing",
          "Transportation and Warehousing",
          "Transportation and Warehousing",
          "Transportation and Warehousing",
          "Transportation and Warehousing",
          "Transportation and Warehousing",
          "Transportation and Warehousing",
          "Transportation and Warehousing",
          "Transportation and Warehousing",
          "Transportation and Warehousing",
          "Transportation and Warehousing",
          "Transportation and Warehousing",
          "Transportation and Warehousing",
          "Transportation and Warehousing",
          "Transportation and Warehousing",
          "Transportation and Warehousing",
          "Transportation and Warehousing",
          "Transportation and Warehousing",
          "Transportation and Warehousing",
          "Transportation and Warehousing",
          "Transportation and Warehousing",
          "Transportation and Warehousing",
          "Transportation and Warehousing",
          "Transportation and Warehousing",
          "Transportation and Warehousing",
          "Transportation and Warehousing",
          "Transportation and Warehousing",
          "Transportation and Warehousing",
          "Transportation and Warehousing",
          "Transportation and Warehousing",
          "Transportation and Warehousing",
          "Transportation and Warehousing",
          "Information",
          "Information",
          "Information",
          "Information",
          "Information",
          "Information",
          "Information",
          "Information",
          "Information",
          "Information",
          "Information",
          "Information",
          "Information",
          "Information",
          "Information",
          "Information",
          "Information",
          "Information",
          "Information",
          "Information",
          "Information",
          "Information",
          "Information",
          "Information",
          "Information",
          "Information",
          "Information",
          "Information",
          "Information",
          "Information",
          "Information",
          "Finance and Insurance",
          "Finance and Insurance",
          "Finance and Insurance",
          "Finance and Insurance",
          "Finance and Insurance",
          "Finance and Insurance",
          "Finance and Insurance",
          "Finance and Insurance",
          "Finance and Insurance",
          "Finance and Insurance",
          "Finance and Insurance",
          "Finance and Insurance",
          "Finance and Insurance",
          "Finance and Insurance",
          "Finance and Insurance",
          "Finance and Insurance",
          "Finance and Insurance",
          "Finance and Insurance",
          "Finance and Insurance",
          "Finance and Insurance",
          "Finance and Insurance",
          "Finance and Insurance",
          "Finance and Insurance",
          "Finance and Insurance",
          "Finance and Insurance",
          "Finance and Insurance",
          "Finance and Insurance",
          "Finance and Insurance",
          "Finance and Insurance",
          "Finance and Insurance",
          "Finance and Insurance",
          "Finance and Insurance",
          "Finance and Insurance",
          "Finance and Insurance",
          "Finance and Insurance",
          "Finance and Insurance",
          "Finance and Insurance",
          "Finance and Insurance",
          "Finance and Insurance",
          "Finance and Insurance",
          "Finance and Insurance",
          "Real Estate and Rental and Leasing",
          "Real Estate and Rental and Leasing",
          "Real Estate and Rental and Leasing",
          "Real Estate and Rental and Leasing",
          "Real Estate and Rental and Leasing",
          "Real Estate and Rental and Leasing",
          "Real Estate and Rental and Leasing",
          "Real Estate and Rental and Leasing",
          "Real Estate and Rental and Leasing",
          "Real Estate and Rental and Leasing",
          "Real Estate and Rental and Leasing",
          "Real Estate and Rental and Leasing",
          "Real Estate and Rental and Leasing",
          "Real Estate and Rental and Leasing",
          "Real Estate and Rental and Leasing",
          "Real Estate and Rental and Leasing",
          "Real Estate and Rental and Leasing",
          "Real Estate and Rental and Leasing",
          "Real Estate and Rental and Leasing",
          "Real Estate and Rental and Leasing",
          "Real Estate and Rental and Leasing",
          "Real Estate and Rental and Leasing",
          "Real Estate and Rental and Leasing",
          "Real Estate and Rental and Leasing",
          "Professional, Scientific, and Technical Services",
          "Professional, Scientific, and Technical Services",
          "Professional, Scientific, and Technical Services",
          "Professional, Scientific, and Technical Services",
          "Professional, Scientific, and Technical Services",
          "Professional, Scientific, and Technical Services",
          "Professional, Scientific, and Technical Services",
          "Professional, Scientific, and Technical Services",
          "Professional, Scientific, and Technical Services",
          "Professional, Scientific, and Technical Services",
          "Professional, Scientific, and Technical Services",
          "Professional, Scientific, and Technical Services",
          "Professional, Scientific, and Technical Services",
          "Professional, Scientific, and Technical Services",
          "Professional, Scientific, and Technical Services",
          "Professional, Scientific, and Technical Services",
          "Professional, Scientific, and Technical Services",
          "Professional, Scientific, and Technical Services",
          "Professional, Scientific, and Technical Services",
          "Professional, Scientific, and Technical Services",
          "Professional, Scientific, and Technical Services",
          "Professional, Scientific, and Technical Services",
          "Professional, Scientific, and Technical Services",
          "Professional, Scientific, and Technical Services",
          "Professional, Scientific, and Technical Services",
          "Professional, Scientific, and Technical Services",
          "Professional, Scientific, and Technical Services",
          "Professional, Scientific, and Technical Services",
          "Professional, Scientific, and Technical Services",
          "Professional, Scientific, and Technical Services",
          "Professional, Scientific, and Technical Services",
          "Professional, Scientific, and Technical Services",
          "Professional, Scientific, and Technical Services",
          "Professional, Scientific, and Technical Services",
          "Professional, Scientific, and Technical Services",
          "Professional, Scientific, and Technical Services",
          "Professional, Scientific, and Technical Services",
          "Professional, Scientific, and Technical Services",
          "Professional, Scientific, and Technical Services",
          "Professional, Scientific, and Technical Services",
          "Professional, Scientific, and Technical Services",
          "Professional, Scientific, and Technical Services",
          "Professional, Scientific, and Technical Services",
          "Professional, Scientific, and Technical Services",
          "Professional, Scientific, and Technical Services",
          "Professional, Scientific, and Technical Services",
          "Professional, Scientific, and Technical Services",
          "Professional, Scientific, and Technical Services",
          "Professional, Scientific, and Technical Services",
          "Management of Companies and Enterprises",
          "Management of Companies and Enterprises",
          "Management of Companies and Enterprises",
          "Administrative and Support and Waste Management and Remediation Services",
          "Administrative and Support and Waste Management and Remediation Services",
          "Administrative and Support and Waste Management and Remediation Services",
          "Administrative and Support and Waste Management and Remediation Services",
          "Administrative and Support and Waste Management and Remediation Services",
          "Administrative and Support and Waste Management and Remediation Services",
          "Administrative and Support and Waste Management and Remediation Services",
          "Administrative and Support and Waste Management and Remediation Services",
          "Administrative and Support and Waste Management and Remediation Services",
          "Administrative and Support and Waste Management and Remediation Services",
          "Administrative and Support and Waste Management and Remediation Services",
          "Administrative and Support and Waste Management and Remediation Services",
          "Administrative and Support and Waste Management and Remediation Services",
          "Administrative and Support and Waste Management and Remediation Services",
          "Administrative and Support and Waste Management and Remediation Services",
          "Administrative and Support and Waste Management and Remediation Services",
          "Administrative and Support and Waste Management and Remediation Services",
          "Administrative and Support and Waste Management and Remediation Services",
          "Administrative and Support and Waste Management and Remediation Services",
          "Administrative and Support and Waste Management and Remediation Services",
          "Administrative and Support and Waste Management and Remediation Services",
          "Administrative and Support and Waste Management and Remediation Services",
          "Administrative and Support and Waste Management and Remediation Services",
          "Administrative and Support and Waste Management and Remediation Services",
          "Administrative and Support and Waste Management and Remediation Services",
          "Administrative and Support and Waste Management and Remediation Services",
          "Administrative and Support and Waste Management and Remediation Services",
          "Administrative and Support and Waste Management and Remediation Services",
          "Administrative and Support and Waste Management and Remediation Services",
          "Administrative and Support and Waste Management and Remediation Services",
          "Administrative and Support and Waste Management and Remediation Services",
          "Administrative and Support and Waste Management and Remediation Services",
          "Administrative and Support and Waste Management and Remediation Services",
          "Administrative and Support and Waste Management and Remediation Services",
          "Administrative and Support and Waste Management and Remediation Services",
          "Administrative and Support and Waste Management and Remediation Services",
          "Administrative and Support and Waste Management and Remediation Services",
          "Administrative and Support and Waste Management and Remediation Services",
          "Administrative and Support and Waste Management and Remediation Services",
          "Administrative and Support and Waste Management and Remediation Services",
          "Administrative and Support and Waste Management and Remediation Services",
          "Administrative and Support and Waste Management and Remediation Services",
          "Administrative and Support and Waste Management and Remediation Services",
          "Administrative and Support and Waste Management and Remediation Services",
          "Educational Services",
          "Educational Services",
          "Educational Services",
          "Educational Services",
          "Educational Services",
          "Educational Services",
          "Educational Services",
          "Educational Services",
          "Educational Services",
          "Educational Services",
          "Educational Services",
          "Educational Services",
          "Educational Services",
          "Educational Services",
          "Educational Services",
          "Educational Services",
          "Educational Services",
          "Health Care and Social Assistance",
          "Health Care and Social Assistance",
          "Health Care and Social Assistance",
          "Health Care and Social Assistance",
          "Health Care and Social Assistance",
          "Health Care and Social Assistance",
          "Health Care and Social Assistance",
          "Health Care and Social Assistance",
          "Health Care and Social Assistance",
          "Health Care and Social Assistance",
          "Health Care and Social Assistance",
          "Health Care and Social Assistance",
          "Health Care and Social Assistance",
          "Health Care and Social Assistance",
          "Health Care and Social Assistance",
          "Health Care and Social Assistance",
          "Health Care and Social Assistance",
          "Health Care and Social Assistance",
          "Health Care and Social Assistance",
          "Health Care and Social Assistance",
          "Health Care and Social Assistance",
          "Health Care and Social Assistance",
          "Health Care and Social Assistance",
          "Health Care and Social Assistance",
          "Health Care and Social Assistance",
          "Health Care and Social Assistance",
          "Health Care and Social Assistance",
          "Health Care and Social Assistance",
          "Health Care and Social Assistance",
          "Health Care and Social Assistance",
          "Health Care and Social Assistance",
          "Health Care and Social Assistance",
          "Health Care and Social Assistance",
          "Health Care and Social Assistance",
          "Health Care and Social Assistance",
          "Health Care and Social Assistance",
          "Health Care and Social Assistance",
          "Health Care and Social Assistance",
          "Health Care and Social Assistance",
          "Arts, Entertainment, and Recreation",
          "Arts, Entertainment, and Recreation",
          "Arts, Entertainment, and Recreation",
          "Arts, Entertainment, and Recreation",
          "Arts, Entertainment, and Recreation",
          "Arts, Entertainment, and Recreation",
          "Arts, Entertainment, and Recreation",
          "Arts, Entertainment, and Recreation",
          "Arts, Entertainment, and Recreation",
          "Arts, Entertainment, and Recreation",
          "Arts, Entertainment, and Recreation",
          "Arts, Entertainment, and Recreation",
          "Arts, Entertainment, and Recreation",
          "Arts, Entertainment, and Recreation",
          "Arts, Entertainment, and Recreation",
          "Arts, Entertainment, and Recreation",
          "Arts, Entertainment, and Recreation",
          "Arts, Entertainment, and Recreation",
          "Arts, Entertainment, and Recreation",
          "Arts, Entertainment, and Recreation",
          "Arts, Entertainment, and Recreation",
          "Arts, Entertainment, and Recreation",
          "Arts, Entertainment, and Recreation",
          "Arts, Entertainment, and Recreation",
          "Arts, Entertainment, and Recreation",
          "Accommodation and Food Services",
          "Accommodation and Food Services",
          "Accommodation and Food Services",
          "Accommodation and Food Services",
          "Accommodation and Food Services",
          "Accommodation and Food Services",
          "Accommodation and Food Services",
          "Accommodation and Food Services",
          "Accommodation and Food Services",
          "Accommodation and Food Services",
          "Accommodation and Food Services",
          "Accommodation and Food Services",
          "Accommodation and Food Services",
          "Accommodation and Food Services",
          "Accommodation and Food Services",
          "Other Services (except Public Administration)",
          "Other Services (except Public Administration)",
          "Other Services (except Public Administration)",
          "Other Services (except Public Administration)",
          "Other Services (except Public Administration)",
          "Other Services (except Public Administration)",
          "Other Services (except Public Administration)",
          "Other Services (except Public Administration)",
          "Other Services (except Public Administration)",
          "Other Services (except Public Administration)",
          "Other Services (except Public Administration)",
          "Other Services (except Public Administration)",
          "Other Services (except Public Administration)",
          "Other Services (except Public Administration)",
          "Other Services (except Public Administration)",
          "Other Services (except Public Administration)",
          "Other Services (except Public Administration)",
          "Other Services (except Public Administration)",
          "Other Services (except Public Administration)",
          "Other Services (except Public Administration)",
          "Other Services (except Public Administration)",
          "Other Services (except Public Administration)",
          "Other Services (except Public Administration)",
          "Other Services (except Public Administration)",
          "Other Services (except Public Administration)",
          "Other Services (except Public Administration)",
          "Other Services (except Public Administration)",
          "Other Services (except Public Administration)",
          "Other Services (except Public Administration)",
          "Other Services (except Public Administration)",
          "Other Services (except Public Administration)",
          "Other Services (except Public Administration)",
          "Other Services (except Public Administration)",
          "Other Services (except Public Administration)",
          "Other Services (except Public Administration)",
          "Other Services (except Public Administration)",
          "Other Services (except Public Administration)",
          "Other Services (except Public Administration)",
          "Other Services (except Public Administration)",
          "Other Services (except Public Administration)",
          "Other Services (except Public Administration)",
          "Other Services (except Public Administration)",
          "Other Services (except Public Administration)",
          "Other Services (except Public Administration)",
          "Other Services (except Public Administration)",
          "Other Services (except Public Administration)",
          "Other Services (except Public Administration)",
          "Other Services (except Public Administration)"
         ],
         "xaxis": "x",
         "y": [
          1.326,
          1.326,
          3.007,
          3.007,
          3.007,
          3.007,
          3.007,
          3.007,
          0.588,
          0.588,
          0.5,
          0.5,
          0.5,
          0.5,
          0.5,
          0.5,
          0.5,
          0.5,
          0.5,
          1.043,
          1.043,
          1.043,
          1.043,
          1.431,
          1.431,
          1.431,
          1.431,
          1.431,
          1.431,
          1.431,
          3.298,
          3.298,
          2.578,
          3.298,
          1.375,
          1.171,
          1.171,
          1.171,
          1.171,
          1.171,
          1.375,
          1.375,
          1.375,
          1.375,
          1.375,
          1.375,
          1.375,
          1.375,
          1.375,
          0.301,
          0.301,
          0.301,
          0.267,
          0.267,
          0.267,
          0.267,
          0.591,
          0.591,
          0.591,
          0.591,
          0.591,
          0.591,
          0.591,
          0.591,
          0.83,
          0.83,
          2.016,
          2.016,
          2.016,
          1.233,
          1.233,
          1.233,
          1.165,
          1.233,
          1.233,
          0.323,
          0.323,
          0.323,
          0.323,
          0.692,
          0.692,
          0.692,
          0.692,
          0.692,
          0.692,
          0.692,
          0.692,
          0.519,
          0.51,
          0.51,
          0.51,
          0.51,
          0.627,
          0.652,
          0.652,
          0.652,
          0.166,
          0.116,
          0.195,
          0.277,
          0.31,
          0.256,
          0.354,
          0.354,
          0.354,
          0.239,
          0.297,
          0.27,
          0.245,
          0.245,
          0.245,
          0.245,
          0.245,
          0.245,
          0.245,
          0.245,
          0.245,
          0.245,
          0.245,
          0.245,
          0.245,
          0.245,
          0.245,
          0.245,
          0.245,
          0.245,
          0.245,
          0.478,
          0.809,
          1.448,
          1.448,
          1.448,
          1.637,
          1.09,
          0.756,
          0.485,
          0.543,
          0.543,
          0.543,
          0.543,
          0.543,
          0.718,
          0.718,
          0.518,
          0.518,
          0.518,
          1.039,
          1.039,
          1.259,
          0.946,
          0.637,
          1.279,
          1.279,
          1.279,
          0.64,
          0.376,
          0.314,
          0.314,
          0.314,
          0.548,
          0.548,
          0.548,
          0.501,
          0.501,
          0.549,
          0.448,
          0.449,
          0.449,
          0.603,
          0.603,
          0.378,
          0.378,
          0.378,
          0.377,
          0.21,
          0.446,
          0.118,
          0.837,
          0.525,
          0.525,
          0.525,
          0.525,
          0.452,
          0.452,
          0.308,
          0.22,
          0.263,
          0.263,
          0.263,
          0.145,
          0.145,
          0.145,
          0.145,
          0.145,
          0.145,
          0.145,
          0.256,
          0.256,
          0.256,
          0.256,
          0.274,
          0.274,
          0.218,
          0.218,
          0.218,
          0.218,
          0.218,
          0.187,
          0.187,
          0.187,
          0.2,
          0.2,
          0.2,
          0.2,
          0.957,
          0.737,
          0.737,
          0.803,
          0.49,
          0.49,
          0.49,
          0.522,
          0.418,
          0.411,
          0.463,
          0.347,
          0.347,
          0.347,
          0.286,
          0.859,
          1.318,
          0.916,
          0.848,
          0.848,
          1.197,
          1.45,
          1.382,
          1.117,
          1.51,
          1.51,
          1.51,
          1.076,
          1.136,
          1.136,
          2.115,
          2.115,
          2.115,
          0.547,
          0.26,
          0.107,
          0.143,
          0.085,
          0.469,
          0.714,
          0.405,
          0.405,
          0.405,
          0.199,
          0.784,
          0.567,
          0.567,
          0.567,
          0.567,
          0.608,
          0.608,
          0.608,
          0.434,
          0.434,
          0.497,
          0.347,
          0.399,
          0.783,
          0.403,
          0.403,
          0.43,
          0.43,
          0.335,
          0.471,
          0.471,
          0.398,
          0.398,
          0.49,
          0.49,
          0.49,
          0.49,
          3.858,
          0.687,
          0.371,
          0.371,
          0.365,
          1.714,
          1.714,
          0.244,
          0.296,
          0.496,
          0.45,
          0.644,
          0.979,
          0.549,
          0.549,
          0.549,
          1.41,
          0.869,
          0.869,
          0.695,
          0.537,
          0.64,
          0.64,
          0.446,
          0.446,
          0.446,
          0.619,
          0.619,
          0.619,
          0.641,
          0.641,
          0.673,
          0.641,
          0.406,
          0.24,
          0.24,
          0.35,
          0.35,
          0.35,
          0.284,
          0.284,
          0.284,
          0.234,
          0.417,
          0.632,
          0.632,
          0.22,
          0.372,
          0.372,
          0.314,
          0.332,
          0.332,
          0.526,
          0.526,
          0.526,
          0.24,
          0.24,
          0.193,
          0.24,
          0.277,
          0.194,
          0.194,
          0.194,
          0.365,
          0.32,
          0.271,
          0.192,
          0.246,
          0.302,
          0.302,
          0.21,
          0.217,
          0.21,
          0.21,
          0.21,
          0.178,
          0.179,
          0.244,
          0.242,
          0.207,
          0.236,
          0.368,
          0.263,
          0.266,
          0.263,
          0.266,
          0.263,
          0.233,
          0.251,
          0.318,
          0.218,
          0.202,
          0.296,
          0.296,
          0.296,
          0.296,
          0.165,
          0.26,
          0.186,
          0.226,
          0.274,
          0.274,
          0.26,
          0.26,
          0.112,
          0.136,
          0.183,
          0.201,
          0.215,
          0.114,
          0.124,
          0.167,
          0.269,
          0.167,
          0.167,
          0.158,
          0.167,
          0.142,
          0.06,
          0.137,
          0.115,
          0.072,
          0.116,
          0.093,
          0.197,
          0.1,
          0.134,
          0.134,
          0.435,
          0.25,
          0.25,
          0.25,
          0.3,
          0.228,
          0.28,
          0.229,
          0.24,
          0.153,
          0.314,
          0.227,
          0.359,
          0.359,
          0.261,
          0.261,
          0.495,
          0.176,
          0.279,
          0.322,
          0.307,
          0.247,
          0.262,
          0.202,
          0.257,
          0.346,
          0.285,
          0.392,
          0.392,
          0.391,
          0.394,
          0.708,
          0.395,
          0.15,
          0.114,
          0.215,
          0.164,
          0.146,
          0.146,
          0.415,
          0.245,
          0.166,
          0.229,
          0.396,
          0.291,
          0.196,
          0.249,
          0.213,
          0.294,
          0.294,
          0.299,
          0.305,
          0.305,
          0.305,
          0.339,
          0.225,
          0.225,
          0.19,
          0.17,
          0.17,
          0.138,
          0.104,
          0.156,
          0.228,
          0.187,
          0.292,
          0.32,
          0.225,
          0.225,
          0.225,
          0.225,
          0.225,
          0.225,
          0.149,
          0.149,
          0.149,
          0.149,
          0.147,
          0.147,
          0.147,
          0.147,
          0.147,
          0.147,
          0.085,
          0.085,
          0.085,
          0.085,
          0.085,
          0.085,
          0.085,
          0.147,
          0.147,
          0.109,
          0.109,
          0.109,
          0.147,
          0.147,
          0.147,
          0.147,
          0.117,
          0.117,
          0.117,
          0.117,
          0.117,
          0.117,
          0.147,
          0.147,
          0.147,
          0.147,
          0.147,
          0.187,
          0.187,
          0.187,
          0.131,
          0.187,
          0.187,
          0.187,
          0.187,
          0.235,
          0.235,
          0.235,
          0.235,
          0.235,
          0.235,
          0.235,
          0.235,
          0.235,
          0.187,
          0.187,
          0.187,
          0.187,
          0.187,
          0.078,
          0.078,
          0.187,
          0.187,
          0.187,
          0.187,
          0.187,
          0.187,
          0.187,
          0.187,
          0.051,
          0.051,
          0.104,
          0.104,
          0.104,
          0.104,
          0.104,
          0.104,
          0.104,
          0.163,
          0.163,
          0.163,
          0.163,
          0.163,
          0.163,
          0.101,
          0.101,
          0.101,
          0.101,
          0.101,
          0.101,
          0.238,
          0.238,
          0.238,
          0.238,
          0.238,
          0.238,
          0.238,
          0.238,
          0.238,
          0.151,
          0.151,
          0.151,
          0.151,
          0.151,
          0.196,
          0.196,
          0.204,
          0.204,
          0.204,
          0.204,
          0.204,
          0.204,
          0.204,
          0.204,
          0.204,
          0.163,
          0.163,
          0.163,
          0.163,
          0.163,
          0.163,
          0.194,
          0.194,
          0.194,
          0.163,
          0.163,
          0.163,
          0.163,
          0.163,
          0.163,
          0.163,
          0.163,
          0.163,
          0.091,
          0.091,
          0.091,
          0.091,
          0.976,
          0.976,
          0.976,
          0.976,
          0.976,
          0.558,
          0.558,
          0.618,
          0.618,
          0.618,
          0.618,
          0.618,
          0.618,
          1.115,
          1.115,
          1.115,
          1.115,
          1.115,
          1.115,
          0.499,
          0.499,
          0.499,
          0.499,
          0.499,
          0.499,
          0.499,
          0.499,
          0.499,
          0.499,
          0.499,
          1.558,
          1.558,
          1.558,
          1.558,
          0.208,
          0.208,
          0.208,
          0.208,
          0.208,
          0.208,
          0.208,
          0.208,
          0.208,
          0.208,
          0.208,
          0.208,
          0.208,
          0.208,
          0.208,
          0.208,
          0.19,
          0.257,
          0.257,
          0.568,
          0.568,
          0.568,
          0.568,
          0.131,
          0.136,
          0.125,
          0.16,
          0.16,
          0.16,
          0.097,
          0.071,
          0.071,
          0.071,
          0.071,
          0.071,
          0.071,
          0.068,
          0.068,
          0.068,
          0.068,
          0.11,
          0.11,
          0.11,
          0.146,
          0.082,
          0.168,
          0.125,
          0.125,
          0.125,
          0.148,
          0.107,
          0.107,
          0.128,
          0.107,
          0.048,
          0.048,
          0.048,
          0.048,
          0.048,
          0.064,
          0.064,
          0.064,
          0.064,
          0.064,
          0.064,
          0.064,
          0.064,
          0.064,
          0.064,
          0.06,
          0.06,
          0.06,
          0.06,
          0.06,
          0.062,
          0.062,
          0.062,
          0.062,
          0.062,
          0.03,
          0.034,
          0.034,
          0.034,
          0.034,
          0.034,
          0.034,
          0.034,
          0.034,
          0.034,
          0.166,
          0.166,
          0.166,
          0.166,
          0.166,
          0.166,
          0.019,
          0.351,
          0.351,
          0.351,
          0.351,
          0.351,
          0.351,
          0.351,
          0.351,
          0.143,
          0.143,
          0.143,
          0.134,
          0.134,
          0.134,
          0.134,
          0.134,
          0.134,
          0.134,
          0.14,
          0.14,
          0.14,
          0.14,
          0.058,
          0.054,
          0.054,
          0.054,
          0.054,
          0.05,
          0.05,
          0.05,
          0.05,
          0.125,
          0.125,
          0.125,
          0.125,
          0.125,
          0.125,
          0.125,
          0.125,
          0.088,
          0.088,
          0.088,
          0.088,
          0.097,
          0.077,
          0.087,
          0.087,
          0.084,
          0.084,
          0.084,
          0.084,
          0.084,
          0.079,
          0.079,
          0.174,
          0.174,
          0.174,
          0.174,
          0.129,
          0.129,
          0.129,
          0.129,
          0.129,
          0.129,
          0.129,
          0.129,
          0.075,
          0.122,
          0.122,
          0.075,
          0.139,
          0.075,
          0.13,
          0.13,
          0.13,
          0.105,
          0.213,
          0.033,
          0.033,
          0.033,
          0.033,
          0.118,
          0.118,
          0.118,
          0.118,
          0.118,
          0.118,
          0.118,
          0.118,
          0.118,
          0.118,
          0.103,
          0.103,
          0.103,
          0.103,
          0.08,
          0.08,
          0.08,
          0.08,
          0.08,
          0.167,
          0.167,
          0.167,
          0.167,
          0.167,
          0.121,
          0.121,
          0.121,
          0.197,
          1.777,
          0.632,
          1.777,
          10.989,
          2.166,
          0.632,
          0.163,
          0.158,
          0.632,
          0.632,
          0.137,
          0.168,
          0.168,
          0.125,
          0.125,
          0.125,
          0.125,
          0.125,
          0.125,
          0.125,
          0.125,
          0.125,
          0.125,
          0.125,
          0.125,
          0.125,
          0.125,
          0.086,
          0.086,
          0.09,
          0.12,
          0.12,
          0.12,
          0.12,
          0.12,
          0.12,
          0.116,
          0.116,
          0.116,
          0.116,
          0.116,
          0.116,
          0.127,
          0.127,
          0.112,
          0.181,
          0.181,
          0.181,
          0.157,
          0.157,
          0.157,
          0.157,
          0.163,
          0.163,
          0.157,
          0.157,
          0.163,
          0.145,
          0.145,
          0.145,
          0.248,
          0.248,
          0.248,
          0.248,
          0.248,
          0.166,
          0.084,
          0.084,
          0.084,
          0.084,
          0.072,
          0.072,
          0.072,
          0.083,
          0.083,
          0.083,
          0.013,
          0.156,
          0.156,
          0.156,
          0.156,
          0.138,
          0.138,
          0.163,
          0.163,
          0.312,
          0.312,
          0.312,
          0.312,
          0.312,
          0.312,
          0.183,
          0.183,
          0.183,
          0.183,
          0.183,
          0.183,
          0.183,
          0.155,
          0.155,
          0.155,
          0.155,
          0.218,
          0.287,
          0.155,
          0.155,
          0.127,
          0.127,
          0.127,
          0.127,
          0.127,
          0.127,
          0.127,
          0.127,
          0.127,
          0.09,
          0.09,
          0.09,
          0.09,
          0.14,
          0.086,
          0.086,
          0.086,
          0.086,
          0.086,
          0.109,
          0.109,
          0.109,
          0.109,
          0.109,
          0.034,
          0.034,
          0.162,
          0.162,
          0.162,
          0.162,
          0.099,
          0.099,
          0.099,
          0.099,
          0.099,
          0.197,
          0.065,
          0.065,
          0.065,
          0.065,
          0.065,
          0.065,
          0.136,
          0.136,
          0.136,
          0.136,
          0.136,
          0.136
         ],
         "yaxis": "y"
        }
       ],
       "layout": {
        "barmode": "relative",
        "height": 1000,
        "legend": {
         "tracegroupgap": 0
        },
        "template": {
         "data": {
          "bar": [
           {
            "error_x": {
             "color": "#2a3f5f"
            },
            "error_y": {
             "color": "#2a3f5f"
            },
            "marker": {
             "line": {
              "color": "#E5ECF6",
              "width": 0.5
             },
             "pattern": {
              "fillmode": "overlay",
              "size": 10,
              "solidity": 0.2
             }
            },
            "type": "bar"
           }
          ],
          "barpolar": [
           {
            "marker": {
             "line": {
              "color": "#E5ECF6",
              "width": 0.5
             },
             "pattern": {
              "fillmode": "overlay",
              "size": 10,
              "solidity": 0.2
             }
            },
            "type": "barpolar"
           }
          ],
          "carpet": [
           {
            "aaxis": {
             "endlinecolor": "#2a3f5f",
             "gridcolor": "white",
             "linecolor": "white",
             "minorgridcolor": "white",
             "startlinecolor": "#2a3f5f"
            },
            "baxis": {
             "endlinecolor": "#2a3f5f",
             "gridcolor": "white",
             "linecolor": "white",
             "minorgridcolor": "white",
             "startlinecolor": "#2a3f5f"
            },
            "type": "carpet"
           }
          ],
          "choropleth": [
           {
            "colorbar": {
             "outlinewidth": 0,
             "ticks": ""
            },
            "type": "choropleth"
           }
          ],
          "contour": [
           {
            "colorbar": {
             "outlinewidth": 0,
             "ticks": ""
            },
            "colorscale": [
             [
              0,
              "#0d0887"
             ],
             [
              0.1111111111111111,
              "#46039f"
             ],
             [
              0.2222222222222222,
              "#7201a8"
             ],
             [
              0.3333333333333333,
              "#9c179e"
             ],
             [
              0.4444444444444444,
              "#bd3786"
             ],
             [
              0.5555555555555556,
              "#d8576b"
             ],
             [
              0.6666666666666666,
              "#ed7953"
             ],
             [
              0.7777777777777778,
              "#fb9f3a"
             ],
             [
              0.8888888888888888,
              "#fdca26"
             ],
             [
              1,
              "#f0f921"
             ]
            ],
            "type": "contour"
           }
          ],
          "contourcarpet": [
           {
            "colorbar": {
             "outlinewidth": 0,
             "ticks": ""
            },
            "type": "contourcarpet"
           }
          ],
          "heatmap": [
           {
            "colorbar": {
             "outlinewidth": 0,
             "ticks": ""
            },
            "colorscale": [
             [
              0,
              "#0d0887"
             ],
             [
              0.1111111111111111,
              "#46039f"
             ],
             [
              0.2222222222222222,
              "#7201a8"
             ],
             [
              0.3333333333333333,
              "#9c179e"
             ],
             [
              0.4444444444444444,
              "#bd3786"
             ],
             [
              0.5555555555555556,
              "#d8576b"
             ],
             [
              0.6666666666666666,
              "#ed7953"
             ],
             [
              0.7777777777777778,
              "#fb9f3a"
             ],
             [
              0.8888888888888888,
              "#fdca26"
             ],
             [
              1,
              "#f0f921"
             ]
            ],
            "type": "heatmap"
           }
          ],
          "heatmapgl": [
           {
            "colorbar": {
             "outlinewidth": 0,
             "ticks": ""
            },
            "colorscale": [
             [
              0,
              "#0d0887"
             ],
             [
              0.1111111111111111,
              "#46039f"
             ],
             [
              0.2222222222222222,
              "#7201a8"
             ],
             [
              0.3333333333333333,
              "#9c179e"
             ],
             [
              0.4444444444444444,
              "#bd3786"
             ],
             [
              0.5555555555555556,
              "#d8576b"
             ],
             [
              0.6666666666666666,
              "#ed7953"
             ],
             [
              0.7777777777777778,
              "#fb9f3a"
             ],
             [
              0.8888888888888888,
              "#fdca26"
             ],
             [
              1,
              "#f0f921"
             ]
            ],
            "type": "heatmapgl"
           }
          ],
          "histogram": [
           {
            "marker": {
             "pattern": {
              "fillmode": "overlay",
              "size": 10,
              "solidity": 0.2
             }
            },
            "type": "histogram"
           }
          ],
          "histogram2d": [
           {
            "colorbar": {
             "outlinewidth": 0,
             "ticks": ""
            },
            "colorscale": [
             [
              0,
              "#0d0887"
             ],
             [
              0.1111111111111111,
              "#46039f"
             ],
             [
              0.2222222222222222,
              "#7201a8"
             ],
             [
              0.3333333333333333,
              "#9c179e"
             ],
             [
              0.4444444444444444,
              "#bd3786"
             ],
             [
              0.5555555555555556,
              "#d8576b"
             ],
             [
              0.6666666666666666,
              "#ed7953"
             ],
             [
              0.7777777777777778,
              "#fb9f3a"
             ],
             [
              0.8888888888888888,
              "#fdca26"
             ],
             [
              1,
              "#f0f921"
             ]
            ],
            "type": "histogram2d"
           }
          ],
          "histogram2dcontour": [
           {
            "colorbar": {
             "outlinewidth": 0,
             "ticks": ""
            },
            "colorscale": [
             [
              0,
              "#0d0887"
             ],
             [
              0.1111111111111111,
              "#46039f"
             ],
             [
              0.2222222222222222,
              "#7201a8"
             ],
             [
              0.3333333333333333,
              "#9c179e"
             ],
             [
              0.4444444444444444,
              "#bd3786"
             ],
             [
              0.5555555555555556,
              "#d8576b"
             ],
             [
              0.6666666666666666,
              "#ed7953"
             ],
             [
              0.7777777777777778,
              "#fb9f3a"
             ],
             [
              0.8888888888888888,
              "#fdca26"
             ],
             [
              1,
              "#f0f921"
             ]
            ],
            "type": "histogram2dcontour"
           }
          ],
          "mesh3d": [
           {
            "colorbar": {
             "outlinewidth": 0,
             "ticks": ""
            },
            "type": "mesh3d"
           }
          ],
          "parcoords": [
           {
            "line": {
             "colorbar": {
              "outlinewidth": 0,
              "ticks": ""
             }
            },
            "type": "parcoords"
           }
          ],
          "pie": [
           {
            "automargin": true,
            "type": "pie"
           }
          ],
          "scatter": [
           {
            "fillpattern": {
             "fillmode": "overlay",
             "size": 10,
             "solidity": 0.2
            },
            "type": "scatter"
           }
          ],
          "scatter3d": [
           {
            "line": {
             "colorbar": {
              "outlinewidth": 0,
              "ticks": ""
             }
            },
            "marker": {
             "colorbar": {
              "outlinewidth": 0,
              "ticks": ""
             }
            },
            "type": "scatter3d"
           }
          ],
          "scattercarpet": [
           {
            "marker": {
             "colorbar": {
              "outlinewidth": 0,
              "ticks": ""
             }
            },
            "type": "scattercarpet"
           }
          ],
          "scattergeo": [
           {
            "marker": {
             "colorbar": {
              "outlinewidth": 0,
              "ticks": ""
             }
            },
            "type": "scattergeo"
           }
          ],
          "scattergl": [
           {
            "marker": {
             "colorbar": {
              "outlinewidth": 0,
              "ticks": ""
             }
            },
            "type": "scattergl"
           }
          ],
          "scattermapbox": [
           {
            "marker": {
             "colorbar": {
              "outlinewidth": 0,
              "ticks": ""
             }
            },
            "type": "scattermapbox"
           }
          ],
          "scatterpolar": [
           {
            "marker": {
             "colorbar": {
              "outlinewidth": 0,
              "ticks": ""
             }
            },
            "type": "scatterpolar"
           }
          ],
          "scatterpolargl": [
           {
            "marker": {
             "colorbar": {
              "outlinewidth": 0,
              "ticks": ""
             }
            },
            "type": "scatterpolargl"
           }
          ],
          "scatterternary": [
           {
            "marker": {
             "colorbar": {
              "outlinewidth": 0,
              "ticks": ""
             }
            },
            "type": "scatterternary"
           }
          ],
          "surface": [
           {
            "colorbar": {
             "outlinewidth": 0,
             "ticks": ""
            },
            "colorscale": [
             [
              0,
              "#0d0887"
             ],
             [
              0.1111111111111111,
              "#46039f"
             ],
             [
              0.2222222222222222,
              "#7201a8"
             ],
             [
              0.3333333333333333,
              "#9c179e"
             ],
             [
              0.4444444444444444,
              "#bd3786"
             ],
             [
              0.5555555555555556,
              "#d8576b"
             ],
             [
              0.6666666666666666,
              "#ed7953"
             ],
             [
              0.7777777777777778,
              "#fb9f3a"
             ],
             [
              0.8888888888888888,
              "#fdca26"
             ],
             [
              1,
              "#f0f921"
             ]
            ],
            "type": "surface"
           }
          ],
          "table": [
           {
            "cells": {
             "fill": {
              "color": "#EBF0F8"
             },
             "line": {
              "color": "white"
             }
            },
            "header": {
             "fill": {
              "color": "#C8D4E3"
             },
             "line": {
              "color": "white"
             }
            },
            "type": "table"
           }
          ]
         },
         "layout": {
          "annotationdefaults": {
           "arrowcolor": "#2a3f5f",
           "arrowhead": 0,
           "arrowwidth": 1
          },
          "autotypenumbers": "strict",
          "coloraxis": {
           "colorbar": {
            "outlinewidth": 0,
            "ticks": ""
           }
          },
          "colorscale": {
           "diverging": [
            [
             0,
             "#8e0152"
            ],
            [
             0.1,
             "#c51b7d"
            ],
            [
             0.2,
             "#de77ae"
            ],
            [
             0.3,
             "#f1b6da"
            ],
            [
             0.4,
             "#fde0ef"
            ],
            [
             0.5,
             "#f7f7f7"
            ],
            [
             0.6,
             "#e6f5d0"
            ],
            [
             0.7,
             "#b8e186"
            ],
            [
             0.8,
             "#7fbc41"
            ],
            [
             0.9,
             "#4d9221"
            ],
            [
             1,
             "#276419"
            ]
           ],
           "sequential": [
            [
             0,
             "#0d0887"
            ],
            [
             0.1111111111111111,
             "#46039f"
            ],
            [
             0.2222222222222222,
             "#7201a8"
            ],
            [
             0.3333333333333333,
             "#9c179e"
            ],
            [
             0.4444444444444444,
             "#bd3786"
            ],
            [
             0.5555555555555556,
             "#d8576b"
            ],
            [
             0.6666666666666666,
             "#ed7953"
            ],
            [
             0.7777777777777778,
             "#fb9f3a"
            ],
            [
             0.8888888888888888,
             "#fdca26"
            ],
            [
             1,
             "#f0f921"
            ]
           ],
           "sequentialminus": [
            [
             0,
             "#0d0887"
            ],
            [
             0.1111111111111111,
             "#46039f"
            ],
            [
             0.2222222222222222,
             "#7201a8"
            ],
            [
             0.3333333333333333,
             "#9c179e"
            ],
            [
             0.4444444444444444,
             "#bd3786"
            ],
            [
             0.5555555555555556,
             "#d8576b"
            ],
            [
             0.6666666666666666,
             "#ed7953"
            ],
            [
             0.7777777777777778,
             "#fb9f3a"
            ],
            [
             0.8888888888888888,
             "#fdca26"
            ],
            [
             1,
             "#f0f921"
            ]
           ]
          },
          "colorway": [
           "#636efa",
           "#EF553B",
           "#00cc96",
           "#ab63fa",
           "#FFA15A",
           "#19d3f3",
           "#FF6692",
           "#B6E880",
           "#FF97FF",
           "#FECB52"
          ],
          "font": {
           "color": "#2a3f5f"
          },
          "geo": {
           "bgcolor": "white",
           "lakecolor": "white",
           "landcolor": "#E5ECF6",
           "showlakes": true,
           "showland": true,
           "subunitcolor": "white"
          },
          "hoverlabel": {
           "align": "left"
          },
          "hovermode": "closest",
          "mapbox": {
           "style": "light"
          },
          "paper_bgcolor": "white",
          "plot_bgcolor": "#E5ECF6",
          "polar": {
           "angularaxis": {
            "gridcolor": "white",
            "linecolor": "white",
            "ticks": ""
           },
           "bgcolor": "#E5ECF6",
           "radialaxis": {
            "gridcolor": "white",
            "linecolor": "white",
            "ticks": ""
           }
          },
          "scene": {
           "xaxis": {
            "backgroundcolor": "#E5ECF6",
            "gridcolor": "white",
            "gridwidth": 2,
            "linecolor": "white",
            "showbackground": true,
            "ticks": "",
            "zerolinecolor": "white"
           },
           "yaxis": {
            "backgroundcolor": "#E5ECF6",
            "gridcolor": "white",
            "gridwidth": 2,
            "linecolor": "white",
            "showbackground": true,
            "ticks": "",
            "zerolinecolor": "white"
           },
           "zaxis": {
            "backgroundcolor": "#E5ECF6",
            "gridcolor": "white",
            "gridwidth": 2,
            "linecolor": "white",
            "showbackground": true,
            "ticks": "",
            "zerolinecolor": "white"
           }
          },
          "shapedefaults": {
           "line": {
            "color": "#2a3f5f"
           }
          },
          "ternary": {
           "aaxis": {
            "gridcolor": "white",
            "linecolor": "white",
            "ticks": ""
           },
           "baxis": {
            "gridcolor": "white",
            "linecolor": "white",
            "ticks": ""
           },
           "bgcolor": "#E5ECF6",
           "caxis": {
            "gridcolor": "white",
            "linecolor": "white",
            "ticks": ""
           }
          },
          "title": {
           "x": 0.05
          },
          "xaxis": {
           "automargin": true,
           "gridcolor": "white",
           "linecolor": "white",
           "ticks": "",
           "title": {
            "standoff": 15
           },
           "zerolinecolor": "white",
           "zerolinewidth": 2
          },
          "yaxis": {
           "automargin": true,
           "gridcolor": "white",
           "linecolor": "white",
           "ticks": "",
           "title": {
            "standoff": 15
           },
           "zerolinecolor": "white",
           "zerolinewidth": 2
          }
         }
        },
        "title": {
         "text": "Stacked Bar Chart with Contribution"
        },
        "width": 1100,
        "xaxis": {
         "anchor": "y",
         "autorange": true,
         "categoryorder": "category ascending",
         "domain": [
          0,
          1
         ],
         "range": [
          -0.5,
          18.5
         ],
         "title": {
          "text": "Sector"
         },
         "type": "category"
        },
        "yaxis": {
         "anchor": "x",
         "autorange": true,
         "domain": [
          0,
          1
         ],
         "range": [
          0,
          170.56631578947355
         ],
         "title": {
          "text": "Supply Chain Emission Factors with Margins"
         },
         "type": "linear"
        }
       }
      },
      "image/png": "[encoded data removed]",
      "text/html": [
       "<div>                            <div id=\"10f33567-5045-44a3-8059-4de7dbb51c3c\" class=\"plotly-graph-div\" style=\"height:1000px; width:1100px;\"></div>            <script type=\"text/javascript\">                require([\"plotly\"], function(Plotly) {                    window.PLOTLYENV=window.PLOTLYENV || {};                                    if (document.getElementById(\"10f33567-5045-44a3-8059-4de7dbb51c3c\")) {                    Plotly.newPlot(                        \"10f33567-5045-44a3-8059-4de7dbb51c3c\",                        [{\"alignmentgroup\":\"True\",\"customdata\":[[\"Soybean Farming\"],[\"Oilseed (except Soybean) Farming\"],[\"Dry Pea and Bean Farming\"],[\"Wheat Farming\"],[\"Corn Farming\"],[\"Rice Farming\"],[\"Oilseed and Grain Combination Farming\"],[\"All Other Grain Farming\"],[\"Potato Farming\"],[\"Other Vegetable (except Potato) and Melon Farming\"],[\"Orange Groves\"],[\"Citrus (except Orange) Groves\"],[\"Apple Orchards\"],[\"Grape Vineyards\"],[\"Strawberry Farming\"],[\"Berry (except Strawberry) Farming\"],[\"Tree Nut Farming\"],[\"Fruit and Tree Nut Combination Farming\"],[\"Other Noncitrus Fruit Farming\"],[\"Mushroom Production\"],[\"Other Food Crops Grown Under Cover\"],[\"Nursery and Tree Production\"],[\"Floriculture Production\"],[\"Tobacco Farming\"],[\"Cotton Farming\"],[\"Sugarcane Farming\"],[\"Hay Farming\"],[\"Sugar Beet Farming\"],[\"Peanut Farming\"],[\"All Other Miscellaneous Crop Farming\"],[\"Beef Cattle Ranching and Farming\"],[\"Cattle Feedlots\"],[\"Dairy Cattle and Milk Production\"],[\"Dual-Purpose Cattle Ranching and Farming\"],[\"Hog and Pig Farming\"],[\"Chicken Egg Production\"],[\"Broilers and Other Meat Type Chicken Production\"],[\"Turkey Production\"],[\"Poultry Hatcheries\"],[\"Other Poultry Production\"],[\"Sheep Farming\"],[\"Goat Farming\"],[\"Finfish Farming and Fish Hatcheries\"],[\"Shellfish Farming\"],[\"Other Aquaculture\"],[\"Apiculture\"],[\"Horses and Other Equine Production\"],[\"Fur-Bearing Animal and Rabbit Production\"],[\"All Other Animal Production\"],[\"Timber Tract Operations\"],[\"Forest Nurseries and Gathering of Forest Products\"],[\"Logging\"],[\"Finfish Fishing\"],[\"Shellfish Fishing\"],[\"Other Marine Fishing\"],[\"Hunting and Trapping\"],[\"Cotton Ginning\"],[\"Soil Preparation, Planting, and Cultivating\"],[\"Crop Harvesting, Primarily by Machine\"],[\"Postharvest Crop Activities (except Cotton Ginning)\"],[\"Farm Labor Contractors and Crew Leaders\"],[\"Farm Management Services\"],[\"Support Activities for Animal Production\"],[\"Support Activities for Forestry\"],[\"Crude Petroleum Extraction\"],[\"Natural Gas Extraction\"],[\"Bituminous Coal and Lignite Surface Mining\"],[\"Bituminous Coal Underground Mining\"],[\"Anthracite Mining\"],[\"Iron Ore Mining\"],[\"Gold Ore Mining\"],[\"Silver Ore Mining\"],[\"Copper, Nickel, Lead, and Zinc Mining\"],[\"Uranium-Radium-Vanadium Ore Mining\"],[\"All Other Metal Ore Mining\"],[\"Dimension Stone Mining and Quarrying\"],[\"Crushed and Broken Limestone Mining and Quarrying\"],[\"Crushed and Broken Granite Mining and Quarrying\"],[\"Other Crushed and Broken Stone Mining and Quarrying\"],[\"Construction Sand and Gravel Mining\"],[\"Industrial Sand Mining\"],[\"Kaolin and Ball Clay Mining\"],[\"Clay and Ceramic and Refractory Minerals Mining\"],[\"Potash, Soda, and Borate Mineral Mining\"],[\"Phosphate Rock Mining\"],[\"Other Chemical and Fertilizer Mineral Mining\"],[\"All Other Nonmetallic Mineral Mining\"],[\"Drilling Oil and Gas Wells\"],[\"Support Activities for Oil and Gas Operations\"],[\"Support Activities for Coal Mining\"],[\"Support Activities for Metal Mining\"],[\"Support Activities for Nonmetallic Minerals (except Fuels) Mining\"],[\"Natural Gas Distribution\"],[\"Water Supply and Irrigation Systems\"],[\"Sewage Treatment Facilities\"],[\"Steam and Air-Conditioning Supply\"],[\"New Single-Family Housing Construction (except For-Sale Builders)\"],[\"New Multifamily Housing Construction (except For-Sale Builders)\"],[\"New Housing For-Sale Builders\"],[\"Residential Remodelers\"],[\"Industrial Building Construction\"],[\"Commercial and Institutional Building Construction\"],[\"Water and Sewer Line and Related Structures Construction\"],[\"Oil and Gas Pipeline and Related Structures Construction\"],[\"Power and Communication Line and Related Structures Construction\"],[\"Land Subdivision\"],[\"Highway, Street, and Bridge Construction\"],[\"Other Heavy and Civil Engineering Construction\"],[\"Poured Concrete Foundation and Structure Contractors\"],[\"Structural Steel and Precast Concrete Contractors\"],[\"Framing Contractors\"],[\"Masonry Contractors\"],[\"Glass and Glazing Contractors\"],[\"Roofing Contractors\"],[\"Siding Contractors\"],[\"Other Foundation, Structure, and Building Exterior Contractors\"],[\"Electrical Contractors and Other Wiring Installation Contractors\"],[\"Plumbing, Heating, and Air-Conditioning Contractors\"],[\"Other Building Equipment Contractors\"],[\"Drywall and Insulation Contractors\"],[\"Painting and Wall Covering Contractors\"],[\"Flooring Contractors\"],[\"Tile and Terrazzo Contractors\"],[\"Finish Carpentry Contractors\"],[\"Other Building Finishing Contractors\"],[\"Site Preparation Contractors\"],[\"All Other Specialty Trade Contractors\"],[\"Dog and Cat Food Manufacturing\"],[\"Other Animal Food Manufacturing\"],[\"Flour Milling\"],[\"Rice Milling\"],[\"Malt Manufacturing\"],[\"Wet Corn Milling\"],[\"Soybean and Other Oilseed Processing\"],[\"Fats and Oils Refining and Blending\"],[\"Breakfast Cereal Manufacturing\"],[\"Beet Sugar Manufacturing\"],[\"Cane Sugar Manufacturing\"],[\"Nonchocolate Confectionery Manufacturing\"],[\"Chocolate and Confectionery Manufacturing from Cacao Beans\"],[\"Confectionery Manufacturing from Purchased Chocolate\"],[\"Frozen Fruit, Juice, and Vegetable Manufacturing\"],[\"Frozen Specialty Food Manufacturing\"],[\"Fruit and Vegetable Canning\"],[\"Specialty Canning\"],[\"Dried and Dehydrated Food Manufacturing\"],[\"Fluid Milk Manufacturing\"],[\"Creamery Butter Manufacturing\"],[\"Cheese Manufacturing\"],[\"Dry, Condensed, and Evaporated Dairy Product Manufacturing\"],[\"Ice Cream and Frozen Dessert Manufacturing\"],[\"Animal (except Poultry) Slaughtering\"],[\"Meat Processed from Carcasses\"],[\"Rendering and Meat Byproduct Processing\"],[\"Poultry Processing\"],[\"Seafood Product Preparation and Packaging\"],[\"Retail Bakeries\"],[\"Commercial Bakeries\"],[\"Frozen Cakes, Pies, and Other Pastries Manufacturing\"],[\"Cookie and Cracker Manufacturing\"],[\"Dry Pasta, Dough, and Flour Mixes Manufacturing from Purchased Flour\"],[\"Tortilla Manufacturing\"],[\"Roasted Nuts and Peanut Butter Manufacturing\"],[\"Other Snack Food Manufacturing\"],[\"Coffee and Tea Manufacturing\"],[\"Flavoring Syrup and Concentrate Manufacturing\"],[\"Mayonnaise, Dressing, and Other Prepared Sauce Manufacturing\"],[\"Spice and Extract Manufacturing\"],[\"Perishable Prepared Food Manufacturing\"],[\"All Other Miscellaneous Food Manufacturing\"],[\"Soft Drink Manufacturing\"],[\"Bottled Water Manufacturing\"],[\"Ice Manufacturing\"],[\"Breweries\"],[\"Wineries\"],[\"Distilleries\"],[\"Tobacco Manufacturing\"],[\"Fiber, Yarn, and Thread Mills\"],[\"Broadwoven Fabric Mills\"],[\"Narrow Fabric Mills and Schiffli Machine Embroidery\"],[\"Nonwoven Fabric Mills\"],[\"Knit Fabric Mills\"],[\"Textile and Fabric Finishing Mills\"],[\"Fabric Coating Mills\"],[\"Carpet and Rug Mills\"],[\"Curtain and Linen Mills\"],[\"Textile Bag and Canvas Mills\"],[\"Rope, Cordage, Twine, Tire Cord, and Tire Fabric Mills\"],[\"All Other Miscellaneous Textile Product Mills\"],[\"Hosiery and Sock Mills\"],[\"Other Apparel Knitting Mills\"],[\"Cut and Sew Apparel Contractors\"],[\"Men's and Boys' Cut and Sew Apparel Manufacturing\"],[\"Women's, Girls', and Infants' Cut and Sew Apparel Manufacturing\"],[\"Other Cut and Sew Apparel Manufacturing\"],[\"Apparel Accessories and Other Apparel Manufacturing\"],[\"Leather and Hide Tanning and Finishing\"],[\"Footwear Manufacturing\"],[\"Women's Handbag and Purse Manufacturing\"],[\"All Other Leather Good and Allied Product Manufacturing\"],[\"Sawmills\"],[\"Wood Preservation\"],[\"Hardwood Veneer and Plywood Manufacturing\"],[\"Softwood Veneer and Plywood Manufacturing\"],[\"Engineered Wood Member (except Truss) Manufacturing\"],[\"Truss Manufacturing\"],[\"Reconstituted Wood Product Manufacturing\"],[\"Wood Window and Door Manufacturing\"],[\"Cut Stock, Resawing Lumber, and Planing\"],[\"Other Millwork (including Flooring)\"],[\"Wood Container and Pallet Manufacturing\"],[\"Manufactured Home (Mobile Home) Manufacturing\"],[\"Prefabricated Wood Building Manufacturing\"],[\"All Other Miscellaneous Wood Product Manufacturing\"],[\"Pulp Mills\"],[\"Paper (except Newsprint) Mills\"],[\"Newsprint Mills\"],[\"Paperboard Mills\"],[\"Corrugated and Solid Fiber Box Manufacturing\"],[\"Folding Paperboard Box Manufacturing\"],[\"Other Paperboard Container Manufacturing\"],[\"Paper Bag and Coated and Treated Paper Manufacturing\"],[\"Stationery Product Manufacturing\"],[\"Sanitary Paper Product Manufacturing\"],[\"All Other Converted Paper Product Manufacturing\"],[\"Commercial Printing (except Screen and Books)\"],[\"Commercial Screen Printing\"],[\"Books Printing\"],[\"Support Activites for Printing\"],[\"Petroleum Refineries\"],[\"Asphalt Paving Mixture and Block Manufacturing\"],[\"Asphalt Shingle and Coating Materials Manufacturing\"],[\"Petroleum Lubricating Oil and Grease Manufacturing\"],[\"All Other Petroleum and Coal Products Manufacturing\"],[\"Petrochemical Manufacturing\"],[\"Industrial Gas Manufacturing\"],[\"Synthetic Dye and Pigment Manufacturing\"],[\"Other Basic Inorganic Chemical Manufacturing\"],[\"Ethyl Alcohol Manufacturing\"],[\"Cyclic Crude, Intermediate, and Gum and Wood Chemical Manufacturing\"],[\"All Other Basic Organic Chemical Manufacturing\"],[\"Plastics Material and Resin Manufacturing\"],[\"Synthetic Rubber Manufacturing\"],[\"Artificial and Synthetic Fibers and Filaments Manufacturing\"],[\"Nitrogenous Fertilizer Manufacturing\"],[\"Phosphatic Fertilizer Manufacturing\"],[\"Fertilizer (Mixing Only) Manufacturing\"],[\"Pesticide and Other Agricultural Chemical Manufacturing\"],[\"Medicinal and Botanical Manufacturing\"],[\"Pharmaceutical Preparation Manufacturing\"],[\"In-Vitro Diagnostic Substance Manufacturing\"],[\"Biological Product (except Diagnostic) Manufacturing\"],[\"Paint and Coating Manufacturing\"],[\"Adhesive Manufacturing\"],[\"Soap and Other Detergent Manufacturing\"],[\"Polish and Other Sanitation Good Manufacturing\"],[\"Surface Active Agent Manufacturing\"],[\"Toilet Preparation Manufacturing\"],[\"Printing Ink Manufacturing\"],[\"Explosives Manufacturing\"],[\"Custom Compounding of Purchased Resins\"],[\"Photographic Film, Paper, Plate, and Chemical Manufacturing\"],[\"All Other Miscellaneous Chemical Product and Preparation Manufacturing\"],[\"Plastics Bag and Pouch Manufacturing\"],[\"Plastics Packaging Film and Sheet (including Laminated) Manufacturing\"],[\"Unlaminated Plastics Film and Sheet (except Packaging) Manufacturing\"],[\"Unlaminated Plastics Profile Shape Manufacturing\"],[\"Plastics Pipe and Pipe Fitting Manufacturing\"],[\"Laminated Plastics Plate, Sheet (except Packaging), and Shape Manufacturing\"],[\"Polystyrene Foam Product Manufacturing\"],[\"Urethane and Other Foam Product (except Polystyrene) Manufacturing\"],[\"Plastics Bottle Manufacturing\"],[\"Plastics Plumbing Fixture Manufacturing\"],[\"All Other Plastics Product Manufacturing\"],[\"Tire Manufacturing (except Retreading)\"],[\"Tire Retreading\"],[\"Rubber and Plastics Hoses and Belting Manufacturing\"],[\"Rubber Product Manufacturing for Mechanical Use\"],[\"All Other Rubber Product Manufacturing\"],[\"Pottery, Ceramics, and Plumbing Fixture Manufacturing\"],[\"Clay Building Material and Refractories Manufacturing\"],[\"Flat Glass Manufacturing\"],[\"Other Pressed and Blown Glass and Glassware Manufacturing\"],[\"Glass Container Manufacturing\"],[\"Glass Product Manufacturing Made of Purchased Glass\"],[\"Cement Manufacturing\"],[\"Ready-Mix Concrete Manufacturing\"],[\"Concrete Block and Brick Manufacturing\"],[\"Concrete Pipe Manufacturing\"],[\"Other Concrete Product Manufacturing\"],[\"Lime Manufacturing\"],[\"Gypsum Product Manufacturing\"],[\"Abrasive Product Manufacturing\"],[\"Cut Stone and Stone Product Manufacturing\"],[\"Ground or Treated Mineral and Earth Manufacturing\"],[\"Mineral Wool Manufacturing\"],[\"All Other Miscellaneous Nonmetallic Mineral Product Manufacturing\"],[\"Iron and Steel Mills and Ferroalloy Manufacturing\"],[\"Iron and Steel Pipe and Tube Manufacturing from Purchased Steel\"],[\"Rolled Steel Shape Manufacturing\"],[\"Steel Wire Drawing\"],[\"Alumina Refining and Primary Aluminum Production\"],[\"Aluminum Sheet, Plate, and Foil Manufacturing\"],[\"Other Aluminum Rolling, Drawing, and Extruding\"],[\"Nonferrous Metal (except Aluminum) Smelting and Refining\"],[\"Copper Rolling, Drawing, Extruding, and Alloying\"],[\"Nonferrous Metal (except Copper and Aluminum) Rolling, Drawing, and Extruding\"],[\"Secondary Smelting, Refining, and Alloying of Nonferrous Metal (except Copper and Aluminum)\"],[\"Iron Foundries\"],[\"Steel Investment Foundries\"],[\"Steel Foundries (except Investment)\"],[\"Nonferrous Metal Die-Casting Foundries\"],[\"Aluminum Foundries (except Die-Casting)\"],[\"Other Nonferrous Metal Foundries (except Die-Casting)\"],[\"Iron and Steel Forging\"],[\"Nonferrous Forging\"],[\"Custom Roll Forming\"],[\"Powder Metallurgy Part Manufacturing\"],[\"Metal Crown, Closure, and Other Metal Stamping (except Automotive)\"],[\"Metal Kitchen Cookware, Utensil, Cutlery, and Flatware (except Precious) Manufacturing\"],[\"Saw Blade and Handtool Manufacturing\"],[\"Prefabricated Metal Building and Component Manufacturing\"],[\"Fabricated Structural Metal Manufacturing\"],[\"Plate Work Manufacturing\"],[\"Metal Window and Door Manufacturing\"],[\"Sheet Metal Work Manufacturing\"],[\"Ornamental and Architectural Metal Work Manufacturing\"],[\"Power Boiler and Heat Exchanger Manufacturing\"],[\"Metal Tank (Heavy Gauge) Manufacturing\"],[\"Metal Can Manufacturing\"],[\"Other Metal Container Manufacturing\"],[\"Hardware Manufacturing\"],[\"Spring Manufacturing\"],[\"Other Fabricated Wire Product Manufacturing\"],[\"Machine Shops\"],[\"Precision Turned Product Manufacturing\"],[\"Bolt, Nut, Screw, Rivet, and Washer Manufacturing\"],[\"Metal Heat Treating\"],[\"Metal Coating, Engraving (except Jewelry and Silverware), and Allied Services to Manufacturers\"],[\"Electroplating, Plating, Polishing, Anodizing, and Coloring\"],[\"Industrial Valve Manufacturing\"],[\"Fluid Power Valve and Hose Fitting Manufacturing\"],[\"Plumbing Fixture Fitting and Trim Manufacturing\"],[\"Other Metal Valve and Pipe Fitting Manufacturing\"],[\"Ball and Roller Bearing Manufacturing\"],[\"Small Arms Ammunition Manufacturing\"],[\"Ammunition (except Small Arms) Manufacturing\"],[\"Small Arms, Ordnance, and Ordnance Accessories Manufacturing\"],[\"Fabricated Pipe and Pipe Fitting Manufacturing\"],[\"All Other Miscellaneous Fabricated Metal Product Manufacturing\"],[\"Farm Machinery and Equipment Manufacturing\"],[\"Lawn and Garden Tractor and Home Lawn and Garden Equipment Manufacturing\"],[\"Construction Machinery Manufacturing\"],[\"Mining Machinery and Equipment Manufacturing\"],[\"Oil and Gas Field Machinery and Equipment Manufacturing\"],[\"Food Product Machinery Manufacturing\"],[\"Semiconductor Machinery Manufacturing\"],[\"Sawmill, Woodworking, and Paper Machinery Manufacturing\"],[\"Printing Machinery and Equipment Manufacturing\"],[\"Other Industrial Machinery Manufacturing\"],[\"Optical Instrument and Lens Manufacturing\"],[\"Photographic and Photocopying Equipment Manufacturing\"],[\"Other Commercial and Service Industry Machinery Manufacturing\"],[\"Industrial and Commercial Fan and Blower and Air Purification Equipment Manufacturing\"],[\"Heating Equipment (except Warm Air Furnaces) Manufacturing\"],[\"Air-Conditioning and Warm Air Heating Equipment and Commercial and Industrial Refrigeration Equipment Manufacturing\"],[\"Industrial Mold Manufacturing\"],[\"Special Die and Tool, Die Set, Jig, and Fixture Manufacturing\"],[\"Cutting Tool and Machine Tool Accessory Manufacturing\"],[\"Machine Tool Manufacturing\"],[\"Rolling Mill and Other Metalworking Machinery Manufacturing\"],[\"Turbine and Turbine Generator Set Units Manufacturing\"],[\"Speed Changer, Industrial High-Speed Drive, and Gear Manufacturing\"],[\"Mechanical Power Transmission Equipment Manufacturing\"],[\"Other Engine Equipment Manufacturing\"],[\"Air and Gas Compressor Manufacturing\"],[\"Measuring, Dispensing, and Other Pumping Equipment Manufacturing\"],[\"Elevator and Moving Stairway Manufacturing\"],[\"Conveyor and Conveying Equipment Manufacturing\"],[\"Overhead Traveling Crane, Hoist, and Monorail System Manufacturing\"],[\"Industrial Truck, Tractor, Trailer, and Stacker Machinery Manufacturing\"],[\"Power-Driven Handtool Manufacturing\"],[\"Welding and Soldering Equipment Manufacturing\"],[\"Packaging Machinery Manufacturing\"],[\"Industrial Process Furnace and Oven Manufacturing\"],[\"Fluid Power Cylinder and Actuator Manufacturing\"],[\"Fluid Power Pump and Motor Manufacturing\"],[\"Scale and Balance Manufacturing\"],[\"All Other Miscellaneous General Purpose Machinery Manufacturing\"],[\"Electronic Computer Manufacturing\"],[\"Computer Storage Device Manufacturing\"],[\"Computer Terminal and Other Computer Peripheral Equipment Manufacturing\"],[\"Telephone Apparatus Manufacturing\"],[\"Radio and Television Broadcasting and Wireless Communications Equipment Manufacturing\"],[\"Other Communications Equipment Manufacturing\"],[\"Audio and Video Equipment Manufacturing\"],[\"Bare Printed Circuit Board Manufacturing\"],[\"Semiconductor and Related Device Manufacturing\"],[\"Capacitor, Resistor, Coil, Transformer, and Other Inductor Manufacturing\"],[\"Electronic Connector Manufacturing\"],[\"Printed Circuit Assembly (Electronic Assembly) Manufacturing\"],[\"Other Electronic Component Manufacturing\"],[\"Electromedical and Electrotherapeutic Apparatus Manufacturing\"],[\"Search, Detection, Navigation, Guidance, Aeronautical, and Nautical System and Instrument Manufacturing\"],[\"Automatic Environmental Control Manufacturing for Residential, Commercial, and Appliance Use\"],[\"Instruments and Related Products Manufacturing for Measuring, Displaying, and Controlling Industrial Process Variables\"],[\"Totalizing Fluid Meter and Counting Device Manufacturing\"],[\"Instrument Manufacturing for Measuring and Testing Electricity and Electrical Signals\"],[\"Analytical Laboratory Instrument Manufacturing\"],[\"Irradiation Apparatus Manufacturing\"],[\"Other Measuring and Controlling Device Manufacturing\"],[\"Blank Magnetic and Optical Recording Media Manufacturing\"],[\"Software and Other Prerecorded Compact Disc, Tape, and Record Reproducing\"],[\"Electric Lamp Bulb and Part Manufacturing\"],[\"Residential Electric Lighting Fixture Manufacturing\"],[\"Commercial, Industrial, and Institutional Electric Lighting Fixture Manufacturing\"],[\"Other Lighting Equipment Manufacturing\"],[\"Small Electrical Appliance Manufacturing\"],[\"Major Household Appliance Manufacturing\"],[\"Power, Distribution, and Specialty Transformer Manufacturing\"],[\"Motor and Generator Manufacturing\"],[\"Switchgear and Switchboard Apparatus Manufacturing\"],[\"Relay and Industrial Control Manufacturing\"],[\"Storage Battery Manufacturing\"],[\"Primary Battery Manufacturing\"],[\"Fiber Optic Cable Manufacturing\"],[\"Other Communication and Energy Wire Manufacturing\"],[\"Current-Carrying Wiring Device Manufacturing\"],[\"Noncurrent-Carrying Wiring Device Manufacturing\"],[\"Carbon and Graphite Product Manufacturing\"],[\"All Other Miscellaneous Electrical Equipment and Component Manufacturing\"],[\"Automobile Manufacturing\"],[\"Light Truck and Utility Vehicle Manufacturing\"],[\"Heavy Duty Truck Manufacturing\"],[\"Motor Vehicle Body Manufacturing\"],[\"Truck Trailer Manufacturing\"],[\"Motor Home Manufacturing\"],[\"Travel Trailer and Camper Manufacturing\"],[\"Motor Vehicle Gasoline Engine and Engine Parts Manufacturing\"],[\"Motor Vehicle Electrical and Electronic Equipment Manufacturing\"],[\"Motor Vehicle Steering and Suspension Components (except Spring) Manufacturing\"],[\"Motor Vehicle Brake System Manufacturing\"],[\"Motor Vehicle Transmission and Power Train Parts Manufacturing\"],[\"Motor Vehicle Seating and Interior Trim Manufacturing\"],[\"Motor Vehicle Metal Stamping\"],[\"Other Motor Vehicle Parts Manufacturing\"],[\"Aircraft Manufacturing\"],[\"Aircraft Engine and Engine Parts Manufacturing\"],[\"Other Aircraft Parts and Auxiliary Equipment Manufacturing\"],[\"Guided Missile and Space Vehicle Manufacturing\"],[\"Guided Missile and Space Vehicle Propulsion Unit and Propulsion Unit Parts Manufacturing\"],[\"Other Guided Missile and Space Vehicle Parts and Auxiliary Equipment Manufacturing\"],[\"Railroad Rolling Stock Manufacturing\"],[\"Ship Building and Repairing\"],[\"Boat Building\"],[\"Motorcycle, Bicycle, and Parts Manufacturing\"],[\"Military Armored Vehicle, Tank, and Tank Component Manufacturing\"],[\"All Other Transportation Equipment Manufacturing\"],[\"Wood Kitchen Cabinet and Countertop Manufacturing\"],[\"Upholstered Household Furniture Manufacturing\"],[\"Nonupholstered Wood Household Furniture Manufacturing\"],[\"Metal Household Furniture Manufacturing\"],[\"Household Furniture (except Wood and Metal) Manufacturing\"],[\"Institutional Furniture Manufacturing\"],[\"Wood Office Furniture Manufacturing\"],[\"Custom Architectural Woodwork and Millwork Manufacturing\"],[\"Office Furniture (except Wood) Manufacturing\"],[\"Showcase, Partition, Shelving, and Locker Manufacturing\"],[\"Mattress Manufacturing\"],[\"Blind and Shade Manufacturing\"],[\"Surgical and Medical Instrument Manufacturing\"],[\"Surgical Appliance and Supplies Manufacturing\"],[\"Dental Equipment and Supplies Manufacturing\"],[\"Ophthalmic Goods Manufacturing\"],[\"Dental Laboratories\"],[\"Jewelry and Silverware Manufacturing\"],[\"Sporting and Athletic Goods Manufacturing\"],[\"Doll, Toy, and Game Manufacturing\"],[\"Office Supplies (except Paper) Manufacturing\"],[\"Sign Manufacturing\"],[\"Gasket, Packing, and Sealing Device Manufacturing\"],[\"Musical Instrument Manufacturing\"],[\"Fastener, Button, Needle, and Pin Manufacturing\"],[\"Broom, Brush, and Mop Manufacturing\"],[\"Burial Casket Manufacturing\"],[\"All Other Miscellaneous Manufacturing\"],[\"Automobile and Other Motor Vehicle Merchant Wholesalers\"],[\"Motor Vehicle Supplies and New Parts Merchant Wholesalers\"],[\"Tire and Tube Merchant Wholesalers\"],[\"Motor Vehicle Parts (Used) Merchant Wholesalers\"],[\"Furniture Merchant Wholesalers\"],[\"Home Furnishing Merchant Wholesalers\"],[\"Lumber, Plywood, Millwork, and Wood Panel Merchant Wholesalers\"],[\"Brick, Stone, and Related Construction Material Merchant Wholesalers\"],[\"Roofing, Siding, and Insulation Material Merchant Wholesalers\"],[\"Other Construction Material Merchant Wholesalers\"],[\"Photographic Equipment and Supplies Merchant Wholesalers\"],[\"Office Equipment Merchant Wholesalers\"],[\"Computer and Computer Peripheral Equipment and Software Merchant Wholesalers\"],[\"Other Commercial Equipment Merchant Wholesalers\"],[\"Medical, Dental, and Hospital Equipment and Supplies Merchant Wholesalers\"],[\"Ophthalmic Goods Merchant Wholesalers\"],[\"Other Professional Equipment and Supplies Merchant Wholesalers\"],[\"Metal Service Centers and Other Metal Merchant Wholesalers\"],[\"Coal and Other Mineral and Ore Merchant Wholesalers\"],[\"Electrical Apparatus and Equipment, Wiring Supplies, and Related Equipment Merchant Wholesalers\"],[\"Household Appliances, Electric Housewares, and Consumer Electronics Merchant Wholesalers\"],[\"Other Electronic Parts and Equipment Merchant Wholesalers\"],[\"Hardware Merchant Wholesalers\"],[\"Plumbing and Heating Equipment and Supplies (Hydronics) Merchant Wholesalers\"],[\"Warm Air Heating and Air-Conditioning Equipment and Supplies Merchant Wholesalers\"],[\"Refrigeration Equipment and Supplies Merchant Wholesalers\"],[\"Construction and Mining (except Oil Well) Machinery and Equipment Merchant Wholesalers\"],[\"Farm and Garden Machinery and Equipment Merchant Wholesalers\"],[\"Industrial Machinery and Equipment Merchant Wholesalers\"],[\"Industrial Supplies Merchant Wholesalers\"],[\"Service Establishment Equipment and Supplies Merchant Wholesalers\"],[\"Transportation Equipment and Supplies (except Motor Vehicle) Merchant Wholesalers\"],[\"Sporting and Recreational Goods and Supplies Merchant Wholesalers\"],[\"Toy and Hobby Goods and Supplies Merchant Wholesalers\"],[\"Recyclable Material Merchant Wholesalers\"],[\"Jewelry, Watch, Precious Stone, and Precious Metal Merchant Wholesalers\"],[\"Other Miscellaneous Durable Goods Merchant Wholesalers\"],[\"Printing and Writing Paper Merchant Wholesalers\"],[\"Stationery and Office Supplies Merchant Wholesalers\"],[\"Industrial and Personal Service Paper Merchant Wholesalers\"],[\"Drugs and Druggists' Sundries Merchant Wholesalers\"],[\"Piece Goods, Notions, and Other Dry Goods Merchant Wholesalers\"],[\"Men's and Boys' Clothing and Furnishings Merchant Wholesalers\"],[\"Women's, Children's, and Infants' Clothing and Accessories Merchant Wholesalers\"],[\"Footwear Merchant Wholesalers\"],[\"General Line Grocery Merchant Wholesalers\"],[\"Packaged Frozen Food Merchant Wholesalers\"],[\"Dairy Product (except Dried or Canned) Merchant Wholesalers\"],[\"Poultry and Poultry Product Merchant Wholesalers\"],[\"Confectionery Merchant Wholesalers\"],[\"Fish and Seafood Merchant Wholesalers\"],[\"Meat and Meat Product Merchant Wholesalers\"],[\"Fresh Fruit and Vegetable Merchant Wholesalers\"],[\"Other Grocery and Related Products Merchant Wholesalers\"],[\"Grain and Field Bean Merchant Wholesalers\"],[\"Livestock Merchant Wholesalers\"],[\"Other Farm Product Raw Material Merchant Wholesalers\"],[\"Plastics Materials and Basic Forms and Shapes Merchant Wholesalers\"],[\"Other Chemical and Allied Products Merchant Wholesalers\"],[\"Petroleum Bulk Stations and Terminals\"],[\"Petroleum and Petroleum Products Merchant Wholesalers (except Bulk Stations and Terminals)\"],[\"Beer and Ale Merchant Wholesalers\"],[\"Wine and Distilled Alcoholic Beverage Merchant Wholesalers\"],[\"Farm Supplies Merchant Wholesalers\"],[\"Book, Periodical, and Newspaper Merchant Wholesalers\"],[\"Flower, Nursery Stock, and Florists' Supplies Merchant Wholesalers\"],[\"Tobacco and Tobacco Product Merchant Wholesalers\"],[\"Paint, Varnish, and Supplies Merchant Wholesalers\"],[\"Other Miscellaneous Nondurable Goods Merchant Wholesalers\"],[\"Business to Business Electronic Markets\"],[\"Wholesale Trade Agents and Brokers\"],[\"New Car Dealers\"],[\"Used Car Dealers\"],[\"Recreational Vehicle Dealers\"],[\"Boat Dealers\"],[\"Motorcycle, ATV, and All Other Motor Vehicle Dealers\"],[\"Automotive Parts and Accessories Stores\"],[\"Tire Dealers\"],[\"Furniture Stores\"],[\"Floor Covering Stores\"],[\"Window Treatment Stores\"],[\"All Other Home Furnishings Stores\"],[\"Household Appliance Stores\"],[\"Electronics Stores\"],[\"Home Centers\"],[\"Paint and Wallpaper Stores\"],[\"Hardware Stores\"],[\"Other Building Material Dealers\"],[\"Outdoor Power Equipment Stores\"],[\"Nursery, Garden Center, and Farm Supply Stores\"],[\"Supermarkets and Other Grocery (except Convenience) Stores\"],[\"Convenience Stores\"],[\"Meat Markets\"],[\"Fish and Seafood Markets\"],[\"Fruit and Vegetable Markets\"],[\"Baked Goods Stores\"],[\"Confectionery and Nut Stores\"],[\"All Other Specialty Food Stores\"],[\"Beer, Wine, and Liquor Stores\"],[\"Pharmacies and Drug Stores\"],[\"Cosmetics, Beauty Supplies, and Perfume Stores\"],[\"Optical Goods Stores\"],[\"Food (Health) Supplement Stores\"],[\"All Other Health and Personal Care Stores\"],[\"Gasoline Stations with Convenience Stores\"],[\"Other Gasoline Stations\"],[\"Men's Clothing Stores\"],[\"Women's Clothing Stores\"],[\"Children's and Infants' Clothing Stores\"],[\"Family Clothing Stores\"],[\"Clothing Accessories Stores\"],[\"Other Clothing Stores\"],[\"Shoe Stores\"],[\"Jewelry Stores\"],[\"Luggage and Leather Goods Stores\"],[\"Sporting Goods Stores\"],[\"Hobby, Toy, and Game Stores\"],[\"Sewing, Needlework, and Piece Goods Stores\"],[\"Musical Instrument and Supplies Stores\"],[\"Book Stores\"],[\"News Dealers and Newsstands\"],[\"Department Stores\"],[\"Warehouse Clubs and Supercenters\"],[\"All Other General Merchandise Stores\"],[\"Florists\"],[\"Office Supplies and Stationery Stores\"],[\"Gift, Novelty, and Souvenir Stores\"],[\"Used Merchandise Stores\"],[\"Pet and Pet Supplies Stores\"],[\"Art Dealers\"],[\"Manufactured (Mobile) Home Dealers\"],[\"Tobacco Stores\"],[\"All Other Miscellaneous Store Retailers (except Tobacco Stores)\"],[\"Electronic Shopping and Mail-Order Houses\"],[\"Vending Machine Operators\"],[\"Fuel Dealers\"],[\"Other Direct Selling Establishments\"],[\"Scheduled Passenger Air Transportation\"],[\"Scheduled Freight Air Transportation\"],[\"Nonscheduled Chartered Passenger Air Transportation\"],[\"Nonscheduled Chartered Freight Air Transportation\"],[\"Other Nonscheduled Air Transportation\"],[\"Line-Haul Railroads\"],[\"Short Line Railroads\"],[\"Deep Sea Freight Transportation\"],[\"Deep Sea Passenger Transportation\"],[\"Coastal and Great Lakes Freight Transportation\"],[\"Coastal and Great Lakes Passenger Transportation\"],[\"Inland Water Freight Transportation\"],[\"Inland Water Passenger Transportation\"],[\"General Freight Trucking, Local\"],[\"General Freight Trucking, Long-Distance, Truckload\"],[\"General Freight Trucking, Long-Distance, Less Than Truckload\"],[\"Used Household and Office Goods Moving\"],[\"Specialized Freight (except Used Goods) Trucking, Local\"],[\"Specialized Freight (except Used Goods) Trucking, Long-Distance\"],[\"Mixed Mode Transit Systems\"],[\"Commuter Rail Systems\"],[\"Bus and Other Motor Vehicle Transit Systems\"],[\"Other Urban Transit Systems\"],[\"Interurban and Rural Bus Transportation\"],[\"Taxi Service\"],[\"Limousine Service\"],[\"School and Employee Bus Transportation\"],[\"Charter Bus Industry\"],[\"Special Needs Transportation\"],[\"All Other Transit and Ground Passenger Transportation\"],[\"Pipeline Transportation of Crude Oil\"],[\"Pipeline Transportation of Natural Gas\"],[\"Pipeline Transportation of Refined Petroleum Products\"],[\"All Other Pipeline Transportation\"],[\"Scenic and Sightseeing Transportation, Land\"],[\"Scenic and Sightseeing Transportation, Water\"],[\"Scenic and Sightseeing Transportation, Other\"],[\"Air Traffic Control\"],[\"Other Airport Operations\"],[\"Other Support Activities for Air Transportation\"],[\"Support Activities for Rail Transportation\"],[\"Port and Harbor Operations\"],[\"Marine Cargo Handling\"],[\"Navigational Services to Shipping\"],[\"Other Support Activities for Water Transportation\"],[\"Motor Vehicle Towing\"],[\"Other Support Activities for Road Transportation\"],[\"Freight Transportation Arrangement\"],[\"Packing and Crating\"],[\"All Other Support Activities for Transportation\"],[\"Postal Service\"],[\"Couriers and Express Delivery Services\"],[\"Local Messengers and Local Delivery\"],[\"General Warehousing and Storage\"],[\"Refrigerated Warehousing and Storage\"],[\"Farm Product Warehousing and Storage\"],[\"Other Warehousing and Storage\"],[\"Newspaper Publishers\"],[\"Periodical Publishers\"],[\"Book Publishers\"],[\"Directory and Mailing List Publishers\"],[\"Greeting Card Publishers\"],[\"All Other Publishers\"],[\"Software Publishers\"],[\"Motion Picture and Video Production\"],[\"Motion Picture and Video Distribution\"],[\"Motion Picture Theaters (except Drive-Ins)\"],[\"Drive-In Motion Picture Theaters\"],[\"Teleproduction and Other Postproduction Services\"],[\"Other Motion Picture and Video Industries\"],[\"Music Publishers\"],[\"Sound Recording Studios\"],[\"Record Production and Distribution\"],[\"Other Sound Recording Industries\"],[\"Radio Networks\"],[\"Radio Stations\"],[\"Television Broadcasting\"],[\"Cable and Other Subscription Programming\"],[\"Wired Telecommunications Carriers\"],[\"Wireless Telecommunications Carriers (except Satellite)\"],[\"Satellite Telecommunications\"],[\"Telecommunications Resellers\"],[\"All Other Telecommunications\"],[\"Data Processing, Hosting, and Related Services\"],[\"News Syndicates\"],[\"Libraries and Archives\"],[\"Internet Publishing and Broadcasting and Web Search Portals\"],[\"All Other Information Services\"],[\"Monetary Authorities-Central Bank\"],[\"Commercial Banking\"],[\"Savings Institutions\"],[\"Credit Unions\"],[\"Other Depository Credit Intermediation\"],[\"Credit Card Issuing\"],[\"Sales Financing\"],[\"Consumer Lending\"],[\"Real Estate Credit\"],[\"International Trade Financing\"],[\"Secondary Market Financing\"],[\"All Other Nondepository Credit Intermediation\"],[\"Mortgage and Nonmortgage Loan Brokers\"],[\"Financial Transactions Processing, Reserve, and Clearinghouse Activities\"],[\"Other Activities Related to Credit Intermediation\"],[\"Investment Banking and Securities Dealing\"],[\"Securities Brokerage\"],[\"Commodity Contracts Dealing\"],[\"Commodity Contracts Brokerage\"],[\"Securities and Commodity Exchanges\"],[\"Miscellaneous Intermediation\"],[\"Portfolio Management\"],[\"Investment Advice\"],[\"Trust, Fiduciary, and Custody Activities\"],[\"Miscellaneous Financial Investment Activities\"],[\"Direct Life Insurance Carriers\"],[\"Direct Health and Medical Insurance Carriers\"],[\"Direct Property and Casualty Insurance Carriers\"],[\"Direct Title Insurance Carriers\"],[\"Other Direct Insurance (except Life, Health, and Medical) Carriers\"],[\"Reinsurance Carriers\"],[\"Insurance Agencies and Brokerages\"],[\"Claims Adjusting\"],[\"Third Party Administration of Insurance and Pension Funds\"],[\"All Other Insurance Related Activities\"],[\"Pension Funds\"],[\"Health and Welfare Funds\"],[\"Other Insurance Funds\"],[\"Open-End Investment Funds\"],[\"Trusts, Estates, and Agency Accounts\"],[\"Other Financial Vehicles\"],[\"Lessors of Residential Buildings and Dwellings\"],[\"Lessors of Nonresidential Buildings (excpet Miniwarehouses)\"],[\"Lessors of Miniwarehouses and Self-Storage Units\"],[\"Lessors of Other Real Estate Property\"],[\"Offices of Real Estate Agents and Brokers\"],[\"Residential Property Managers\"],[\"Nonresidential Property Managers\"],[\"Offices of Real Estate Appraisers\"],[\"Other Activities Related to Real Estate\"],[\"Passenger Car Rental\"],[\"Passenger Car Leasing\"],[\"Truck, Utility Trailer, and RV (Recreational Vehicle) Rental and Leasing\"],[\"Consumer Electronics and Appliances Rental\"],[\"Formal Wear and Costume Rental\"],[\"Video Tape and Disc Rental\"],[\"Home Health Equipment Rental\"],[\"Recreational Goods Rental\"],[\"All Other Consumer Goods Rental\"],[\"General Rental Centers\"],[\"Commercial Air, Rail, and Water Transportation Equipment Rental and Leasing\"],[\"Construction, Mining, and Forestry Machinery and Equipment Rental and Leasing\"],[\"Office Machinery and Equipment Rental and Leasing\"],[\"Other Commercial and Industrial Machinery and Equipment Rental and Leasing\"],[\"Lessors of Nonfinancial Intangible Assets (except Copyrighted Works)\"],[\"Offices of Lawyers\"],[\"Offices of Notaries\"],[\"Title Abstract and Settlement Offices\"],[\"All Other Legal Services\"],[\"Offices of Certified Public Accountants\"],[\"Tax Preparation Services\"],[\"Payroll Services\"],[\"Other Accounting Services\"],[\"Architectural Services\"],[\"Landscape Architectural Services\"],[\"Engineering Services\"],[\"Drafting Services\"],[\"Building Inspection Services\"],[\"Geophysical Surveying and Mapping Services\"],[\"Surveying and Mapping (except Geophysical) Services\"],[\"Testing Laboratories\"],[\"Interior Design Services\"],[\"Industrial Design Services\"],[\"Graphic Design Services\"],[\"Other Specialized Design Services\"],[\"Custom Computer Programming Services\"],[\"Computer Systems Design Services\"],[\"Computer Facilities Management Services\"],[\"Other Computer Related Services\"],[\"Administrative Management and General Management Consulting Services\"],[\"Human Resources Consulting Services\"],[\"Marketing Consulting Services\"],[\"Process, Physical Distribution, and Logistics Consulting Services\"],[\"Other Management Consulting Services\"],[\"Environmental Consulting Services\"],[\"Other Scientific and Technical Consulting Services\"],[\"Research and Development in Nanotechnology\"],[\"Research and Development in Biotechnology (except Nanobiotechnology)\"],[\"Research and Development in the Physical, Engineering, and Life Sciences (except Nanotechnology and Biotechnology)\"],[\"Research and Development in the Social Sciences and Humanities\"],[\"Advertising Agencies\"],[\"Public Relations Agencies\"],[\"Media Buying Agencies\"],[\"Media Representatives\"],[\"Outdoor Advertising\"],[\"Direct Mail Advertising\"],[\"Advertising Material Distribution Services\"],[\"Other Services Related to Advertising\"],[\"Marketing Research and Public Opinion Polling\"],[\"Photography Studios, Portrait\"],[\"Commercial Photography\"],[\"Translation and Interpretation Services\"],[\"Veterinary Services\"],[\"All Other Professional, Scientific, and Technical Services\"],[\"Offices of Bank Holding Companies\"],[\"Offices of Other Holding Companies\"],[\"Corporate, Subsidiary, and Regional Managing Offices\"],[\"Office Administrative Services\"],[\"Facilities Support Services\"],[\"Employment Placement Agencies\"],[\"Executive Search Services\"],[\"Temporary Help Services\"],[\"Professional Employer Organizations\"],[\"Document Preparation Services\"],[\"Telephone Answering Services\"],[\"Telemarketing Bureaus and Other Contact Centers\"],[\"Private Mail Centers\"],[\"Other Business Service Centers (including Copy Shops)\"],[\"Collection Agencies\"],[\"Credit Bureaus\"],[\"Repossession Services\"],[\"Court Reporting and Stenotype Services\"],[\"All Other Business Support Services\"],[\"Travel Agencies\"],[\"Tour Operators\"],[\"Convention and Visitors Bureaus\"],[\"All Other Travel Arrangement and Reservation Services\"],[\"Investigation Services\"],[\"Security Guards and Patrol Services\"],[\"Armored Car Services\"],[\"Security Systems Services (except Locksmiths)\"],[\"Locksmiths\"],[\"Exterminating and Pest Control Services\"],[\"Janitorial Services\"],[\"Landscaping Services\"],[\"Carpet and Upholstery Cleaning Services\"],[\"Other Services to Buildings and Dwellings\"],[\"Packaging and Labeling Services\"],[\"Convention and Trade Show Organizers\"],[\"All Other Support Services\"],[\"Solid Waste Collection\"],[\"Hazardous Waste Collection\"],[\"Other Waste Collection\"],[\"Hazardous Waste Treatment and Disposal\"],[\"Solid Waste Landfill\"],[\"Solid Waste Combustors and Incinerators\"],[\"Other Nonhazardous Waste Treatment and Disposal\"],[\"Remediation Services\"],[\"Materials Recovery Facilities\"],[\"Septic Tank and Related Services\"],[\"All Other Miscellaneous Waste Management Services\"],[\"Elementary and Secondary Schools\"],[\"Junior Colleges\"],[\"Colleges, Universities, and Professional Schools\"],[\"Business and Secretarial Schools\"],[\"Computer Training\"],[\"Professional and Management Development Training\"],[\"Cosmetology and Barber Schools\"],[\"Flight Training\"],[\"Apprenticeship Training\"],[\"Other Technical and Trade Schools\"],[\"Fine Arts Schools\"],[\"Sports and Recreation Instruction\"],[\"Language Schools\"],[\"Exam Preparation and Tutoring\"],[\"Automobile Driving Schools\"],[\"All Other Miscellaneous Schools and Instruction\"],[\"Educational Support Services\"],[\"Offices of Physicians (except Mental Health Specialists)\"],[\"Offices of Physicians, Mental Health Specialists\"],[\"Offices of Dentists\"],[\"Offices of Chiropractors\"],[\"Offices of Optometrists\"],[\"Offices of Mental Health Practitioners (except Physicians)\"],[\"Offices of Physical, Occupational and Speech Therapists, and Audiologists\"],[\"Offices of Podiatrists\"],[\"Offices of All Other Miscellaneous Health Practitioners\"],[\"Family Planning Centers\"],[\"Outpatient Mental Health and Substance Abuse Centers\"],[\"HMO Medical Centers\"],[\"Kidney Dialysis Centers\"],[\"Freestanding Ambulatory Surgical and Emergency Centers\"],[\"All Other Outpatient Care Centers\"],[\"Medical Laboratories\"],[\"Diagnostic Imaging Centers\"],[\"Home Health Care Services\"],[\"Ambulance Services\"],[\"Blood and Organ Banks\"],[\"All Other Miscellaneous Ambulatory Health Care Services\"],[\"General Medical and Surgical Hospitals\"],[\"Psychiatric and Substance Abuse Hospitals\"],[\"Specialty (except Psychiatric and Substance Abuse) Hospitals\"],[\"Nursing Care Facilities (Skilled Nursing Facilities)\"],[\"Residential Intellectual and Developmental Disability Facilities\"],[\"Residential Mental Health and Substance Abuse Facilities\"],[\"Continuing Care Retirement Communities\"],[\"Assisted Living Facilities for the Elderly\"],[\"Other Residential Care Facilities\"],[\"Child and Youth Services\"],[\"Services for the Elderly and Persons with Disabilities\"],[\"Other Individual and Family Services\"],[\"Community Food Services\"],[\"Temporary Shelters\"],[\"Other Community Housing Services\"],[\"Emergency and Other Relief Services\"],[\"Vocational Rehabilitation Services\"],[\"Child Day Care Services\"],[\"Theater Companies and Dinner Theaters\"],[\"Dance Companies\"],[\"Musical Groups and Artists\"],[\"Other Performing Arts Companies\"],[\"Sports Teams and Clubs\"],[\"Racetracks\"],[\"Other Spectator Sports\"],[\"Promoters of Performing Arts, Sports, and Similar Events with Facilities\"],[\"Promoters of Performing Arts, Sports, and Similar Events without Facilities\"],[\"Agents and Managers for Artists, Athletes, Entertainers, and Other Public Figures\"],[\"Independent Artists, Writers, and Performers\"],[\"Museums\"],[\"Historical Sites\"],[\"Zoos and Botanical Gardens\"],[\"Nature Parks and Other Similar Institutions\"],[\"Amusement and Theme Parks\"],[\"Amusement Arcades\"],[\"Casinos (except Casino Hotels)\"],[\"Other Gambling Industries\"],[\"Golf Courses and Country Clubs\"],[\"Skiing Facilities\"],[\"Marinas\"],[\"Fitness and Recreational Sports Centers\"],[\"Bowling Centers\"],[\"All Other Amusement and Recreation Industries\"],[\"Hotels (except Casino Hotels) and Motels\"],[\"Casino Hotels\"],[\"Bed-and-Breakfast Inns\"],[\"All Other Traveler Accommodation\"],[\"RV (Recreational Vehicle) Parks and Campgrounds\"],[\"Recreational and Vacation Camps (except Campgrounds)\"],[\"Rooming and Boarding Houses, Dormitories, and Workers' Camps\"],[\"Food Service Contractors\"],[\"Caterers\"],[\"Mobile Food Services\"],[\"Drinking Places (Alcoholic Beverages)\"],[\"Full-Service Restaurants\"],[\"Limited-Service Restaurants\"],[\"Cafeterias, Grill Buffets, and Buffets\"],[\"Snack and Nonalcoholic Beverage Bars\"],[\"General Automotive Repair\"],[\"Automotive Exhaust System Repair\"],[\"Automotive Transmission Repair\"],[\"Other Automotive Mechanical and Electrical Repair and Maintenance\"],[\"Automotive Body, Paint, and Interior Repair and Maintenance\"],[\"Automotive Glass Replacement Shops\"],[\"Automotive Oil Change and Lubrication Shops\"],[\"Car Washes\"],[\"All Other Automotive Repair and Maintenance\"],[\"Consumer Electronics Repair and Maintenance\"],[\"Computer and Office Machine Repair and Maintenance\"],[\"Communication Equipment Repair and Maintenance\"],[\"Other Electronic and Precision Equipment Repair and Maintenance\"],[\"Commercial and Industrial Machinery and Equipment (except Automotive and Electronic) Repair and Maintenance\"],[\"Home and Garden Equipment Repair and Maintenance\"],[\"Appliance Repair and Maintenance\"],[\"Reupholstery and Furniture Repair\"],[\"Footwear and Leather Goods Repair\"],[\"Other Personal and Household Goods Repair and Maintenance\"],[\"Barber Shops\"],[\"Beauty Salons\"],[\"Nail Salons\"],[\"Diet and Weight Reducing Centers\"],[\"Other Personal Care Services\"],[\"Funeral Homes and Funeral Services\"],[\"Cemeteries and Crematories\"],[\"Coin-Operated Laundries and Drycleaners\"],[\"Drycleaning and Laundry Services (except Coin-Operated)\"],[\"Linen Supply\"],[\"Industrial Launderers\"],[\"Pet Care (except Veterinary) Services\"],[\"Photofinishing Laboratories (except One-Hour)\"],[\"One-Hour Photofinishing\"],[\"Parking Lots and Garages\"],[\"All Other Personal Services\"],[\"Religious Organizations\"],[\"Grantmaking Foundations\"],[\"Voluntary Health Organizations\"],[\"Other Grantmaking and Giving Services\"],[\"Human Rights Organizations\"],[\"Environment, Conservation and Wildlife Organizations\"],[\"Other Social Advocacy Organizations\"],[\"Civic and Social Organizations\"],[\"Business Associations\"],[\"Professional Organizations\"],[\"Labor Unions and Similar Labor Organizations\"],[\"Political Organizations\"],[\"Other Similar Organizations (except Business, Professional, Labor, and Political Organizations)\"]],\"hovertemplate\":\"Sector=%{x}\\u003cbr\\u003eSupply Chain Emission Factors with Margins=%{y}\\u003cbr\\u003e2017 NAICS Title=%{customdata[0]}\\u003cextra\\u003e\\u003c\\u002fextra\\u003e\",\"legendgroup\":\"\",\"marker\":{\"color\":\"#636efa\",\"pattern\":{\"shape\":\"\"}},\"name\":\"\",\"offsetgroup\":\"\",\"orientation\":\"v\",\"showlegend\":false,\"textposition\":\"auto\",\"x\":[\"Agriculture, Forestry, Fishing and Hunting\",\"Agriculture, Forestry, Fishing and Hunting\",\"Agriculture, Forestry, Fishing and Hunting\",\"Agriculture, Forestry, Fishing and Hunting\",\"Agriculture, Forestry, Fishing and Hunting\",\"Agriculture, Forestry, Fishing and Hunting\",\"Agriculture, Forestry, Fishing and Hunting\",\"Agriculture, Forestry, Fishing and Hunting\",\"Agriculture, Forestry, Fishing and Hunting\",\"Agriculture, Forestry, Fishing and Hunting\",\"Agriculture, Forestry, Fishing and Hunting\",\"Agriculture, Forestry, Fishing and Hunting\",\"Agriculture, Forestry, Fishing and Hunting\",\"Agriculture, Forestry, Fishing and Hunting\",\"Agriculture, Forestry, Fishing and Hunting\",\"Agriculture, Forestry, Fishing and Hunting\",\"Agriculture, Forestry, Fishing and Hunting\",\"Agriculture, Forestry, Fishing and Hunting\",\"Agriculture, Forestry, Fishing and Hunting\",\"Agriculture, Forestry, Fishing and Hunting\",\"Agriculture, Forestry, Fishing and Hunting\",\"Agriculture, Forestry, Fishing and Hunting\",\"Agriculture, Forestry, Fishing and Hunting\",\"Agriculture, Forestry, Fishing and Hunting\",\"Agriculture, Forestry, Fishing and Hunting\",\"Agriculture, Forestry, Fishing and Hunting\",\"Agriculture, Forestry, Fishing and Hunting\",\"Agriculture, Forestry, Fishing and Hunting\",\"Agriculture, Forestry, Fishing and Hunting\",\"Agriculture, Forestry, Fishing and Hunting\",\"Agriculture, Forestry, Fishing and Hunting\",\"Agriculture, Forestry, Fishing and Hunting\",\"Agriculture, Forestry, Fishing and Hunting\",\"Agriculture, Forestry, Fishing and Hunting\",\"Agriculture, Forestry, Fishing and Hunting\",\"Agriculture, Forestry, Fishing and Hunting\",\"Agriculture, Forestry, Fishing and Hunting\",\"Agriculture, Forestry, Fishing and Hunting\",\"Agriculture, Forestry, Fishing and Hunting\",\"Agriculture, Forestry, Fishing and Hunting\",\"Agriculture, Forestry, Fishing and Hunting\",\"Agriculture, Forestry, Fishing and Hunting\",\"Agriculture, Forestry, Fishing and Hunting\",\"Agriculture, Forestry, Fishing and Hunting\",\"Agriculture, Forestry, Fishing and Hunting\",\"Agriculture, Forestry, Fishing and Hunting\",\"Agriculture, Forestry, Fishing and Hunting\",\"Agriculture, Forestry, Fishing and Hunting\",\"Agriculture, Forestry, Fishing and Hunting\",\"Agriculture, Forestry, Fishing and Hunting\",\"Agriculture, Forestry, Fishing and Hunting\",\"Agriculture, Forestry, Fishing and Hunting\",\"Agriculture, Forestry, Fishing and Hunting\",\"Agriculture, Forestry, Fishing and Hunting\",\"Agriculture, Forestry, Fishing and Hunting\",\"Agriculture, Forestry, Fishing and Hunting\",\"Agriculture, Forestry, Fishing and Hunting\",\"Agriculture, Forestry, Fishing and Hunting\",\"Agriculture, Forestry, Fishing and Hunting\",\"Agriculture, Forestry, Fishing and Hunting\",\"Agriculture, Forestry, Fishing and Hunting\",\"Agriculture, Forestry, Fishing and Hunting\",\"Agriculture, Forestry, Fishing and Hunting\",\"Agriculture, Forestry, Fishing and Hunting\",\"Mining, Quarrying, and Oil and Gas Extraction\",\"Mining, Quarrying, and Oil and Gas Extraction\",\"Mining, Quarrying, and Oil and Gas Extraction\",\"Mining, Quarrying, and Oil and Gas Extraction\",\"Mining, Quarrying, and Oil and Gas Extraction\",\"Mining, Quarrying, and Oil and Gas Extraction\",\"Mining, Quarrying, and Oil and Gas Extraction\",\"Mining, Quarrying, and Oil and Gas Extraction\",\"Mining, Quarrying, and Oil and Gas Extraction\",\"Mining, Quarrying, and Oil and Gas Extraction\",\"Mining, Quarrying, and Oil and Gas Extraction\",\"Mining, Quarrying, and Oil and Gas Extraction\",\"Mining, Quarrying, and Oil and Gas Extraction\",\"Mining, Quarrying, and Oil and Gas Extraction\",\"Mining, Quarrying, and Oil and Gas Extraction\",\"Mining, Quarrying, and Oil and Gas Extraction\",\"Mining, Quarrying, and Oil and Gas Extraction\",\"Mining, Quarrying, and Oil and Gas Extraction\",\"Mining, Quarrying, and Oil and Gas Extraction\",\"Mining, Quarrying, and Oil and Gas Extraction\",\"Mining, Quarrying, and Oil and Gas Extraction\",\"Mining, Quarrying, and Oil and Gas Extraction\",\"Mining, Quarrying, and Oil and Gas Extraction\",\"Mining, Quarrying, and Oil and Gas Extraction\",\"Mining, Quarrying, and Oil and Gas Extraction\",\"Mining, Quarrying, and Oil and Gas Extraction\",\"Mining, Quarrying, and Oil and Gas Extraction\",\"Mining, Quarrying, and Oil and Gas Extraction\",\"Utilities\",\"Utilities\",\"Utilities\",\"Utilities\",\"Construction\",\"Construction\",\"Construction\",\"Construction\",\"Construction\",\"Construction\",\"Construction\",\"Construction\",\"Construction\",\"Construction\",\"Construction\",\"Construction\",\"Construction\",\"Construction\",\"Construction\",\"Construction\",\"Construction\",\"Construction\",\"Construction\",\"Construction\",\"Construction\",\"Construction\",\"Construction\",\"Construction\",\"Construction\",\"Construction\",\"Construction\",\"Construction\",\"Construction\",\"Construction\",\"Construction\",\"Manufacturing\",\"Manufacturing\",\"Manufacturing\",\"Manufacturing\",\"Manufacturing\",\"Manufacturing\",\"Manufacturing\",\"Manufacturing\",\"Manufacturing\",\"Manufacturing\",\"Manufacturing\",\"Manufacturing\",\"Manufacturing\",\"Manufacturing\",\"Manufacturing\",\"Manufacturing\",\"Manufacturing\",\"Manufacturing\",\"Manufacturing\",\"Manufacturing\",\"Manufacturing\",\"Manufacturing\",\"Manufacturing\",\"Manufacturing\",\"Manufacturing\",\"Manufacturing\",\"Manufacturing\",\"Manufacturing\",\"Manufacturing\",\"Manufacturing\",\"Manufacturing\",\"Manufacturing\",\"Manufacturing\",\"Manufacturing\",\"Manufacturing\",\"Manufacturing\",\"Manufacturing\",\"Manufacturing\",\"Manufacturing\",\"Manufacturing\",\"Manufacturing\",\"Manufacturing\",\"Manufacturing\",\"Manufacturing\",\"Manufacturing\",\"Manufacturing\",\"Manufacturing\",\"Manufacturing\",\"Manufacturing\",\"Manufacturing\",\"Manufacturing\",\"Manufacturing\",\"Manufacturing\",\"Manufacturing\",\"Manufacturing\",\"Manufacturing\",\"Manufacturing\",\"Manufacturing\",\"Manufacturing\",\"Manufacturing\",\"Manufacturing\",\"Manufacturing\",\"Manufacturing\",\"Manufacturing\",\"Manufacturing\",\"Manufacturing\",\"Manufacturing\",\"Manufacturing\",\"Manufacturing\",\"Manufacturing\",\"Manufacturing\",\"Manufacturing\",\"Manufacturing\",\"Manufacturing\",\"Manufacturing\",\"Manufacturing\",\"Manufacturing\",\"Manufacturing\",\"Manufacturing\",\"Manufacturing\",\"Manufacturing\",\"Manufacturing\",\"Manufacturing\",\"Manufacturing\",\"Manufacturing\",\"Manufacturing\",\"Manufacturing\",\"Manufacturing\",\"Manufacturing\",\"Manufacturing\",\"Manufacturing\",\"Manufacturing\",\"Manufacturing\",\"Manufacturing\",\"Manufacturing\",\"Manufacturing\",\"Manufacturing\",\"Manufacturing\",\"Manufacturing\",\"Manufacturing\",\"Manufacturing\",\"Manufacturing\",\"Manufacturing\",\"Manufacturing\",\"Manufacturing\",\"Manufacturing\",\"Manufacturing\",\"Manufacturing\",\"Manufacturing\",\"Manufacturing\",\"Manufacturing\",\"Manufacturing\",\"Manufacturing\",\"Manufacturing\",\"Manufacturing\",\"Manufacturing\",\"Manufacturing\",\"Manufacturing\",\"Manufacturing\",\"Manufacturing\",\"Manufacturing\",\"Manufacturing\",\"Manufacturing\",\"Manufacturing\",\"Manufacturing\",\"Manufacturing\",\"Manufacturing\",\"Manufacturing\",\"Manufacturing\",\"Manufacturing\",\"Manufacturing\",\"Manufacturing\",\"Manufacturing\",\"Manufacturing\",\"Manufacturing\",\"Manufacturing\",\"Manufacturing\",\"Manufacturing\",\"Manufacturing\",\"Manufacturing\",\"Manufacturing\",\"Manufacturing\",\"Manufacturing\",\"Manufacturing\",\"Manufacturing\",\"Manufacturing\",\"Manufacturing\",\"Manufacturing\",\"Manufacturing\",\"Manufacturing\",\"Manufacturing\",\"Manufacturing\",\"Manufacturing\",\"Manufacturing\",\"Manufacturing\",\"Manufacturing\",\"Manufacturing\",\"Manufacturing\",\"Manufacturing\",\"Manufacturing\",\"Manufacturing\",\"Manufacturing\",\"Manufacturing\",\"Manufacturing\",\"Manufacturing\",\"Manufacturing\",\"Manufacturing\",\"Manufacturing\",\"Manufacturing\",\"Manufacturing\",\"Manufacturing\",\"Manufacturing\",\"Manufacturing\",\"Manufacturing\",\"Manufacturing\",\"Manufacturing\",\"Manufacturing\",\"Manufacturing\",\"Manufacturing\",\"Manufacturing\",\"Manufacturing\",\"Manufacturing\",\"Manufacturing\",\"Manufacturing\",\"Manufacturing\",\"Manufacturing\",\"Manufacturing\",\"Manufacturing\",\"Manufacturing\",\"Manufacturing\",\"Manufacturing\",\"Manufacturing\",\"Manufacturing\",\"Manufacturing\",\"Manufacturing\",\"Manufacturing\",\"Manufacturing\",\"Manufacturing\",\"Manufacturing\",\"Manufacturing\",\"Manufacturing\",\"Manufacturing\",\"Manufacturing\",\"Manufacturing\",\"Manufacturing\",\"Manufacturing\",\"Manufacturing\",\"Manufacturing\",\"Manufacturing\",\"Manufacturing\",\"Manufacturing\",\"Manufacturing\",\"Manufacturing\",\"Manufacturing\",\"Manufacturing\",\"Manufacturing\",\"Manufacturing\",\"Manufacturing\",\"Manufacturing\",\"Manufacturing\",\"Manufacturing\",\"Manufacturing\",\"Manufacturing\",\"Manufacturing\",\"Manufacturing\",\"Manufacturing\",\"Manufacturing\",\"Manufacturing\",\"Manufacturing\",\"Manufacturing\",\"Manufacturing\",\"Manufacturing\",\"Manufacturing\",\"Manufacturing\",\"Manufacturing\",\"Manufacturing\",\"Manufacturing\",\"Manufacturing\",\"Manufacturing\",\"Manufacturing\",\"Manufacturing\",\"Manufacturing\",\"Manufacturing\",\"Manufacturing\",\"Manufacturing\",\"Manufacturing\",\"Manufacturing\",\"Manufacturing\",\"Manufacturing\",\"Manufacturing\",\"Manufacturing\",\"Manufacturing\",\"Manufacturing\",\"Manufacturing\",\"Manufacturing\",\"Manufacturing\",\"Manufacturing\",\"Manufacturing\",\"Manufacturing\",\"Manufacturing\",\"Manufacturing\",\"Manufacturing\",\"Manufacturing\",\"Manufacturing\",\"Manufacturing\",\"Manufacturing\",\"Manufacturing\",\"Manufacturing\",\"Manufacturing\",\"Manufacturing\",\"Manufacturing\",\"Manufacturing\",\"Manufacturing\",\"Manufacturing\",\"Manufacturing\",\"Manufacturing\",\"Manufacturing\",\"Manufacturing\",\"Manufacturing\",\"Manufacturing\",\"Manufacturing\",\"Manufacturing\",\"Manufacturing\",\"Manufacturing\",\"Manufacturing\",\"Manufacturing\",\"Manufacturing\",\"Manufacturing\",\"Manufacturing\",\"Manufacturing\",\"Manufacturing\",\"Manufacturing\",\"Manufacturing\",\"Manufacturing\",\"Manufacturing\",\"Manufacturing\",\"Manufacturing\",\"Manufacturing\",\"Manufacturing\",\"Manufacturing\",\"Manufacturing\",\"Manufacturing\",\"Manufacturing\",\"Manufacturing\",\"Manufacturing\",\"Manufacturing\",\"Manufacturing\",\"Manufacturing\",\"Manufacturing\",\"Manufacturing\",\"Manufacturing\",\"Manufacturing\",\"Manufacturing\",\"Manufacturing\",\"Manufacturing\",\"Manufacturing\",\"Manufacturing\",\"Manufacturing\",\"Manufacturing\",\"Manufacturing\",\"Manufacturing\",\"Manufacturing\",\"Manufacturing\",\"Manufacturing\",\"Manufacturing\",\"Manufacturing\",\"Manufacturing\",\"Manufacturing\",\"Manufacturing\",\"Manufacturing\",\"Manufacturing\",\"Manufacturing\",\"Manufacturing\",\"Manufacturing\",\"Manufacturing\",\"Manufacturing\",\"Manufacturing\",\"Manufacturing\",\"Manufacturing\",\"Manufacturing\",\"Manufacturing\",\"Manufacturing\",\"Manufacturing\",\"Manufacturing\",\"Manufacturing\",\"Manufacturing\",\"Manufacturing\",\"Manufacturing\",\"Manufacturing\",\"Manufacturing\",\"Manufacturing\",\"Manufacturing\",\"Manufacturing\",\"Manufacturing\",\"Manufacturing\",\"Manufacturing\",\"Manufacturing\",\"Manufacturing\",\"Manufacturing\",\"Wholesale Trade\",\"Wholesale Trade\",\"Wholesale Trade\",\"Wholesale Trade\",\"Wholesale Trade\",\"Wholesale Trade\",\"Wholesale Trade\",\"Wholesale Trade\",\"Wholesale Trade\",\"Wholesale Trade\",\"Wholesale Trade\",\"Wholesale Trade\",\"Wholesale Trade\",\"Wholesale Trade\",\"Wholesale Trade\",\"Wholesale Trade\",\"Wholesale Trade\",\"Wholesale Trade\",\"Wholesale Trade\",\"Wholesale Trade\",\"Wholesale Trade\",\"Wholesale Trade\",\"Wholesale Trade\",\"Wholesale Trade\",\"Wholesale Trade\",\"Wholesale Trade\",\"Wholesale Trade\",\"Wholesale Trade\",\"Wholesale Trade\",\"Wholesale Trade\",\"Wholesale Trade\",\"Wholesale Trade\",\"Wholesale Trade\",\"Wholesale Trade\",\"Wholesale Trade\",\"Wholesale Trade\",\"Wholesale Trade\",\"Wholesale Trade\",\"Wholesale Trade\",\"Wholesale Trade\",\"Wholesale Trade\",\"Wholesale Trade\",\"Wholesale Trade\",\"Wholesale Trade\",\"Wholesale Trade\",\"Wholesale Trade\",\"Wholesale Trade\",\"Wholesale Trade\",\"Wholesale Trade\",\"Wholesale Trade\",\"Wholesale Trade\",\"Wholesale Trade\",\"Wholesale Trade\",\"Wholesale Trade\",\"Wholesale Trade\",\"Wholesale Trade\",\"Wholesale Trade\",\"Wholesale Trade\",\"Wholesale Trade\",\"Wholesale Trade\",\"Wholesale Trade\",\"Wholesale Trade\",\"Wholesale Trade\",\"Wholesale Trade\",\"Wholesale Trade\",\"Wholesale Trade\",\"Wholesale Trade\",\"Wholesale Trade\",\"Wholesale Trade\",\"Wholesale Trade\",\"Wholesale Trade\",\"Retail Trade\",\"Retail Trade\",\"Retail Trade\",\"Retail Trade\",\"Retail Trade\",\"Retail Trade\",\"Retail Trade\",\"Retail Trade\",\"Retail Trade\",\"Retail Trade\",\"Retail Trade\",\"Retail Trade\",\"Retail Trade\",\"Retail Trade\",\"Retail Trade\",\"Retail Trade\",\"Retail Trade\",\"Retail Trade\",\"Retail Trade\",\"Retail Trade\",\"Retail Trade\",\"Retail Trade\",\"Retail Trade\",\"Retail Trade\",\"Retail Trade\",\"Retail Trade\",\"Retail Trade\",\"Retail Trade\",\"Retail Trade\",\"Retail Trade\",\"Retail Trade\",\"Retail Trade\",\"Retail Trade\",\"Retail Trade\",\"Retail Trade\",\"Retail Trade\",\"Retail Trade\",\"Retail Trade\",\"Retail Trade\",\"Retail Trade\",\"Retail Trade\",\"Retail Trade\",\"Retail Trade\",\"Retail Trade\",\"Retail Trade\",\"Retail Trade\",\"Retail Trade\",\"Retail Trade\",\"Retail Trade\",\"Retail Trade\",\"Retail Trade\",\"Retail Trade\",\"Retail Trade\",\"Retail Trade\",\"Retail Trade\",\"Retail Trade\",\"Retail Trade\",\"Retail Trade\",\"Retail Trade\",\"Retail Trade\",\"Retail Trade\",\"Retail Trade\",\"Retail Trade\",\"Retail Trade\",\"Retail Trade\",\"Retail Trade\",\"Transportation and Warehousing\",\"Transportation and Warehousing\",\"Transportation and Warehousing\",\"Transportation and Warehousing\",\"Transportation and Warehousing\",\"Transportation and Warehousing\",\"Transportation and Warehousing\",\"Transportation and Warehousing\",\"Transportation and Warehousing\",\"Transportation and Warehousing\",\"Transportation and Warehousing\",\"Transportation and Warehousing\",\"Transportation and Warehousing\",\"Transportation and Warehousing\",\"Transportation and Warehousing\",\"Transportation and Warehousing\",\"Transportation and Warehousing\",\"Transportation and Warehousing\",\"Transportation and Warehousing\",\"Transportation and Warehousing\",\"Transportation and Warehousing\",\"Transportation and Warehousing\",\"Transportation and Warehousing\",\"Transportation and Warehousing\",\"Transportation and Warehousing\",\"Transportation and Warehousing\",\"Transportation and Warehousing\",\"Transportation and Warehousing\",\"Transportation and Warehousing\",\"Transportation and Warehousing\",\"Transportation and Warehousing\",\"Transportation and Warehousing\",\"Transportation and Warehousing\",\"Transportation and Warehousing\",\"Transportation and Warehousing\",\"Transportation and Warehousing\",\"Transportation and Warehousing\",\"Transportation and Warehousing\",\"Transportation and Warehousing\",\"Transportation and Warehousing\",\"Transportation and Warehousing\",\"Transportation and Warehousing\",\"Transportation and Warehousing\",\"Transportation and Warehousing\",\"Transportation and Warehousing\",\"Transportation and Warehousing\",\"Transportation and Warehousing\",\"Transportation and Warehousing\",\"Transportation and Warehousing\",\"Transportation and Warehousing\",\"Transportation and Warehousing\",\"Transportation and Warehousing\",\"Transportation and Warehousing\",\"Transportation and Warehousing\",\"Transportation and Warehousing\",\"Transportation and Warehousing\",\"Transportation and Warehousing\",\"Information\",\"Information\",\"Information\",\"Information\",\"Information\",\"Information\",\"Information\",\"Information\",\"Information\",\"Information\",\"Information\",\"Information\",\"Information\",\"Information\",\"Information\",\"Information\",\"Information\",\"Information\",\"Information\",\"Information\",\"Information\",\"Information\",\"Information\",\"Information\",\"Information\",\"Information\",\"Information\",\"Information\",\"Information\",\"Information\",\"Information\",\"Finance and Insurance\",\"Finance and Insurance\",\"Finance and Insurance\",\"Finance and Insurance\",\"Finance and Insurance\",\"Finance and Insurance\",\"Finance and Insurance\",\"Finance and Insurance\",\"Finance and Insurance\",\"Finance and Insurance\",\"Finance and Insurance\",\"Finance and Insurance\",\"Finance and Insurance\",\"Finance and Insurance\",\"Finance and Insurance\",\"Finance and Insurance\",\"Finance and Insurance\",\"Finance and Insurance\",\"Finance and Insurance\",\"Finance and Insurance\",\"Finance and Insurance\",\"Finance and Insurance\",\"Finance and Insurance\",\"Finance and Insurance\",\"Finance and Insurance\",\"Finance and Insurance\",\"Finance and Insurance\",\"Finance and Insurance\",\"Finance and Insurance\",\"Finance and Insurance\",\"Finance and Insurance\",\"Finance and Insurance\",\"Finance and Insurance\",\"Finance and Insurance\",\"Finance and Insurance\",\"Finance and Insurance\",\"Finance and Insurance\",\"Finance and Insurance\",\"Finance and Insurance\",\"Finance and Insurance\",\"Finance and Insurance\",\"Real Estate and Rental and Leasing\",\"Real Estate and Rental and Leasing\",\"Real Estate and Rental and Leasing\",\"Real Estate and Rental and Leasing\",\"Real Estate and Rental and Leasing\",\"Real Estate and Rental and Leasing\",\"Real Estate and Rental and Leasing\",\"Real Estate and Rental and Leasing\",\"Real Estate and Rental and Leasing\",\"Real Estate and Rental and Leasing\",\"Real Estate and Rental and Leasing\",\"Real Estate and Rental and Leasing\",\"Real Estate and Rental and Leasing\",\"Real Estate and Rental and Leasing\",\"Real Estate and Rental and Leasing\",\"Real Estate and Rental and Leasing\",\"Real Estate and Rental and Leasing\",\"Real Estate and Rental and Leasing\",\"Real Estate and Rental and Leasing\",\"Real Estate and Rental and Leasing\",\"Real Estate and Rental and Leasing\",\"Real Estate and Rental and Leasing\",\"Real Estate and Rental and Leasing\",\"Real Estate and Rental and Leasing\",\"Professional, Scientific, and Technical Services\",\"Professional, Scientific, and Technical Services\",\"Professional, Scientific, and Technical Services\",\"Professional, Scientific, and Technical Services\",\"Professional, Scientific, and Technical Services\",\"Professional, Scientific, and Technical Services\",\"Professional, Scientific, and Technical Services\",\"Professional, Scientific, and Technical Services\",\"Professional, Scientific, and Technical Services\",\"Professional, Scientific, and Technical Services\",\"Professional, Scientific, and Technical Services\",\"Professional, Scientific, and Technical Services\",\"Professional, Scientific, and Technical Services\",\"Professional, Scientific, and Technical Services\",\"Professional, Scientific, and Technical Services\",\"Professional, Scientific, and Technical Services\",\"Professional, Scientific, and Technical Services\",\"Professional, Scientific, and Technical Services\",\"Professional, Scientific, and Technical Services\",\"Professional, Scientific, and Technical Services\",\"Professional, Scientific, and Technical Services\",\"Professional, Scientific, and Technical Services\",\"Professional, Scientific, and Technical Services\",\"Professional, Scientific, and Technical Services\",\"Professional, Scientific, and Technical Services\",\"Professional, Scientific, and Technical Services\",\"Professional, Scientific, and Technical Services\",\"Professional, Scientific, and Technical Services\",\"Professional, Scientific, and Technical Services\",\"Professional, Scientific, and Technical Services\",\"Professional, Scientific, and Technical Services\",\"Professional, Scientific, and Technical Services\",\"Professional, Scientific, and Technical Services\",\"Professional, Scientific, and Technical Services\",\"Professional, Scientific, and Technical Services\",\"Professional, Scientific, and Technical Services\",\"Professional, Scientific, and Technical Services\",\"Professional, Scientific, and Technical Services\",\"Professional, Scientific, and Technical Services\",\"Professional, Scientific, and Technical Services\",\"Professional, Scientific, and Technical Services\",\"Professional, Scientific, and Technical Services\",\"Professional, Scientific, and Technical Services\",\"Professional, Scientific, and Technical Services\",\"Professional, Scientific, and Technical Services\",\"Professional, Scientific, and Technical Services\",\"Professional, Scientific, and Technical Services\",\"Professional, Scientific, and Technical Services\",\"Professional, Scientific, and Technical Services\",\"Management of Companies and Enterprises\",\"Management of Companies and Enterprises\",\"Management of Companies and Enterprises\",\"Administrative and Support and Waste Management and Remediation Services\",\"Administrative and Support and Waste Management and Remediation Services\",\"Administrative and Support and Waste Management and Remediation Services\",\"Administrative and Support and Waste Management and Remediation Services\",\"Administrative and Support and Waste Management and Remediation Services\",\"Administrative and Support and Waste Management and Remediation Services\",\"Administrative and Support and Waste Management and Remediation Services\",\"Administrative and Support and Waste Management and Remediation Services\",\"Administrative and Support and Waste Management and Remediation Services\",\"Administrative and Support and Waste Management and Remediation Services\",\"Administrative and Support and Waste Management and Remediation Services\",\"Administrative and Support and Waste Management and Remediation Services\",\"Administrative and Support and Waste Management and Remediation Services\",\"Administrative and Support and Waste Management and Remediation Services\",\"Administrative and Support and Waste Management and Remediation Services\",\"Administrative and Support and Waste Management and Remediation Services\",\"Administrative and Support and Waste Management and Remediation Services\",\"Administrative and Support and Waste Management and Remediation Services\",\"Administrative and Support and Waste Management and Remediation Services\",\"Administrative and Support and Waste Management and Remediation Services\",\"Administrative and Support and Waste Management and Remediation Services\",\"Administrative and Support and Waste Management and Remediation Services\",\"Administrative and Support and Waste Management and Remediation Services\",\"Administrative and Support and Waste Management and Remediation Services\",\"Administrative and Support and Waste Management and Remediation Services\",\"Administrative and Support and Waste Management and Remediation Services\",\"Administrative and Support and Waste Management and Remediation Services\",\"Administrative and Support and Waste Management and Remediation Services\",\"Administrative and Support and Waste Management and Remediation Services\",\"Administrative and Support and Waste Management and Remediation Services\",\"Administrative and Support and Waste Management and Remediation Services\",\"Administrative and Support and Waste Management and Remediation Services\",\"Administrative and Support and Waste Management and Remediation Services\",\"Administrative and Support and Waste Management and Remediation Services\",\"Administrative and Support and Waste Management and Remediation Services\",\"Administrative and Support and Waste Management and Remediation Services\",\"Administrative and Support and Waste Management and Remediation Services\",\"Administrative and Support and Waste Management and Remediation Services\",\"Administrative and Support and Waste Management and Remediation Services\",\"Administrative and Support and Waste Management and Remediation Services\",\"Administrative and Support and Waste Management and Remediation Services\",\"Administrative and Support and Waste Management and Remediation Services\",\"Administrative and Support and Waste Management and Remediation Services\",\"Administrative and Support and Waste Management and Remediation Services\",\"Educational Services\",\"Educational Services\",\"Educational Services\",\"Educational Services\",\"Educational Services\",\"Educational Services\",\"Educational Services\",\"Educational Services\",\"Educational Services\",\"Educational Services\",\"Educational Services\",\"Educational Services\",\"Educational Services\",\"Educational Services\",\"Educational Services\",\"Educational Services\",\"Educational Services\",\"Health Care and Social Assistance\",\"Health Care and Social Assistance\",\"Health Care and Social Assistance\",\"Health Care and Social Assistance\",\"Health Care and Social Assistance\",\"Health Care and Social Assistance\",\"Health Care and Social Assistance\",\"Health Care and Social Assistance\",\"Health Care and Social Assistance\",\"Health Care and Social Assistance\",\"Health Care and Social Assistance\",\"Health Care and Social Assistance\",\"Health Care and Social Assistance\",\"Health Care and Social Assistance\",\"Health Care and Social Assistance\",\"Health Care and Social Assistance\",\"Health Care and Social Assistance\",\"Health Care and Social Assistance\",\"Health Care and Social Assistance\",\"Health Care and Social Assistance\",\"Health Care and Social Assistance\",\"Health Care and Social Assistance\",\"Health Care and Social Assistance\",\"Health Care and Social Assistance\",\"Health Care and Social Assistance\",\"Health Care and Social Assistance\",\"Health Care and Social Assistance\",\"Health Care and Social Assistance\",\"Health Care and Social Assistance\",\"Health Care and Social Assistance\",\"Health Care and Social Assistance\",\"Health Care and Social Assistance\",\"Health Care and Social Assistance\",\"Health Care and Social Assistance\",\"Health Care and Social Assistance\",\"Health Care and Social Assistance\",\"Health Care and Social Assistance\",\"Health Care and Social Assistance\",\"Health Care and Social Assistance\",\"Arts, Entertainment, and Recreation\",\"Arts, Entertainment, and Recreation\",\"Arts, Entertainment, and Recreation\",\"Arts, Entertainment, and Recreation\",\"Arts, Entertainment, and Recreation\",\"Arts, Entertainment, and Recreation\",\"Arts, Entertainment, and Recreation\",\"Arts, Entertainment, and Recreation\",\"Arts, Entertainment, and Recreation\",\"Arts, Entertainment, and Recreation\",\"Arts, Entertainment, and Recreation\",\"Arts, Entertainment, and Recreation\",\"Arts, Entertainment, and Recreation\",\"Arts, Entertainment, and Recreation\",\"Arts, Entertainment, and Recreation\",\"Arts, Entertainment, and Recreation\",\"Arts, Entertainment, and Recreation\",\"Arts, Entertainment, and Recreation\",\"Arts, Entertainment, and Recreation\",\"Arts, Entertainment, and Recreation\",\"Arts, Entertainment, and Recreation\",\"Arts, Entertainment, and Recreation\",\"Arts, Entertainment, and Recreation\",\"Arts, Entertainment, and Recreation\",\"Arts, Entertainment, and Recreation\",\"Accommodation and Food Services\",\"Accommodation and Food Services\",\"Accommodation and Food Services\",\"Accommodation and Food Services\",\"Accommodation and Food Services\",\"Accommodation and Food Services\",\"Accommodation and Food Services\",\"Accommodation and Food Services\",\"Accommodation and Food Services\",\"Accommodation and Food Services\",\"Accommodation and Food Services\",\"Accommodation and Food Services\",\"Accommodation and Food Services\",\"Accommodation and Food Services\",\"Accommodation and Food Services\",\"Other Services (except Public Administration)\",\"Other Services (except Public Administration)\",\"Other Services (except Public Administration)\",\"Other Services (except Public Administration)\",\"Other Services (except Public Administration)\",\"Other Services (except Public Administration)\",\"Other Services (except Public Administration)\",\"Other Services (except Public Administration)\",\"Other Services (except Public Administration)\",\"Other Services (except Public Administration)\",\"Other Services (except Public Administration)\",\"Other Services (except Public Administration)\",\"Other Services (except Public Administration)\",\"Other Services (except Public Administration)\",\"Other Services (except Public Administration)\",\"Other Services (except Public Administration)\",\"Other Services (except Public Administration)\",\"Other Services (except Public Administration)\",\"Other Services (except Public Administration)\",\"Other Services (except Public Administration)\",\"Other Services (except Public Administration)\",\"Other Services (except Public Administration)\",\"Other Services (except Public Administration)\",\"Other Services (except Public Administration)\",\"Other Services (except Public Administration)\",\"Other Services (except Public Administration)\",\"Other Services (except Public Administration)\",\"Other Services (except Public Administration)\",\"Other Services (except Public Administration)\",\"Other Services (except Public Administration)\",\"Other Services (except Public Administration)\",\"Other Services (except Public Administration)\",\"Other Services (except Public Administration)\",\"Other Services (except Public Administration)\",\"Other Services (except Public Administration)\",\"Other Services (except Public Administration)\",\"Other Services (except Public Administration)\",\"Other Services (except Public Administration)\",\"Other Services (except Public Administration)\",\"Other Services (except Public Administration)\",\"Other Services (except Public Administration)\",\"Other Services (except Public Administration)\",\"Other Services (except Public Administration)\",\"Other Services (except Public Administration)\",\"Other Services (except Public Administration)\",\"Other Services (except Public Administration)\",\"Other Services (except Public Administration)\",\"Other Services (except Public Administration)\"],\"xaxis\":\"x\",\"y\":[1.326,1.326,3.007,3.007,3.007,3.007,3.007,3.007,0.588,0.588,0.5,0.5,0.5,0.5,0.5,0.5,0.5,0.5,0.5,1.043,1.043,1.043,1.043,1.431,1.431,1.431,1.431,1.431,1.431,1.431,3.298,3.298,2.578,3.298,1.375,1.171,1.171,1.171,1.171,1.171,1.375,1.375,1.375,1.375,1.375,1.375,1.375,1.375,1.375,0.301,0.301,0.301,0.267,0.267,0.267,0.267,0.591,0.591,0.591,0.591,0.591,0.591,0.591,0.591,0.83,0.83,2.016,2.016,2.016,1.233,1.233,1.233,1.165,1.233,1.233,0.323,0.323,0.323,0.323,0.692,0.692,0.692,0.692,0.692,0.692,0.692,0.692,0.519,0.51,0.51,0.51,0.51,0.627,0.652,0.652,0.652,0.166,0.116,0.195,0.277,0.31,0.256,0.354,0.354,0.354,0.239,0.297,0.27,0.245,0.245,0.245,0.245,0.245,0.245,0.245,0.245,0.245,0.245,0.245,0.245,0.245,0.245,0.245,0.245,0.245,0.245,0.245,0.478,0.809,1.448,1.448,1.448,1.637,1.09,0.756,0.485,0.543,0.543,0.543,0.543,0.543,0.718,0.718,0.518,0.518,0.518,1.039,1.039,1.259,0.946,0.637,1.279,1.279,1.279,0.64,0.376,0.314,0.314,0.314,0.548,0.548,0.548,0.501,0.501,0.549,0.448,0.449,0.449,0.603,0.603,0.378,0.378,0.378,0.377,0.21,0.446,0.118,0.837,0.525,0.525,0.525,0.525,0.452,0.452,0.308,0.22,0.263,0.263,0.263,0.145,0.145,0.145,0.145,0.145,0.145,0.145,0.256,0.256,0.256,0.256,0.274,0.274,0.218,0.218,0.218,0.218,0.218,0.187,0.187,0.187,0.2,0.2,0.2,0.2,0.957,0.737,0.737,0.803,0.49,0.49,0.49,0.522,0.418,0.411,0.463,0.347,0.347,0.347,0.286,0.859,1.318,0.916,0.848,0.848,1.197,1.45,1.382,1.117,1.51,1.51,1.51,1.076,1.136,1.136,2.115,2.115,2.115,0.547,0.26,0.107,0.143,0.085,0.469,0.714,0.405,0.405,0.405,0.199,0.784,0.567,0.567,0.567,0.567,0.608,0.608,0.608,0.434,0.434,0.497,0.347,0.399,0.783,0.403,0.403,0.43,0.43,0.335,0.471,0.471,0.398,0.398,0.49,0.49,0.49,0.49,3.858,0.687,0.371,0.371,0.365,1.714,1.714,0.244,0.296,0.496,0.45,0.644,0.979,0.549,0.549,0.549,1.41,0.869,0.869,0.695,0.537,0.64,0.64,0.446,0.446,0.446,0.619,0.619,0.619,0.641,0.641,0.673,0.641,0.406,0.24,0.24,0.35,0.35,0.35,0.284,0.284,0.284,0.234,0.417,0.632,0.632,0.22,0.372,0.372,0.314,0.332,0.332,0.526,0.526,0.526,0.24,0.24,0.193,0.24,0.277,0.194,0.194,0.194,0.365,0.32,0.271,0.192,0.246,0.302,0.302,0.21,0.217,0.21,0.21,0.21,0.178,0.179,0.244,0.242,0.207,0.236,0.368,0.263,0.266,0.263,0.266,0.263,0.233,0.251,0.318,0.218,0.202,0.296,0.296,0.296,0.296,0.165,0.26,0.186,0.226,0.274,0.274,0.26,0.26,0.112,0.136,0.183,0.201,0.215,0.114,0.124,0.167,0.269,0.167,0.167,0.158,0.167,0.142,0.06,0.137,0.115,0.072,0.116,0.093,0.197,0.1,0.134,0.134,0.435,0.25,0.25,0.25,0.3,0.228,0.28,0.229,0.24,0.153,0.314,0.227,0.359,0.359,0.261,0.261,0.495,0.176,0.279,0.322,0.307,0.247,0.262,0.202,0.257,0.346,0.285,0.392,0.392,0.391,0.394,0.708,0.395,0.15,0.114,0.215,0.164,0.146,0.146,0.415,0.245,0.166,0.229,0.396,0.291,0.196,0.249,0.213,0.294,0.294,0.299,0.305,0.305,0.305,0.339,0.225,0.225,0.19,0.17,0.17,0.138,0.104,0.156,0.228,0.187,0.292,0.32,0.225,0.225,0.225,0.225,0.225,0.225,0.149,0.149,0.149,0.149,0.147,0.147,0.147,0.147,0.147,0.147,0.085,0.085,0.085,0.085,0.085,0.085,0.085,0.147,0.147,0.109,0.109,0.109,0.147,0.147,0.147,0.147,0.117,0.117,0.117,0.117,0.117,0.117,0.147,0.147,0.147,0.147,0.147,0.187,0.187,0.187,0.131,0.187,0.187,0.187,0.187,0.235,0.235,0.235,0.235,0.235,0.235,0.235,0.235,0.235,0.187,0.187,0.187,0.187,0.187,0.078,0.078,0.187,0.187,0.187,0.187,0.187,0.187,0.187,0.187,0.051,0.051,0.104,0.104,0.104,0.104,0.104,0.104,0.104,0.163,0.163,0.163,0.163,0.163,0.163,0.101,0.101,0.101,0.101,0.101,0.101,0.238,0.238,0.238,0.238,0.238,0.238,0.238,0.238,0.238,0.151,0.151,0.151,0.151,0.151,0.196,0.196,0.204,0.204,0.204,0.204,0.204,0.204,0.204,0.204,0.204,0.163,0.163,0.163,0.163,0.163,0.163,0.194,0.194,0.194,0.163,0.163,0.163,0.163,0.163,0.163,0.163,0.163,0.163,0.091,0.091,0.091,0.091,0.976,0.976,0.976,0.976,0.976,0.558,0.558,0.618,0.618,0.618,0.618,0.618,0.618,1.115,1.115,1.115,1.115,1.115,1.115,0.499,0.499,0.499,0.499,0.499,0.499,0.499,0.499,0.499,0.499,0.499,1.558,1.558,1.558,1.558,0.208,0.208,0.208,0.208,0.208,0.208,0.208,0.208,0.208,0.208,0.208,0.208,0.208,0.208,0.208,0.208,0.19,0.257,0.257,0.568,0.568,0.568,0.568,0.131,0.136,0.125,0.16,0.16,0.16,0.097,0.071,0.071,0.071,0.071,0.071,0.071,0.068,0.068,0.068,0.068,0.11,0.11,0.11,0.146,0.082,0.168,0.125,0.125,0.125,0.148,0.107,0.107,0.128,0.107,0.048,0.048,0.048,0.048,0.048,0.064,0.064,0.064,0.064,0.064,0.064,0.064,0.064,0.064,0.064,0.06,0.06,0.06,0.06,0.06,0.062,0.062,0.062,0.062,0.062,0.03,0.034,0.034,0.034,0.034,0.034,0.034,0.034,0.034,0.034,0.166,0.166,0.166,0.166,0.166,0.166,0.019,0.351,0.351,0.351,0.351,0.351,0.351,0.351,0.351,0.143,0.143,0.143,0.134,0.134,0.134,0.134,0.134,0.134,0.134,0.14,0.14,0.14,0.14,0.058,0.054,0.054,0.054,0.054,0.05,0.05,0.05,0.05,0.125,0.125,0.125,0.125,0.125,0.125,0.125,0.125,0.088,0.088,0.088,0.088,0.097,0.077,0.087,0.087,0.084,0.084,0.084,0.084,0.084,0.079,0.079,0.174,0.174,0.174,0.174,0.129,0.129,0.129,0.129,0.129,0.129,0.129,0.129,0.075,0.122,0.122,0.075,0.139,0.075,0.13,0.13,0.13,0.105,0.213,0.033,0.033,0.033,0.033,0.118,0.118,0.118,0.118,0.118,0.118,0.118,0.118,0.118,0.118,0.103,0.103,0.103,0.103,0.08,0.08,0.08,0.08,0.08,0.167,0.167,0.167,0.167,0.167,0.121,0.121,0.121,0.197,1.777,0.632,1.777,10.989,2.166,0.632,0.163,0.158,0.632,0.632,0.137,0.168,0.168,0.125,0.125,0.125,0.125,0.125,0.125,0.125,0.125,0.125,0.125,0.125,0.125,0.125,0.125,0.086,0.086,0.09,0.12,0.12,0.12,0.12,0.12,0.12,0.116,0.116,0.116,0.116,0.116,0.116,0.127,0.127,0.112,0.181,0.181,0.181,0.157,0.157,0.157,0.157,0.163,0.163,0.157,0.157,0.163,0.145,0.145,0.145,0.248,0.248,0.248,0.248,0.248,0.166,0.084,0.084,0.084,0.084,0.072,0.072,0.072,0.083,0.083,0.083,0.013,0.156,0.156,0.156,0.156,0.138,0.138,0.163,0.163,0.312,0.312,0.312,0.312,0.312,0.312,0.183,0.183,0.183,0.183,0.183,0.183,0.183,0.155,0.155,0.155,0.155,0.218,0.287,0.155,0.155,0.127,0.127,0.127,0.127,0.127,0.127,0.127,0.127,0.127,0.09,0.09,0.09,0.09,0.14,0.086,0.086,0.086,0.086,0.086,0.109,0.109,0.109,0.109,0.109,0.034,0.034,0.162,0.162,0.162,0.162,0.099,0.099,0.099,0.099,0.099,0.197,0.065,0.065,0.065,0.065,0.065,0.065,0.136,0.136,0.136,0.136,0.136,0.136],\"yaxis\":\"y\",\"type\":\"bar\"}],                        {\"template\":{\"data\":{\"histogram2dcontour\":[{\"type\":\"histogram2dcontour\",\"colorbar\":{\"outlinewidth\":0,\"ticks\":\"\"},\"colorscale\":[[0.0,\"#0d0887\"],[0.1111111111111111,\"#46039f\"],[0.2222222222222222,\"#7201a8\"],[0.3333333333333333,\"#9c179e\"],[0.4444444444444444,\"#bd3786\"],[0.5555555555555556,\"#d8576b\"],[0.6666666666666666,\"#ed7953\"],[0.7777777777777778,\"#fb9f3a\"],[0.8888888888888888,\"#fdca26\"],[1.0,\"#f0f921\"]]}],\"choropleth\":[{\"type\":\"choropleth\",\"colorbar\":{\"outlinewidth\":0,\"ticks\":\"\"}}],\"histogram2d\":[{\"type\":\"histogram2d\",\"colorbar\":{\"outlinewidth\":0,\"ticks\":\"\"},\"colorscale\":[[0.0,\"#0d0887\"],[0.1111111111111111,\"#46039f\"],[0.2222222222222222,\"#7201a8\"],[0.3333333333333333,\"#9c179e\"],[0.4444444444444444,\"#bd3786\"],[0.5555555555555556,\"#d8576b\"],[0.6666666666666666,\"#ed7953\"],[0.7777777777777778,\"#fb9f3a\"],[0.8888888888888888,\"#fdca26\"],[1.0,\"#f0f921\"]]}],\"heatmap\":[{\"type\":\"heatmap\",\"colorbar\":{\"outlinewidth\":0,\"ticks\":\"\"},\"colorscale\":[[0.0,\"#0d0887\"],[0.1111111111111111,\"#46039f\"],[0.2222222222222222,\"#7201a8\"],[0.3333333333333333,\"#9c179e\"],[0.4444444444444444,\"#bd3786\"],[0.5555555555555556,\"#d8576b\"],[0.6666666666666666,\"#ed7953\"],[0.7777777777777778,\"#fb9f3a\"],[0.8888888888888888,\"#fdca26\"],[1.0,\"#f0f921\"]]}],\"heatmapgl\":[{\"type\":\"heatmapgl\",\"colorbar\":{\"outlinewidth\":0,\"ticks\":\"\"},\"colorscale\":[[0.0,\"#0d0887\"],[0.1111111111111111,\"#46039f\"],[0.2222222222222222,\"#7201a8\"],[0.3333333333333333,\"#9c179e\"],[0.4444444444444444,\"#bd3786\"],[0.5555555555555556,\"#d8576b\"],[0.6666666666666666,\"#ed7953\"],[0.7777777777777778,\"#fb9f3a\"],[0.8888888888888888,\"#fdca26\"],[1.0,\"#f0f921\"]]}],\"contourcarpet\":[{\"type\":\"contourcarpet\",\"colorbar\":{\"outlinewidth\":0,\"ticks\":\"\"}}],\"contour\":[{\"type\":\"contour\",\"colorbar\":{\"outlinewidth\":0,\"ticks\":\"\"},\"colorscale\":[[0.0,\"#0d0887\"],[0.1111111111111111,\"#46039f\"],[0.2222222222222222,\"#7201a8\"],[0.3333333333333333,\"#9c179e\"],[0.4444444444444444,\"#bd3786\"],[0.5555555555555556,\"#d8576b\"],[0.6666666666666666,\"#ed7953\"],[0.7777777777777778,\"#fb9f3a\"],[0.8888888888888888,\"#fdca26\"],[1.0,\"#f0f921\"]]}],\"surface\":[{\"type\":\"surface\",\"colorbar\":{\"outlinewidth\":0,\"ticks\":\"\"},\"colorscale\":[[0.0,\"#0d0887\"],[0.1111111111111111,\"#46039f\"],[0.2222222222222222,\"#7201a8\"],[0.3333333333333333,\"#9c179e\"],[0.4444444444444444,\"#bd3786\"],[0.5555555555555556,\"#d8576b\"],[0.6666666666666666,\"#ed7953\"],[0.7777777777777778,\"#fb9f3a\"],[0.8888888888888888,\"#fdca26\"],[1.0,\"#f0f921\"]]}],\"mesh3d\":[{\"type\":\"mesh3d\",\"colorbar\":{\"outlinewidth\":0,\"ticks\":\"\"}}],\"scatter\":[{\"fillpattern\":{\"fillmode\":\"overlay\",\"size\":10,\"solidity\":0.2},\"type\":\"scatter\"}],\"parcoords\":[{\"type\":\"parcoords\",\"line\":{\"colorbar\":{\"outlinewidth\":0,\"ticks\":\"\"}}}],\"scatterpolargl\":[{\"type\":\"scatterpolargl\",\"marker\":{\"colorbar\":{\"outlinewidth\":0,\"ticks\":\"\"}}}],\"bar\":[{\"error_x\":{\"color\":\"#2a3f5f\"},\"error_y\":{\"color\":\"#2a3f5f\"},\"marker\":{\"line\":{\"color\":\"#E5ECF6\",\"width\":0.5},\"pattern\":{\"fillmode\":\"overlay\",\"size\":10,\"solidity\":0.2}},\"type\":\"bar\"}],\"scattergeo\":[{\"type\":\"scattergeo\",\"marker\":{\"colorbar\":{\"outlinewidth\":0,\"ticks\":\"\"}}}],\"scatterpolar\":[{\"type\":\"scatterpolar\",\"marker\":{\"colorbar\":{\"outlinewidth\":0,\"ticks\":\"\"}}}],\"histogram\":[{\"marker\":{\"pattern\":{\"fillmode\":\"overlay\",\"size\":10,\"solidity\":0.2}},\"type\":\"histogram\"}],\"scattergl\":[{\"type\":\"scattergl\",\"marker\":{\"colorbar\":{\"outlinewidth\":0,\"ticks\":\"\"}}}],\"scatter3d\":[{\"type\":\"scatter3d\",\"line\":{\"colorbar\":{\"outlinewidth\":0,\"ticks\":\"\"}},\"marker\":{\"colorbar\":{\"outlinewidth\":0,\"ticks\":\"\"}}}],\"scattermapbox\":[{\"type\":\"scattermapbox\",\"marker\":{\"colorbar\":{\"outlinewidth\":0,\"ticks\":\"\"}}}],\"scatterternary\":[{\"type\":\"scatterternary\",\"marker\":{\"colorbar\":{\"outlinewidth\":0,\"ticks\":\"\"}}}],\"scattercarpet\":[{\"type\":\"scattercarpet\",\"marker\":{\"colorbar\":{\"outlinewidth\":0,\"ticks\":\"\"}}}],\"carpet\":[{\"aaxis\":{\"endlinecolor\":\"#2a3f5f\",\"gridcolor\":\"white\",\"linecolor\":\"white\",\"minorgridcolor\":\"white\",\"startlinecolor\":\"#2a3f5f\"},\"baxis\":{\"endlinecolor\":\"#2a3f5f\",\"gridcolor\":\"white\",\"linecolor\":\"white\",\"minorgridcolor\":\"white\",\"startlinecolor\":\"#2a3f5f\"},\"type\":\"carpet\"}],\"table\":[{\"cells\":{\"fill\":{\"color\":\"#EBF0F8\"},\"line\":{\"color\":\"white\"}},\"header\":{\"fill\":{\"color\":\"#C8D4E3\"},\"line\":{\"color\":\"white\"}},\"type\":\"table\"}],\"barpolar\":[{\"marker\":{\"line\":{\"color\":\"#E5ECF6\",\"width\":0.5},\"pattern\":{\"fillmode\":\"overlay\",\"size\":10,\"solidity\":0.2}},\"type\":\"barpolar\"}],\"pie\":[{\"automargin\":true,\"type\":\"pie\"}]},\"layout\":{\"autotypenumbers\":\"strict\",\"colorway\":[\"#636efa\",\"#EF553B\",\"#00cc96\",\"#ab63fa\",\"#FFA15A\",\"#19d3f3\",\"#FF6692\",\"#B6E880\",\"#FF97FF\",\"#FECB52\"],\"font\":{\"color\":\"#2a3f5f\"},\"hovermode\":\"closest\",\"hoverlabel\":{\"align\":\"left\"},\"paper_bgcolor\":\"white\",\"plot_bgcolor\":\"#E5ECF6\",\"polar\":{\"bgcolor\":\"#E5ECF6\",\"angularaxis\":{\"gridcolor\":\"white\",\"linecolor\":\"white\",\"ticks\":\"\"},\"radialaxis\":{\"gridcolor\":\"white\",\"linecolor\":\"white\",\"ticks\":\"\"}},\"ternary\":{\"bgcolor\":\"#E5ECF6\",\"aaxis\":{\"gridcolor\":\"white\",\"linecolor\":\"white\",\"ticks\":\"\"},\"baxis\":{\"gridcolor\":\"white\",\"linecolor\":\"white\",\"ticks\":\"\"},\"caxis\":{\"gridcolor\":\"white\",\"linecolor\":\"white\",\"ticks\":\"\"}},\"coloraxis\":{\"colorbar\":{\"outlinewidth\":0,\"ticks\":\"\"}},\"colorscale\":{\"sequential\":[[0.0,\"#0d0887\"],[0.1111111111111111,\"#46039f\"],[0.2222222222222222,\"#7201a8\"],[0.3333333333333333,\"#9c179e\"],[0.4444444444444444,\"#bd3786\"],[0.5555555555555556,\"#d8576b\"],[0.6666666666666666,\"#ed7953\"],[0.7777777777777778,\"#fb9f3a\"],[0.8888888888888888,\"#fdca26\"],[1.0,\"#f0f921\"]],\"sequentialminus\":[[0.0,\"#0d0887\"],[0.1111111111111111,\"#46039f\"],[0.2222222222222222,\"#7201a8\"],[0.3333333333333333,\"#9c179e\"],[0.4444444444444444,\"#bd3786\"],[0.5555555555555556,\"#d8576b\"],[0.6666666666666666,\"#ed7953\"],[0.7777777777777778,\"#fb9f3a\"],[0.8888888888888888,\"#fdca26\"],[1.0,\"#f0f921\"]],\"diverging\":[[0,\"#8e0152\"],[0.1,\"#c51b7d\"],[0.2,\"#de77ae\"],[0.3,\"#f1b6da\"],[0.4,\"#fde0ef\"],[0.5,\"#f7f7f7\"],[0.6,\"#e6f5d0\"],[0.7,\"#b8e186\"],[0.8,\"#7fbc41\"],[0.9,\"#4d9221\"],[1,\"#276419\"]]},\"xaxis\":{\"gridcolor\":\"white\",\"linecolor\":\"white\",\"ticks\":\"\",\"title\":{\"standoff\":15},\"zerolinecolor\":\"white\",\"automargin\":true,\"zerolinewidth\":2},\"yaxis\":{\"gridcolor\":\"white\",\"linecolor\":\"white\",\"ticks\":\"\",\"title\":{\"standoff\":15},\"zerolinecolor\":\"white\",\"automargin\":true,\"zerolinewidth\":2},\"scene\":{\"xaxis\":{\"backgroundcolor\":\"#E5ECF6\",\"gridcolor\":\"white\",\"linecolor\":\"white\",\"showbackground\":true,\"ticks\":\"\",\"zerolinecolor\":\"white\",\"gridwidth\":2},\"yaxis\":{\"backgroundcolor\":\"#E5ECF6\",\"gridcolor\":\"white\",\"linecolor\":\"white\",\"showbackground\":true,\"ticks\":\"\",\"zerolinecolor\":\"white\",\"gridwidth\":2},\"zaxis\":{\"backgroundcolor\":\"#E5ECF6\",\"gridcolor\":\"white\",\"linecolor\":\"white\",\"showbackground\":true,\"ticks\":\"\",\"zerolinecolor\":\"white\",\"gridwidth\":2}},\"shapedefaults\":{\"line\":{\"color\":\"#2a3f5f\"}},\"annotationdefaults\":{\"arrowcolor\":\"#2a3f5f\",\"arrowhead\":0,\"arrowwidth\":1},\"geo\":{\"bgcolor\":\"white\",\"landcolor\":\"#E5ECF6\",\"subunitcolor\":\"white\",\"showland\":true,\"showlakes\":true,\"lakecolor\":\"white\"},\"title\":{\"x\":0.05},\"mapbox\":{\"style\":\"light\"}}},\"xaxis\":{\"anchor\":\"y\",\"domain\":[0.0,1.0],\"title\":{\"text\":\"Sector\"},\"categoryorder\":\"category ascending\"},\"yaxis\":{\"anchor\":\"x\",\"domain\":[0.0,1.0],\"title\":{\"text\":\"Supply Chain Emission Factors with Margins\"}},\"legend\":{\"tracegroupgap\":0},\"title\":{\"text\":\"Stacked Bar Chart with Contribution\"},\"barmode\":\"relative\",\"height\":1000,\"width\":1100},                        {\"responsive\": true}                    ).then(function(){\n",
       "                            \n",
       "var gd = document.getElementById('10f33567-5045-44a3-8059-4de7dbb51c3c');\n",
       "var x = new MutationObserver(function (mutations, observer) {{\n",
       "        var display = window.getComputedStyle(gd).display;\n",
       "        if (!display || display === 'none') {{\n",
       "            console.log([gd, 'removed!']);\n",
       "            Plotly.purge(gd);\n",
       "            observer.disconnect();\n",
       "        }}\n",
       "}});\n",
       "\n",
       "// Listen for the removal of the full notebook cells\n",
       "var notebookContainer = gd.closest('#notebook-container');\n",
       "if (notebookContainer) {{\n",
       "    x.observe(notebookContainer, {childList: true});\n",
       "}}\n",
       "\n",
       "// Listen for the clearing of the current output cell\n",
       "var outputEl = gd.closest('.output');\n",
       "if (outputEl) {{\n",
       "    x.observe(outputEl, {childList: true});\n",
       "}}\n",
       "\n",
       "                        })                };                });            </script>        </div>"
      ]
     },
     "metadata": {},
     "output_type": "display_data"
    }
   ],
   "source": [
    "fig = px.bar(df, x='Sector', y='Supply Chain Emission Factors with Margins', title='Stacked Bar Chart with Contribution', \n",
    "             hover_data=['2017 NAICS Title'], height=1000, width=1100)\n",
    "fig.update_traces(showlegend=False)\n",
    "fig.update_xaxes(categoryorder=\"category ascending\")\n",
    "fig.show()"
   ]
  },
  {
   "cell_type": "code",
   "execution_count": null,
   "id": "ffd7cd1f-4651-4d6c-8b5b-4aebba3a4b6f",
   "metadata": {},
   "outputs": [],
   "source": []
  }
 ],
 "metadata": {
  "kernelspec": {
   "display_name": "Python 3 (ipykernel)",
   "language": "python",
   "name": "python3"
  },
  "language_info": {
   "codemirror_mode": {
    "name": "ipython",
    "version": 3
   },
   "file_extension": ".py",
   "mimetype": "text/x-python",
   "name": "python",
   "nbconvert_exporter": "python",
   "pygments_lexer": "ipython3",
   "version": "3.12.1"
  }
 },
 "nbformat": 4,
 "nbformat_minor": 5
}
